{
 "cells": [
  {
   "cell_type": "code",
   "execution_count": 1,
   "metadata": {
    "collapsed": true,
    "pycharm": {
     "is_executing": false
    }
   },
   "outputs": [],
   "source": [
    "%matplotlib inline\n",
    "\n",
    "import pandas as pd\n",
    "import numpy as np\n",
    "import warnings"
   ]
  },
  {
   "cell_type": "code",
   "execution_count": 2,
   "outputs": [],
   "source": [
    "warnings.filterwarnings('ignore')\n",
    "train = pd.read_hdf('../input/train.h5')\n",
    "train_label = train.drop_duplicates('ship')\n",
    "type_map = dict(zip(train_label['type'].unique(), np.arange(3)))\n",
    "# rev means a reversed map relation\n",
    "type_map_rev = {v:k for k,v in type_map.items()} \n",
    "train_label['type'] = train_label['type'].map(type_map)\n",
    "\n",
    "def extract_dt(df):\n",
    "    df['time'] = pd.to_datetime(df['time'], format='%m%d %H:%M:%S')\n",
    "    # df['month'] = df['time'].dt.month\n",
    "    # df['day'] = df['time'].dt.day\n",
    "    df['date'] = df['time'].dt.date\n",
    "    df['hour'] = df['time'].dt.hour\n",
    "    # df = df.drop_duplicates(['ship','month'])\n",
    "    df['weekday'] = df['time'].dt.weekday\n",
    "    return df\n",
    "train = extract_dt(train)"
   ],
   "metadata": {
    "collapsed": false,
    "pycharm": {
     "name": "#%%\n",
     "is_executing": false
    }
   }
  },
  {
   "cell_type": "code",
   "execution_count": 3,
   "outputs": [],
   "source": [
    "def group_feature(df, key, target, aggs):   \n",
    "    agg_dict = {}\n",
    "    for ag in aggs:\n",
    "        agg_dict[f'{target}_{ag}'] = ag\n",
    "    print(agg_dict)\n",
    "    t = df.groupby(key)[target].agg(agg_dict).reset_index()\n",
    "    return t\n",
    "\n",
    "def extract_feature(df, train_feature):\n",
    "    t = group_feature(df, 'ship','x',['max','min','mean','std','skew','sum'])\n",
    "    train_feature = pd.merge(train_feature, t, on='ship', how='left')\n",
    "    t = group_feature(df, 'ship','x',['count'])\n",
    "    train_feature = pd.merge(train_feature, t, on='ship', how='left')\n",
    "    t = group_feature(df, 'ship','y',['max','min','mean','std','skew','sum'])\n",
    "    train_feature = pd.merge(train_feature, t, on='ship', how='left')\n",
    "    t = group_feature(df, 'ship','v',['max','min','mean','std','skew','sum'])\n",
    "    train_feature = pd.merge(train_feature, t, on='ship', how='left')\n",
    "    t = group_feature(df, 'ship','d',['max','min','mean','std','skew','sum'])\n",
    "    train_feature = pd.merge(train_feature, t, on='ship', how='left')\n",
    "    train_feature['x_max_x_min'] = train_feature['x_max'] - train_feature['x_min']\n",
    "    train_feature['y_max_y_min'] = train_feature['y_max'] - train_feature['y_min']\n",
    "    train_feature['y_max_x_min'] = train_feature['y_max'] - train_feature['x_min']\n",
    "    train_feature['x_max_y_min'] = train_feature['x_max'] - train_feature['y_min']\n",
    "    train_feature['slope'] = train_feature['y_max_y_min'] / np.where(train_feature['x_max_x_min']==0, 0.001, train_feature['x_max_x_min'])\n",
    "    train_feature['area'] = train_feature['x_max_x_min'] * train_feature['y_max_y_min']\n",
    "    \n",
    "    mode_hour = df.groupby('ship')['hour'].agg(lambda x:x.value_counts().index[0]).to_dict()\n",
    "    train_feature['mode_hour'] = train_feature['ship'].map(mode_hour)\n",
    "    \n",
    "    t = group_feature(df, 'ship','hour',['max','min'])\n",
    "    train_feature = pd.merge(train_feature, t, on='ship', how='left')\n",
    "    \n",
    "    hour_nunique = df.groupby('ship')['hour'].nunique().to_dict()\n",
    "    date_nunique = df.groupby('ship')['date'].nunique().to_dict()\n",
    "    train_feature['hour_nunique'] = train_feature['ship'].map(hour_nunique)\n",
    "    train_feature['date_nunique'] = train_feature['ship'].map(date_nunique)\n",
    "\n",
    "    t = df.groupby('ship')['time'].agg({'diff_time':lambda x:np.max(x)-np.min(x)}).reset_index()\n",
    "    t['diff_day'] = t['diff_time'].dt.days\n",
    "    t['diff_second'] = t['diff_time'].dt.seconds\n",
    "    train_feature = pd.merge(train_feature, t, on='ship', how='left')\n",
    "    return train_feature"
   ],
   "metadata": {
    "collapsed": false,
    "pycharm": {
     "name": "#%%\n",
     "is_executing": false
    }
   }
  },
  {
   "cell_type": "code",
   "execution_count": null,
   "outputs": [],
   "source": [
    "#this function will get an n-2 length series\n",
    "def translation_forward(list_in,n):\n",
    "    for i in range(n):\n",
    "        list_in.pop(0)\n",
    "    return list_in\n",
    "\n",
    "def area_tri(groupbied):\n",
    "    # area_triangle=[]change to dataframe\n",
    "    # 创建空DataFrame\n",
    "    area_triangle = pd.DataFrame(columns = ['ship','time','area_3','Line_2','eff_a_l','eff_a_t']) \n",
    "    ship_id=groupbied.drop_duplicates('ship',keep='first',inplace=False)['ship']\n",
    "    x1_list=list(groupbied['x'])\n",
    "    y1_list=list(groupbied['y'])\n",
    "    x2_list=list(translation_forward(x1_list,1))\n",
    "    y2_list=list(translation_forward(y1_list,1))\n",
    "    x3_list=list(translation_forward(x2_list,1))\n",
    "    y3_list=list(translation_forward(y2_list,1))\n",
    "    t=list(groupbied['time'])\n",
    "    delta_t=list(groupbied['diff_time'])\n",
    "    for x1, y1, x2, y2, x3, y3, cur_t, diff_t in zip(x1_list,y1_list,x2_list,y2_list,x3_list,y3_list,t,delta_t):\n",
    "        a=np.sqrt((x2-x3)**2+(y2-y3)**2)\n",
    "        b=np.sqrt((x1-x3)**2+(y1-y3)**2)\n",
    "        c=np.sqrt((x1-x2)**2+(y1-y2)**2)\n",
    "        s = (a + b + c) / 2\n",
    "        l=a+c\n",
    "        eff_area_line=s/l if l!=0 else 0\n",
    "        eff_area_diff_t=s/diff_t if diff_t!=0 else 0\n",
    "        # area_triangle.append(s)\n",
    "        temp_df={'ship':ship_id, 'time':cur_t, 'area_3':s,'Line_2':l,'eff_a_l':eff_area_line,'eff_a_t':eff_area_diff_t}\n",
    "        area_triangle = area_triangle.append(temp_df,ignore_index=True)\n",
    "    return area_triangle\n"
   ],
   "metadata": {
    "collapsed": false,
    "pycharm": {
     "name": "#%%\n",
     "is_executing": true
    }
   }
  },
  {
   "cell_type": "code",
   "execution_count": 102,
   "outputs": [],
   "source": [
    "train = pd.read_hdf('../input/train.h5')\n",
    "test = pd.read_hdf('../input/test.h5')\n",
    "train = extract_dt(train)\n",
    "test = extract_dt(test)"
   ],
   "metadata": {
    "collapsed": false,
    "pycharm": {
     "name": "#%%\n",
     "is_executing": false
    }
   }
  },
  {
   "cell_type": "code",
   "execution_count": 103,
   "outputs": [
    {
     "name": "stdout",
     "text": [
      "RangeIndex(start=0, stop=2699638, step=1)\n"
     ],
     "output_type": "stream"
    }
   ],
   "source": [
    "#add more information about distribution on dist and time\n",
    "train_order=train.groupby('ship').apply(lambda x: x.sort_values('time',ascending=True))\n",
    "train_order.reset_index(level=0,drop=True,inplace=True)# save the inner index number step#1\n",
    "train_order.index.name ='inner_rev_index'# save the inner index number step#2\n",
    "train_order.reset_index(drop=False,inplace=True)#add 0-N index\n",
    "print(train_order.index)\n",
    "train_order['inner_ord_index']=train.index#use the former subIndex to Mark the t0-tN\n"
   ],
   "metadata": {
    "collapsed": false,
    "pycharm": {
     "name": "#%%\n",
     "is_executing": false
    }
   }
  },
  {
   "cell_type": "code",
   "execution_count": 116,
   "outputs": [],
   "source": [
    "train_order['diff_time']=pd.DataFrame(train_order.groupby('ship').apply(lambda x:x['time'].diff()/np.timedelta64(1, 'h'))).reset_index()['time']\n",
    "train_order['diff_dist']=pd.DataFrame(train_order.groupby('ship').apply(lambda x:np.sqrt(x['x'].diff()**2+x['y'].diff()**2))).reset_index()[0]\n",
    "train_order['est_v']=pd.DataFrame(train_order.groupby('ship').apply(lambda x:x['diff_dist']/x['diff_time'])).reset_index()[0]\n",
    "train_order['est_diff_dist']=pd.DataFrame(train_order.groupby('ship').apply(lambda x:x['v']*x['diff_time']*1852)).reset_index()[0]"
   ],
   "metadata": {
    "collapsed": false,
    "pycharm": {
     "name": "#%%\n",
     "is_executing": false
    }
   }
  },
  {
   "cell_type": "code",
   "execution_count": 104,
   "outputs": [],
   "source": [
    "# 试着在外部先去掉相邻重复项 No need\n",
    "# temp=pd.DataFrame(train_order.groupby('ship').apply(area_tri)).reset_index()"
   ],
   "metadata": {
    "collapsed": false,
    "pycharm": {
     "name": "#%%\n",
     "is_executing": false
    }
   }
  },
  {
   "cell_type": "code",
   "execution_count": 111,
   "outputs": [
    {
     "data": {
      "text/plain": "count                                                  7000\nunique                                                 6889\ntop       [0.0, 0.0, 0.0, 0.0, 0.0, 0.0, 0.0, 0.0, 0.0, ...\nfreq                                                     10\ndtype: object"
     },
     "metadata": {},
     "output_type": "execute_result",
     "execution_count": 111
    }
   ],
   "source": [
    "# temp.describe()"
   ],
   "metadata": {
    "collapsed": false,
    "pycharm": {
     "name": "#%%\n",
     "is_executing": false
    }
   }
  },
  {
   "cell_type": "code",
   "execution_count": null,
   "outputs": [],
   "source": [
    "temp=train_order.groupby('ship').apply(area_tri)\n",
    "temp"
   ],
   "metadata": {
    "collapsed": false,
    "pycharm": {
     "name": "#%%\n",
     "is_executing": true
    }
   }
  },
  {
   "cell_type": "code",
   "execution_count": 87,
   "outputs": [
    {
     "data": {
      "text/plain": "                                                      0\nship                                                   \n0     [0.0, 0.0, 0.0, 0.0, 0.0, 0.0, 0.0, 0.0, 0.0, ...\n1     [0.0, 0.0, 0.0, 0.0, 0.0, 0.0, 0.0, 0.0, 0.0, ...\n2     [0.0, 0.0, 0.0, 0.0, 0.0, 0.0, 0.0, 0.0, 0.0, ...\n3     [0.0, 0.0, 1162.9152806630425, 992.94362556649...\n4     [0.0, 93.27571855040479, 93.27571855040479, 0....\n5     [0.0, 0.0, 0.0, 0.0, 98.09530262414417, 98.095...\n6     [1157.6321676505852, 1338.9765813810914, 1004....\n7     [0.0, 0.0, 0.0, 0.0, 0.0, 0.0, 0.0, 0.0, 0.0, ...\n8     [1061.1585352788256, 1190.4300084463305, 1153....\n9     [0.0, 0.0, 0.0, 0.0, 0.0, 0.0, 0.0, 0.0, 0.0, ...\n10    [0.0, 109.42747206936704, 109.42747206936704, ...\n11    [0.0, 0.0, 109.46282580257194, 0.0, 0.0, 0.0, ...\n12    [954.8002989585325, 954.8168001355841, 1045.40...\n13    [0.0, 0.0, 0.0, 0.0, 0.0, 0.0, 0.0, 0.0, 0.0, ...\n14    [0.0, 109.42851863034547, 0.0, 109.42851863034...\n15    [148.39487907083213, 98.21489180117148, 148.39...\n16    [775.3958867179202, 768.9367076392092, 768.951...\n17    [0.0, 0.0, 0.0, 0.0, 0.0, 0.0, 0.0, 0.0, 0.0, ...\n18    [0.0, 0.0, 0.0, 0.0, 0.0, 0.0, 0.0, 0.0, 0.0, ...\n19    [3207.894162803933, 545.64856338268, 511.76070...\n20    [0.0, 110.3236032104745, 98.03011621679916, 11...\n21    [0.0, 0.0, 0.0, 0.0, 0.0, 0.0, 0.0, 0.0, 0.0, ...\n22    [1326.4250663502273, 1547.5342576050693, 1330....\n23    [1120.9471948259443, 1204.0787197575469, 1416....\n24    [892.4238606005466, 892.4243513296594, 743.687...\n25    [798.2413516467085, 828.5563592436159, 772.120...\n26    [0.0, 0.0, 0.0, 0.0, 0.0, 0.0, 0.0, 0.0, 0.0, ...\n27    [0.0, 0.0, 0.0, 109.27021171925385, 109.270211...\n28    [0.0, 0.0, 0.0, 0.0, 0.0, 0.0, 0.0, 0.0, 0.0, ...\n29    [0.0, 0.0, 0.0, 0.0, 0.0, 109.37620781822099, ...\n...                                                 ...\n6970  [1359.5403696354224, 1448.8376858439656, 1268....\n6971  [1794.2926207957116, 0.0, 891.2878832124896, 8...\n6972  [678.7726224886288, 1019.7178006768196, 1127.5...\n6973  [0.0, 109.12867942295966, 0.0, 109.12867942295...\n6974  [0.0, 0.0, 148.63894578491127, 0.0, 148.638945...\n6975  [1202.6975348666663, 1347.2943503729437, 1202....\n6976  [368.1433890966052, 514.0984011179658, 368.132...\n6977  [0.0, 0.0, 0.0, 0.0, 0.0, 0.0, 0.0, 0.0, 0.0, ...\n6978  [0.0, 93.16533648076076, 0.0, 0.0, 0.0, 0.0, 1...\n6979  [109.69810582097186, 0.0, 0.0, 0.0, 0.0, 0.0, ...\n6980  [0.0, 0.0, 0.0, 0.0, 0.0, 0.0, 0.0, 0.0, 0.0, ...\n6981  [0.0, 0.0, 0.0, 0.0, 0.0, 0.0, 0.0, 0.0, 0.0, ...\n6982  [3555.2908086166985, 2478.922463957817, 0.0, 1...\n6983  [585.0858247200495, 667.3427905172287, 841.384...\n6984  [2175.9248544067705, 1955.8847732348752, 1959....\n6985  [101.17655457803419, 101.17655457803419, 0.0, ...\n6986  [0.0, 0.0, 0.0, 0.0, 0.0, 0.0, 0.0, 0.0, 0.0, ...\n6987  [0.0, 0.0, 111.05816699965082, 111.05816699965...\n6988  [0.0, 0.0, 0.0, 0.0, 0.0, 0.0, 0.0, 0.0, 0.0, ...\n6989  [0.0, 0.0, 0.0, 0.0, 109.2664992530482, 303.86...\n6990  [7042.7687146838625, 2198.1580047341417, 2328....\n6991  [0.0, 0.0, 99.98361393493367, 0.0, 0.0, 0.0, 0...\n6992  [0.0, 0.0, 93.62562731732582, 0.0, 0.0, 0.0, 0...\n6993  [0.0, 0.0, 0.0, 0.0, 0.0, 0.0, 0.0, 0.0, 0.0, ...\n6994  [0.0, 0.0, 0.0, 0.0, 0.0, 0.0, 0.0, 0.0, 0.0, ...\n6995  [0.0, 0.0, 0.0, 100.86575049357342, 100.865750...\n6996  [2492.672901306266, 1256.1003597565636, 1253.7...\n6997  [0.0, 1547.8884097810333, 425.5159325809223, 0...\n6998  [0.0, 0.0, 0.0, 0.0, 0.0, 0.0, 0.0, 0.0, 0.0, ...\n6999  [218.13044449194058, 1562.9243581022813, 1505....\n\n[7000 rows x 1 columns]",
      "text/html": "<div>\n<style scoped>\n    .dataframe tbody tr th:only-of-type {\n        vertical-align: middle;\n    }\n\n    .dataframe tbody tr th {\n        vertical-align: top;\n    }\n\n    .dataframe thead th {\n        text-align: right;\n    }\n</style>\n<table border=\"1\" class=\"dataframe\">\n  <thead>\n    <tr style=\"text-align: right;\">\n      <th></th>\n      <th>0</th>\n    </tr>\n    <tr>\n      <th>ship</th>\n      <th></th>\n    </tr>\n  </thead>\n  <tbody>\n    <tr>\n      <th>0</th>\n      <td>[0.0, 0.0, 0.0, 0.0, 0.0, 0.0, 0.0, 0.0, 0.0, ...</td>\n    </tr>\n    <tr>\n      <th>1</th>\n      <td>[0.0, 0.0, 0.0, 0.0, 0.0, 0.0, 0.0, 0.0, 0.0, ...</td>\n    </tr>\n    <tr>\n      <th>2</th>\n      <td>[0.0, 0.0, 0.0, 0.0, 0.0, 0.0, 0.0, 0.0, 0.0, ...</td>\n    </tr>\n    <tr>\n      <th>3</th>\n      <td>[0.0, 0.0, 1162.9152806630425, 992.94362556649...</td>\n    </tr>\n    <tr>\n      <th>4</th>\n      <td>[0.0, 93.27571855040479, 93.27571855040479, 0....</td>\n    </tr>\n    <tr>\n      <th>5</th>\n      <td>[0.0, 0.0, 0.0, 0.0, 98.09530262414417, 98.095...</td>\n    </tr>\n    <tr>\n      <th>6</th>\n      <td>[1157.6321676505852, 1338.9765813810914, 1004....</td>\n    </tr>\n    <tr>\n      <th>7</th>\n      <td>[0.0, 0.0, 0.0, 0.0, 0.0, 0.0, 0.0, 0.0, 0.0, ...</td>\n    </tr>\n    <tr>\n      <th>8</th>\n      <td>[1061.1585352788256, 1190.4300084463305, 1153....</td>\n    </tr>\n    <tr>\n      <th>9</th>\n      <td>[0.0, 0.0, 0.0, 0.0, 0.0, 0.0, 0.0, 0.0, 0.0, ...</td>\n    </tr>\n    <tr>\n      <th>10</th>\n      <td>[0.0, 109.42747206936704, 109.42747206936704, ...</td>\n    </tr>\n    <tr>\n      <th>11</th>\n      <td>[0.0, 0.0, 109.46282580257194, 0.0, 0.0, 0.0, ...</td>\n    </tr>\n    <tr>\n      <th>12</th>\n      <td>[954.8002989585325, 954.8168001355841, 1045.40...</td>\n    </tr>\n    <tr>\n      <th>13</th>\n      <td>[0.0, 0.0, 0.0, 0.0, 0.0, 0.0, 0.0, 0.0, 0.0, ...</td>\n    </tr>\n    <tr>\n      <th>14</th>\n      <td>[0.0, 109.42851863034547, 0.0, 109.42851863034...</td>\n    </tr>\n    <tr>\n      <th>15</th>\n      <td>[148.39487907083213, 98.21489180117148, 148.39...</td>\n    </tr>\n    <tr>\n      <th>16</th>\n      <td>[775.3958867179202, 768.9367076392092, 768.951...</td>\n    </tr>\n    <tr>\n      <th>17</th>\n      <td>[0.0, 0.0, 0.0, 0.0, 0.0, 0.0, 0.0, 0.0, 0.0, ...</td>\n    </tr>\n    <tr>\n      <th>18</th>\n      <td>[0.0, 0.0, 0.0, 0.0, 0.0, 0.0, 0.0, 0.0, 0.0, ...</td>\n    </tr>\n    <tr>\n      <th>19</th>\n      <td>[3207.894162803933, 545.64856338268, 511.76070...</td>\n    </tr>\n    <tr>\n      <th>20</th>\n      <td>[0.0, 110.3236032104745, 98.03011621679916, 11...</td>\n    </tr>\n    <tr>\n      <th>21</th>\n      <td>[0.0, 0.0, 0.0, 0.0, 0.0, 0.0, 0.0, 0.0, 0.0, ...</td>\n    </tr>\n    <tr>\n      <th>22</th>\n      <td>[1326.4250663502273, 1547.5342576050693, 1330....</td>\n    </tr>\n    <tr>\n      <th>23</th>\n      <td>[1120.9471948259443, 1204.0787197575469, 1416....</td>\n    </tr>\n    <tr>\n      <th>24</th>\n      <td>[892.4238606005466, 892.4243513296594, 743.687...</td>\n    </tr>\n    <tr>\n      <th>25</th>\n      <td>[798.2413516467085, 828.5563592436159, 772.120...</td>\n    </tr>\n    <tr>\n      <th>26</th>\n      <td>[0.0, 0.0, 0.0, 0.0, 0.0, 0.0, 0.0, 0.0, 0.0, ...</td>\n    </tr>\n    <tr>\n      <th>27</th>\n      <td>[0.0, 0.0, 0.0, 109.27021171925385, 109.270211...</td>\n    </tr>\n    <tr>\n      <th>28</th>\n      <td>[0.0, 0.0, 0.0, 0.0, 0.0, 0.0, 0.0, 0.0, 0.0, ...</td>\n    </tr>\n    <tr>\n      <th>29</th>\n      <td>[0.0, 0.0, 0.0, 0.0, 0.0, 109.37620781822099, ...</td>\n    </tr>\n    <tr>\n      <th>...</th>\n      <td>...</td>\n    </tr>\n    <tr>\n      <th>6970</th>\n      <td>[1359.5403696354224, 1448.8376858439656, 1268....</td>\n    </tr>\n    <tr>\n      <th>6971</th>\n      <td>[1794.2926207957116, 0.0, 891.2878832124896, 8...</td>\n    </tr>\n    <tr>\n      <th>6972</th>\n      <td>[678.7726224886288, 1019.7178006768196, 1127.5...</td>\n    </tr>\n    <tr>\n      <th>6973</th>\n      <td>[0.0, 109.12867942295966, 0.0, 109.12867942295...</td>\n    </tr>\n    <tr>\n      <th>6974</th>\n      <td>[0.0, 0.0, 148.63894578491127, 0.0, 148.638945...</td>\n    </tr>\n    <tr>\n      <th>6975</th>\n      <td>[1202.6975348666663, 1347.2943503729437, 1202....</td>\n    </tr>\n    <tr>\n      <th>6976</th>\n      <td>[368.1433890966052, 514.0984011179658, 368.132...</td>\n    </tr>\n    <tr>\n      <th>6977</th>\n      <td>[0.0, 0.0, 0.0, 0.0, 0.0, 0.0, 0.0, 0.0, 0.0, ...</td>\n    </tr>\n    <tr>\n      <th>6978</th>\n      <td>[0.0, 93.16533648076076, 0.0, 0.0, 0.0, 0.0, 1...</td>\n    </tr>\n    <tr>\n      <th>6979</th>\n      <td>[109.69810582097186, 0.0, 0.0, 0.0, 0.0, 0.0, ...</td>\n    </tr>\n    <tr>\n      <th>6980</th>\n      <td>[0.0, 0.0, 0.0, 0.0, 0.0, 0.0, 0.0, 0.0, 0.0, ...</td>\n    </tr>\n    <tr>\n      <th>6981</th>\n      <td>[0.0, 0.0, 0.0, 0.0, 0.0, 0.0, 0.0, 0.0, 0.0, ...</td>\n    </tr>\n    <tr>\n      <th>6982</th>\n      <td>[3555.2908086166985, 2478.922463957817, 0.0, 1...</td>\n    </tr>\n    <tr>\n      <th>6983</th>\n      <td>[585.0858247200495, 667.3427905172287, 841.384...</td>\n    </tr>\n    <tr>\n      <th>6984</th>\n      <td>[2175.9248544067705, 1955.8847732348752, 1959....</td>\n    </tr>\n    <tr>\n      <th>6985</th>\n      <td>[101.17655457803419, 101.17655457803419, 0.0, ...</td>\n    </tr>\n    <tr>\n      <th>6986</th>\n      <td>[0.0, 0.0, 0.0, 0.0, 0.0, 0.0, 0.0, 0.0, 0.0, ...</td>\n    </tr>\n    <tr>\n      <th>6987</th>\n      <td>[0.0, 0.0, 111.05816699965082, 111.05816699965...</td>\n    </tr>\n    <tr>\n      <th>6988</th>\n      <td>[0.0, 0.0, 0.0, 0.0, 0.0, 0.0, 0.0, 0.0, 0.0, ...</td>\n    </tr>\n    <tr>\n      <th>6989</th>\n      <td>[0.0, 0.0, 0.0, 0.0, 109.2664992530482, 303.86...</td>\n    </tr>\n    <tr>\n      <th>6990</th>\n      <td>[7042.7687146838625, 2198.1580047341417, 2328....</td>\n    </tr>\n    <tr>\n      <th>6991</th>\n      <td>[0.0, 0.0, 99.98361393493367, 0.0, 0.0, 0.0, 0...</td>\n    </tr>\n    <tr>\n      <th>6992</th>\n      <td>[0.0, 0.0, 93.62562731732582, 0.0, 0.0, 0.0, 0...</td>\n    </tr>\n    <tr>\n      <th>6993</th>\n      <td>[0.0, 0.0, 0.0, 0.0, 0.0, 0.0, 0.0, 0.0, 0.0, ...</td>\n    </tr>\n    <tr>\n      <th>6994</th>\n      <td>[0.0, 0.0, 0.0, 0.0, 0.0, 0.0, 0.0, 0.0, 0.0, ...</td>\n    </tr>\n    <tr>\n      <th>6995</th>\n      <td>[0.0, 0.0, 0.0, 100.86575049357342, 100.865750...</td>\n    </tr>\n    <tr>\n      <th>6996</th>\n      <td>[2492.672901306266, 1256.1003597565636, 1253.7...</td>\n    </tr>\n    <tr>\n      <th>6997</th>\n      <td>[0.0, 1547.8884097810333, 425.5159325809223, 0...</td>\n    </tr>\n    <tr>\n      <th>6998</th>\n      <td>[0.0, 0.0, 0.0, 0.0, 0.0, 0.0, 0.0, 0.0, 0.0, ...</td>\n    </tr>\n    <tr>\n      <th>6999</th>\n      <td>[218.13044449194058, 1562.9243581022813, 1505....</td>\n    </tr>\n  </tbody>\n</table>\n<p>7000 rows × 1 columns</p>\n</div>"
     },
     "metadata": {},
     "output_type": "execute_result",
     "execution_count": 87
    }
   ],
   "source": [
    "# temp_test=pd.DataFrame(temp)\n",
    "# temp_test"
   ],
   "metadata": {
    "collapsed": false,
    "pycharm": {
     "name": "#%%\n",
     "is_executing": false
    }
   }
  },
  {
   "cell_type": "code",
   "execution_count": 115,
   "outputs": [
    {
     "data": {
      "text/plain": "     inner_rev_index  ship             x             y     v    d  \\\n414              384     1  6.102450e+06  5.112760e+06  0.00    0   \n415              383     1  6.102450e+06  5.112760e+06  0.05    0   \n416              382     1  6.102450e+06  5.112760e+06  0.00    0   \n417              381     1  6.102450e+06  5.112760e+06  0.00    0   \n418              380     1  6.102450e+06  5.112760e+06  0.05    0   \n419              379     1  6.102450e+06  5.112760e+06  0.00    0   \n420              378     1  6.102450e+06  5.112760e+06  0.05    0   \n421              377     1  6.102450e+06  5.112760e+06  0.00    0   \n422              376     1  6.102450e+06  5.112760e+06  0.05    0   \n423              375     1  6.102450e+06  5.112760e+06  0.05    0   \n424              374     1  6.102450e+06  5.112760e+06  0.05    0   \n425              373     1  6.102450e+06  5.112760e+06  0.00    0   \n426              372     1  6.102450e+06  5.112760e+06  0.05    0   \n427              371     1  6.102450e+06  5.112760e+06  0.16    0   \n428              370     1  6.102450e+06  5.112760e+06  0.00    0   \n429              369     1  6.102450e+06  5.112760e+06  0.00    0   \n430              368     1  6.102450e+06  5.112760e+06  0.05    0   \n431              367     1  6.102450e+06  5.112760e+06  0.00    0   \n432              366     1  6.102450e+06  5.112760e+06  0.05    0   \n433              365     1  6.102450e+06  5.112760e+06  0.16    0   \n434              364     1  6.102450e+06  5.112760e+06  0.00    0   \n435              363     1  6.102450e+06  5.112760e+06  0.00    0   \n436              362     1  6.102450e+06  5.112760e+06  0.05    0   \n437              361     1  6.102450e+06  5.112760e+06  0.00    0   \n438              360     1  6.102450e+06  5.112760e+06  0.00    0   \n439              359     1  6.102450e+06  5.112760e+06  0.00    0   \n440              358     1  6.102450e+06  5.112760e+06  0.05    0   \n441              357     1  6.102450e+06  5.112760e+06  0.00    0   \n442              356     1  6.102450e+06  5.112760e+06  0.05    0   \n443              355     1  6.102450e+06  5.112760e+06  0.00    0   \n..               ...   ...           ...           ...   ...  ...   \n769               29     1  6.065232e+06  5.052708e+06  4.16   34   \n770               28     1  6.065763e+06  5.053672e+06  3.67   19   \n771               27     1  6.066497e+06  5.054520e+06  4.59   67   \n772               26     1  6.067130e+06  5.055481e+06  3.78   40   \n773               25     1  6.067963e+06  5.056218e+06  4.26   39   \n774               24     1  6.068799e+06  5.057063e+06  3.99   53   \n775               23     1  6.069430e+06  5.057915e+06  3.56   56   \n776               22     1  6.070165e+06  5.058873e+06  3.89   35   \n777               21     1  6.070898e+06  5.059722e+06  3.89   55   \n778               20     1  6.071617e+06  5.059919e+06  2.75  125   \n779               19     1  6.071720e+06  5.059916e+06  2.05  291   \n780               18     1  6.071826e+06  5.060130e+06  3.67   52   \n781               17     1  6.072857e+06  5.060535e+06  4.16   72   \n782               16     1  6.073889e+06  5.061049e+06  4.05   82   \n783               15     1  6.075020e+06  5.061343e+06  3.78   78   \n784               14     1  6.076050e+06  5.061748e+06  3.29   80   \n785               13     1  6.077180e+06  5.062042e+06  4.05   81   \n786               12     1  6.078508e+06  5.062004e+06  3.78   90   \n787               11     1  6.079529e+06  5.061975e+06  3.78   84   \n788               10     1  6.080753e+06  5.061831e+06  4.16  101   \n789                9     1  6.081875e+06  5.061691e+06  3.89   96   \n790                8     1  6.082892e+06  5.061444e+06  4.26  107   \n791                7     1  6.084011e+06  5.061195e+06  3.67   67   \n792                6     1  6.084437e+06  5.062054e+06  2.70  336   \n793                5     1  6.083422e+06  5.062409e+06  3.89  253   \n794                4     1  6.082194e+06  5.062335e+06  3.99  251   \n795                3     1  6.081068e+06  5.062258e+06  3.78  256   \n796                2     1  6.079838e+06  5.062075e+06  3.67  257   \n797                1     1  6.077380e+06  5.061819e+06  4.26  257   \n798                0     1  6.076254e+06  5.061743e+06  3.99  278   \n\n                   time type        date  hour  weekday  inner_ord_index  \n414 1900-11-07 12:00:34   拖网  1900-11-07    12        2                0  \n415 1900-11-07 12:10:34   拖网  1900-11-07    12        2                1  \n416 1900-11-07 12:20:34   拖网  1900-11-07    12        2                2  \n417 1900-11-07 12:30:34   拖网  1900-11-07    12        2                3  \n418 1900-11-07 12:40:34   拖网  1900-11-07    12        2                4  \n419 1900-11-07 12:50:34   拖网  1900-11-07    12        2                5  \n420 1900-11-07 13:00:34   拖网  1900-11-07    13        2                6  \n421 1900-11-07 13:10:34   拖网  1900-11-07    13        2                7  \n422 1900-11-07 13:20:34   拖网  1900-11-07    13        2                8  \n423 1900-11-07 13:31:31   拖网  1900-11-07    13        2                9  \n424 1900-11-07 13:40:34   拖网  1900-11-07    13        2               10  \n425 1900-11-07 13:50:34   拖网  1900-11-07    13        2               11  \n426 1900-11-07 14:00:34   拖网  1900-11-07    14        2               12  \n427 1900-11-07 14:10:34   拖网  1900-11-07    14        2               13  \n428 1900-11-07 14:20:34   拖网  1900-11-07    14        2               14  \n429 1900-11-07 14:42:14   拖网  1900-11-07    14        2               15  \n430 1900-11-07 14:50:34   拖网  1900-11-07    14        2               16  \n431 1900-11-07 15:00:34   拖网  1900-11-07    15        2               17  \n432 1900-11-07 15:10:34   拖网  1900-11-07    15        2               18  \n433 1900-11-07 15:20:34   拖网  1900-11-07    15        2               19  \n434 1900-11-07 15:31:31   拖网  1900-11-07    15        2               20  \n435 1900-11-07 15:40:33   拖网  1900-11-07    15        2               21  \n436 1900-11-07 15:50:33   拖网  1900-11-07    15        2               22  \n437 1900-11-07 16:00:34   拖网  1900-11-07    16        2               23  \n438 1900-11-07 16:10:34   拖网  1900-11-07    16        2               24  \n439 1900-11-07 16:20:34   拖网  1900-11-07    16        2               25  \n440 1900-11-07 16:30:33   拖网  1900-11-07    16        2               26  \n441 1900-11-07 16:40:34   拖网  1900-11-07    16        2               27  \n442 1900-11-07 16:50:33   拖网  1900-11-07    16        2               28  \n443 1900-11-07 17:00:34   拖网  1900-11-07    17        2               29  \n..                  ...  ...         ...   ...      ...              ...  \n769 1900-11-10 06:40:23   拖网  1900-11-10     6        5              355  \n770 1900-11-10 06:50:23   拖网  1900-11-10     6        5              356  \n771 1900-11-10 07:00:23   拖网  1900-11-10     7        5              357  \n772 1900-11-10 07:10:23   拖网  1900-11-10     7        5              358  \n773 1900-11-10 07:20:22   拖网  1900-11-10     7        5              359  \n774 1900-11-10 07:31:19   拖网  1900-11-10     7        5              360  \n775 1900-11-10 07:40:21   拖网  1900-11-10     7        5              361  \n776 1900-11-10 07:50:21   拖网  1900-11-10     7        5              362  \n777 1900-11-10 08:00:22   拖网  1900-11-10     8        5              363  \n778 1900-11-10 08:10:22   拖网  1900-11-10     8        5              364  \n779 1900-11-10 08:20:22   拖网  1900-11-10     8        5              365  \n780 1900-11-10 08:30:21   拖网  1900-11-10     8        5              366  \n781 1900-11-10 08:40:21   拖网  1900-11-10     8        5              367  \n782 1900-11-10 08:50:21   拖网  1900-11-10     8        5              368  \n783 1900-11-10 09:00:22   拖网  1900-11-10     9        5              369  \n784 1900-11-10 09:10:22   拖网  1900-11-10     9        5              370  \n785 1900-11-10 09:20:21   拖网  1900-11-10     9        5              371  \n786 1900-11-10 09:31:19   拖网  1900-11-10     9        5              372  \n787 1900-11-10 09:40:22   拖网  1900-11-10     9        5              373  \n788 1900-11-10 09:50:22   拖网  1900-11-10     9        5              374  \n789 1900-11-10 10:00:22   拖网  1900-11-10    10        5              375  \n790 1900-11-10 10:10:22   拖网  1900-11-10    10        5              376  \n791 1900-11-10 10:20:22   拖网  1900-11-10    10        5              377  \n792 1900-11-10 10:30:22   拖网  1900-11-10    10        5              378  \n793 1900-11-10 10:40:22   拖网  1900-11-10    10        5              379  \n794 1900-11-10 10:50:22   拖网  1900-11-10    10        5              380  \n795 1900-11-10 11:00:22   拖网  1900-11-10    11        5              381  \n796 1900-11-10 11:10:22   拖网  1900-11-10    11        5              382  \n797 1900-11-10 11:33:03   拖网  1900-11-10    11        5              383  \n798 1900-11-10 11:40:21   拖网  1900-11-10    11        5              384  \n\n[385 rows x 12 columns]",
      "text/html": "<div>\n<style scoped>\n    .dataframe tbody tr th:only-of-type {\n        vertical-align: middle;\n    }\n\n    .dataframe tbody tr th {\n        vertical-align: top;\n    }\n\n    .dataframe thead th {\n        text-align: right;\n    }\n</style>\n<table border=\"1\" class=\"dataframe\">\n  <thead>\n    <tr style=\"text-align: right;\">\n      <th></th>\n      <th>inner_rev_index</th>\n      <th>ship</th>\n      <th>x</th>\n      <th>y</th>\n      <th>v</th>\n      <th>d</th>\n      <th>time</th>\n      <th>type</th>\n      <th>date</th>\n      <th>hour</th>\n      <th>weekday</th>\n      <th>inner_ord_index</th>\n    </tr>\n  </thead>\n  <tbody>\n    <tr>\n      <th>414</th>\n      <td>384</td>\n      <td>1</td>\n      <td>6.102450e+06</td>\n      <td>5.112760e+06</td>\n      <td>0.00</td>\n      <td>0</td>\n      <td>1900-11-07 12:00:34</td>\n      <td>拖网</td>\n      <td>1900-11-07</td>\n      <td>12</td>\n      <td>2</td>\n      <td>0</td>\n    </tr>\n    <tr>\n      <th>415</th>\n      <td>383</td>\n      <td>1</td>\n      <td>6.102450e+06</td>\n      <td>5.112760e+06</td>\n      <td>0.05</td>\n      <td>0</td>\n      <td>1900-11-07 12:10:34</td>\n      <td>拖网</td>\n      <td>1900-11-07</td>\n      <td>12</td>\n      <td>2</td>\n      <td>1</td>\n    </tr>\n    <tr>\n      <th>416</th>\n      <td>382</td>\n      <td>1</td>\n      <td>6.102450e+06</td>\n      <td>5.112760e+06</td>\n      <td>0.00</td>\n      <td>0</td>\n      <td>1900-11-07 12:20:34</td>\n      <td>拖网</td>\n      <td>1900-11-07</td>\n      <td>12</td>\n      <td>2</td>\n      <td>2</td>\n    </tr>\n    <tr>\n      <th>417</th>\n      <td>381</td>\n      <td>1</td>\n      <td>6.102450e+06</td>\n      <td>5.112760e+06</td>\n      <td>0.00</td>\n      <td>0</td>\n      <td>1900-11-07 12:30:34</td>\n      <td>拖网</td>\n      <td>1900-11-07</td>\n      <td>12</td>\n      <td>2</td>\n      <td>3</td>\n    </tr>\n    <tr>\n      <th>418</th>\n      <td>380</td>\n      <td>1</td>\n      <td>6.102450e+06</td>\n      <td>5.112760e+06</td>\n      <td>0.05</td>\n      <td>0</td>\n      <td>1900-11-07 12:40:34</td>\n      <td>拖网</td>\n      <td>1900-11-07</td>\n      <td>12</td>\n      <td>2</td>\n      <td>4</td>\n    </tr>\n    <tr>\n      <th>419</th>\n      <td>379</td>\n      <td>1</td>\n      <td>6.102450e+06</td>\n      <td>5.112760e+06</td>\n      <td>0.00</td>\n      <td>0</td>\n      <td>1900-11-07 12:50:34</td>\n      <td>拖网</td>\n      <td>1900-11-07</td>\n      <td>12</td>\n      <td>2</td>\n      <td>5</td>\n    </tr>\n    <tr>\n      <th>420</th>\n      <td>378</td>\n      <td>1</td>\n      <td>6.102450e+06</td>\n      <td>5.112760e+06</td>\n      <td>0.05</td>\n      <td>0</td>\n      <td>1900-11-07 13:00:34</td>\n      <td>拖网</td>\n      <td>1900-11-07</td>\n      <td>13</td>\n      <td>2</td>\n      <td>6</td>\n    </tr>\n    <tr>\n      <th>421</th>\n      <td>377</td>\n      <td>1</td>\n      <td>6.102450e+06</td>\n      <td>5.112760e+06</td>\n      <td>0.00</td>\n      <td>0</td>\n      <td>1900-11-07 13:10:34</td>\n      <td>拖网</td>\n      <td>1900-11-07</td>\n      <td>13</td>\n      <td>2</td>\n      <td>7</td>\n    </tr>\n    <tr>\n      <th>422</th>\n      <td>376</td>\n      <td>1</td>\n      <td>6.102450e+06</td>\n      <td>5.112760e+06</td>\n      <td>0.05</td>\n      <td>0</td>\n      <td>1900-11-07 13:20:34</td>\n      <td>拖网</td>\n      <td>1900-11-07</td>\n      <td>13</td>\n      <td>2</td>\n      <td>8</td>\n    </tr>\n    <tr>\n      <th>423</th>\n      <td>375</td>\n      <td>1</td>\n      <td>6.102450e+06</td>\n      <td>5.112760e+06</td>\n      <td>0.05</td>\n      <td>0</td>\n      <td>1900-11-07 13:31:31</td>\n      <td>拖网</td>\n      <td>1900-11-07</td>\n      <td>13</td>\n      <td>2</td>\n      <td>9</td>\n    </tr>\n    <tr>\n      <th>424</th>\n      <td>374</td>\n      <td>1</td>\n      <td>6.102450e+06</td>\n      <td>5.112760e+06</td>\n      <td>0.05</td>\n      <td>0</td>\n      <td>1900-11-07 13:40:34</td>\n      <td>拖网</td>\n      <td>1900-11-07</td>\n      <td>13</td>\n      <td>2</td>\n      <td>10</td>\n    </tr>\n    <tr>\n      <th>425</th>\n      <td>373</td>\n      <td>1</td>\n      <td>6.102450e+06</td>\n      <td>5.112760e+06</td>\n      <td>0.00</td>\n      <td>0</td>\n      <td>1900-11-07 13:50:34</td>\n      <td>拖网</td>\n      <td>1900-11-07</td>\n      <td>13</td>\n      <td>2</td>\n      <td>11</td>\n    </tr>\n    <tr>\n      <th>426</th>\n      <td>372</td>\n      <td>1</td>\n      <td>6.102450e+06</td>\n      <td>5.112760e+06</td>\n      <td>0.05</td>\n      <td>0</td>\n      <td>1900-11-07 14:00:34</td>\n      <td>拖网</td>\n      <td>1900-11-07</td>\n      <td>14</td>\n      <td>2</td>\n      <td>12</td>\n    </tr>\n    <tr>\n      <th>427</th>\n      <td>371</td>\n      <td>1</td>\n      <td>6.102450e+06</td>\n      <td>5.112760e+06</td>\n      <td>0.16</td>\n      <td>0</td>\n      <td>1900-11-07 14:10:34</td>\n      <td>拖网</td>\n      <td>1900-11-07</td>\n      <td>14</td>\n      <td>2</td>\n      <td>13</td>\n    </tr>\n    <tr>\n      <th>428</th>\n      <td>370</td>\n      <td>1</td>\n      <td>6.102450e+06</td>\n      <td>5.112760e+06</td>\n      <td>0.00</td>\n      <td>0</td>\n      <td>1900-11-07 14:20:34</td>\n      <td>拖网</td>\n      <td>1900-11-07</td>\n      <td>14</td>\n      <td>2</td>\n      <td>14</td>\n    </tr>\n    <tr>\n      <th>429</th>\n      <td>369</td>\n      <td>1</td>\n      <td>6.102450e+06</td>\n      <td>5.112760e+06</td>\n      <td>0.00</td>\n      <td>0</td>\n      <td>1900-11-07 14:42:14</td>\n      <td>拖网</td>\n      <td>1900-11-07</td>\n      <td>14</td>\n      <td>2</td>\n      <td>15</td>\n    </tr>\n    <tr>\n      <th>430</th>\n      <td>368</td>\n      <td>1</td>\n      <td>6.102450e+06</td>\n      <td>5.112760e+06</td>\n      <td>0.05</td>\n      <td>0</td>\n      <td>1900-11-07 14:50:34</td>\n      <td>拖网</td>\n      <td>1900-11-07</td>\n      <td>14</td>\n      <td>2</td>\n      <td>16</td>\n    </tr>\n    <tr>\n      <th>431</th>\n      <td>367</td>\n      <td>1</td>\n      <td>6.102450e+06</td>\n      <td>5.112760e+06</td>\n      <td>0.00</td>\n      <td>0</td>\n      <td>1900-11-07 15:00:34</td>\n      <td>拖网</td>\n      <td>1900-11-07</td>\n      <td>15</td>\n      <td>2</td>\n      <td>17</td>\n    </tr>\n    <tr>\n      <th>432</th>\n      <td>366</td>\n      <td>1</td>\n      <td>6.102450e+06</td>\n      <td>5.112760e+06</td>\n      <td>0.05</td>\n      <td>0</td>\n      <td>1900-11-07 15:10:34</td>\n      <td>拖网</td>\n      <td>1900-11-07</td>\n      <td>15</td>\n      <td>2</td>\n      <td>18</td>\n    </tr>\n    <tr>\n      <th>433</th>\n      <td>365</td>\n      <td>1</td>\n      <td>6.102450e+06</td>\n      <td>5.112760e+06</td>\n      <td>0.16</td>\n      <td>0</td>\n      <td>1900-11-07 15:20:34</td>\n      <td>拖网</td>\n      <td>1900-11-07</td>\n      <td>15</td>\n      <td>2</td>\n      <td>19</td>\n    </tr>\n    <tr>\n      <th>434</th>\n      <td>364</td>\n      <td>1</td>\n      <td>6.102450e+06</td>\n      <td>5.112760e+06</td>\n      <td>0.00</td>\n      <td>0</td>\n      <td>1900-11-07 15:31:31</td>\n      <td>拖网</td>\n      <td>1900-11-07</td>\n      <td>15</td>\n      <td>2</td>\n      <td>20</td>\n    </tr>\n    <tr>\n      <th>435</th>\n      <td>363</td>\n      <td>1</td>\n      <td>6.102450e+06</td>\n      <td>5.112760e+06</td>\n      <td>0.00</td>\n      <td>0</td>\n      <td>1900-11-07 15:40:33</td>\n      <td>拖网</td>\n      <td>1900-11-07</td>\n      <td>15</td>\n      <td>2</td>\n      <td>21</td>\n    </tr>\n    <tr>\n      <th>436</th>\n      <td>362</td>\n      <td>1</td>\n      <td>6.102450e+06</td>\n      <td>5.112760e+06</td>\n      <td>0.05</td>\n      <td>0</td>\n      <td>1900-11-07 15:50:33</td>\n      <td>拖网</td>\n      <td>1900-11-07</td>\n      <td>15</td>\n      <td>2</td>\n      <td>22</td>\n    </tr>\n    <tr>\n      <th>437</th>\n      <td>361</td>\n      <td>1</td>\n      <td>6.102450e+06</td>\n      <td>5.112760e+06</td>\n      <td>0.00</td>\n      <td>0</td>\n      <td>1900-11-07 16:00:34</td>\n      <td>拖网</td>\n      <td>1900-11-07</td>\n      <td>16</td>\n      <td>2</td>\n      <td>23</td>\n    </tr>\n    <tr>\n      <th>438</th>\n      <td>360</td>\n      <td>1</td>\n      <td>6.102450e+06</td>\n      <td>5.112760e+06</td>\n      <td>0.00</td>\n      <td>0</td>\n      <td>1900-11-07 16:10:34</td>\n      <td>拖网</td>\n      <td>1900-11-07</td>\n      <td>16</td>\n      <td>2</td>\n      <td>24</td>\n    </tr>\n    <tr>\n      <th>439</th>\n      <td>359</td>\n      <td>1</td>\n      <td>6.102450e+06</td>\n      <td>5.112760e+06</td>\n      <td>0.00</td>\n      <td>0</td>\n      <td>1900-11-07 16:20:34</td>\n      <td>拖网</td>\n      <td>1900-11-07</td>\n      <td>16</td>\n      <td>2</td>\n      <td>25</td>\n    </tr>\n    <tr>\n      <th>440</th>\n      <td>358</td>\n      <td>1</td>\n      <td>6.102450e+06</td>\n      <td>5.112760e+06</td>\n      <td>0.05</td>\n      <td>0</td>\n      <td>1900-11-07 16:30:33</td>\n      <td>拖网</td>\n      <td>1900-11-07</td>\n      <td>16</td>\n      <td>2</td>\n      <td>26</td>\n    </tr>\n    <tr>\n      <th>441</th>\n      <td>357</td>\n      <td>1</td>\n      <td>6.102450e+06</td>\n      <td>5.112760e+06</td>\n      <td>0.00</td>\n      <td>0</td>\n      <td>1900-11-07 16:40:34</td>\n      <td>拖网</td>\n      <td>1900-11-07</td>\n      <td>16</td>\n      <td>2</td>\n      <td>27</td>\n    </tr>\n    <tr>\n      <th>442</th>\n      <td>356</td>\n      <td>1</td>\n      <td>6.102450e+06</td>\n      <td>5.112760e+06</td>\n      <td>0.05</td>\n      <td>0</td>\n      <td>1900-11-07 16:50:33</td>\n      <td>拖网</td>\n      <td>1900-11-07</td>\n      <td>16</td>\n      <td>2</td>\n      <td>28</td>\n    </tr>\n    <tr>\n      <th>443</th>\n      <td>355</td>\n      <td>1</td>\n      <td>6.102450e+06</td>\n      <td>5.112760e+06</td>\n      <td>0.00</td>\n      <td>0</td>\n      <td>1900-11-07 17:00:34</td>\n      <td>拖网</td>\n      <td>1900-11-07</td>\n      <td>17</td>\n      <td>2</td>\n      <td>29</td>\n    </tr>\n    <tr>\n      <th>...</th>\n      <td>...</td>\n      <td>...</td>\n      <td>...</td>\n      <td>...</td>\n      <td>...</td>\n      <td>...</td>\n      <td>...</td>\n      <td>...</td>\n      <td>...</td>\n      <td>...</td>\n      <td>...</td>\n      <td>...</td>\n    </tr>\n    <tr>\n      <th>769</th>\n      <td>29</td>\n      <td>1</td>\n      <td>6.065232e+06</td>\n      <td>5.052708e+06</td>\n      <td>4.16</td>\n      <td>34</td>\n      <td>1900-11-10 06:40:23</td>\n      <td>拖网</td>\n      <td>1900-11-10</td>\n      <td>6</td>\n      <td>5</td>\n      <td>355</td>\n    </tr>\n    <tr>\n      <th>770</th>\n      <td>28</td>\n      <td>1</td>\n      <td>6.065763e+06</td>\n      <td>5.053672e+06</td>\n      <td>3.67</td>\n      <td>19</td>\n      <td>1900-11-10 06:50:23</td>\n      <td>拖网</td>\n      <td>1900-11-10</td>\n      <td>6</td>\n      <td>5</td>\n      <td>356</td>\n    </tr>\n    <tr>\n      <th>771</th>\n      <td>27</td>\n      <td>1</td>\n      <td>6.066497e+06</td>\n      <td>5.054520e+06</td>\n      <td>4.59</td>\n      <td>67</td>\n      <td>1900-11-10 07:00:23</td>\n      <td>拖网</td>\n      <td>1900-11-10</td>\n      <td>7</td>\n      <td>5</td>\n      <td>357</td>\n    </tr>\n    <tr>\n      <th>772</th>\n      <td>26</td>\n      <td>1</td>\n      <td>6.067130e+06</td>\n      <td>5.055481e+06</td>\n      <td>3.78</td>\n      <td>40</td>\n      <td>1900-11-10 07:10:23</td>\n      <td>拖网</td>\n      <td>1900-11-10</td>\n      <td>7</td>\n      <td>5</td>\n      <td>358</td>\n    </tr>\n    <tr>\n      <th>773</th>\n      <td>25</td>\n      <td>1</td>\n      <td>6.067963e+06</td>\n      <td>5.056218e+06</td>\n      <td>4.26</td>\n      <td>39</td>\n      <td>1900-11-10 07:20:22</td>\n      <td>拖网</td>\n      <td>1900-11-10</td>\n      <td>7</td>\n      <td>5</td>\n      <td>359</td>\n    </tr>\n    <tr>\n      <th>774</th>\n      <td>24</td>\n      <td>1</td>\n      <td>6.068799e+06</td>\n      <td>5.057063e+06</td>\n      <td>3.99</td>\n      <td>53</td>\n      <td>1900-11-10 07:31:19</td>\n      <td>拖网</td>\n      <td>1900-11-10</td>\n      <td>7</td>\n      <td>5</td>\n      <td>360</td>\n    </tr>\n    <tr>\n      <th>775</th>\n      <td>23</td>\n      <td>1</td>\n      <td>6.069430e+06</td>\n      <td>5.057915e+06</td>\n      <td>3.56</td>\n      <td>56</td>\n      <td>1900-11-10 07:40:21</td>\n      <td>拖网</td>\n      <td>1900-11-10</td>\n      <td>7</td>\n      <td>5</td>\n      <td>361</td>\n    </tr>\n    <tr>\n      <th>776</th>\n      <td>22</td>\n      <td>1</td>\n      <td>6.070165e+06</td>\n      <td>5.058873e+06</td>\n      <td>3.89</td>\n      <td>35</td>\n      <td>1900-11-10 07:50:21</td>\n      <td>拖网</td>\n      <td>1900-11-10</td>\n      <td>7</td>\n      <td>5</td>\n      <td>362</td>\n    </tr>\n    <tr>\n      <th>777</th>\n      <td>21</td>\n      <td>1</td>\n      <td>6.070898e+06</td>\n      <td>5.059722e+06</td>\n      <td>3.89</td>\n      <td>55</td>\n      <td>1900-11-10 08:00:22</td>\n      <td>拖网</td>\n      <td>1900-11-10</td>\n      <td>8</td>\n      <td>5</td>\n      <td>363</td>\n    </tr>\n    <tr>\n      <th>778</th>\n      <td>20</td>\n      <td>1</td>\n      <td>6.071617e+06</td>\n      <td>5.059919e+06</td>\n      <td>2.75</td>\n      <td>125</td>\n      <td>1900-11-10 08:10:22</td>\n      <td>拖网</td>\n      <td>1900-11-10</td>\n      <td>8</td>\n      <td>5</td>\n      <td>364</td>\n    </tr>\n    <tr>\n      <th>779</th>\n      <td>19</td>\n      <td>1</td>\n      <td>6.071720e+06</td>\n      <td>5.059916e+06</td>\n      <td>2.05</td>\n      <td>291</td>\n      <td>1900-11-10 08:20:22</td>\n      <td>拖网</td>\n      <td>1900-11-10</td>\n      <td>8</td>\n      <td>5</td>\n      <td>365</td>\n    </tr>\n    <tr>\n      <th>780</th>\n      <td>18</td>\n      <td>1</td>\n      <td>6.071826e+06</td>\n      <td>5.060130e+06</td>\n      <td>3.67</td>\n      <td>52</td>\n      <td>1900-11-10 08:30:21</td>\n      <td>拖网</td>\n      <td>1900-11-10</td>\n      <td>8</td>\n      <td>5</td>\n      <td>366</td>\n    </tr>\n    <tr>\n      <th>781</th>\n      <td>17</td>\n      <td>1</td>\n      <td>6.072857e+06</td>\n      <td>5.060535e+06</td>\n      <td>4.16</td>\n      <td>72</td>\n      <td>1900-11-10 08:40:21</td>\n      <td>拖网</td>\n      <td>1900-11-10</td>\n      <td>8</td>\n      <td>5</td>\n      <td>367</td>\n    </tr>\n    <tr>\n      <th>782</th>\n      <td>16</td>\n      <td>1</td>\n      <td>6.073889e+06</td>\n      <td>5.061049e+06</td>\n      <td>4.05</td>\n      <td>82</td>\n      <td>1900-11-10 08:50:21</td>\n      <td>拖网</td>\n      <td>1900-11-10</td>\n      <td>8</td>\n      <td>5</td>\n      <td>368</td>\n    </tr>\n    <tr>\n      <th>783</th>\n      <td>15</td>\n      <td>1</td>\n      <td>6.075020e+06</td>\n      <td>5.061343e+06</td>\n      <td>3.78</td>\n      <td>78</td>\n      <td>1900-11-10 09:00:22</td>\n      <td>拖网</td>\n      <td>1900-11-10</td>\n      <td>9</td>\n      <td>5</td>\n      <td>369</td>\n    </tr>\n    <tr>\n      <th>784</th>\n      <td>14</td>\n      <td>1</td>\n      <td>6.076050e+06</td>\n      <td>5.061748e+06</td>\n      <td>3.29</td>\n      <td>80</td>\n      <td>1900-11-10 09:10:22</td>\n      <td>拖网</td>\n      <td>1900-11-10</td>\n      <td>9</td>\n      <td>5</td>\n      <td>370</td>\n    </tr>\n    <tr>\n      <th>785</th>\n      <td>13</td>\n      <td>1</td>\n      <td>6.077180e+06</td>\n      <td>5.062042e+06</td>\n      <td>4.05</td>\n      <td>81</td>\n      <td>1900-11-10 09:20:21</td>\n      <td>拖网</td>\n      <td>1900-11-10</td>\n      <td>9</td>\n      <td>5</td>\n      <td>371</td>\n    </tr>\n    <tr>\n      <th>786</th>\n      <td>12</td>\n      <td>1</td>\n      <td>6.078508e+06</td>\n      <td>5.062004e+06</td>\n      <td>3.78</td>\n      <td>90</td>\n      <td>1900-11-10 09:31:19</td>\n      <td>拖网</td>\n      <td>1900-11-10</td>\n      <td>9</td>\n      <td>5</td>\n      <td>372</td>\n    </tr>\n    <tr>\n      <th>787</th>\n      <td>11</td>\n      <td>1</td>\n      <td>6.079529e+06</td>\n      <td>5.061975e+06</td>\n      <td>3.78</td>\n      <td>84</td>\n      <td>1900-11-10 09:40:22</td>\n      <td>拖网</td>\n      <td>1900-11-10</td>\n      <td>9</td>\n      <td>5</td>\n      <td>373</td>\n    </tr>\n    <tr>\n      <th>788</th>\n      <td>10</td>\n      <td>1</td>\n      <td>6.080753e+06</td>\n      <td>5.061831e+06</td>\n      <td>4.16</td>\n      <td>101</td>\n      <td>1900-11-10 09:50:22</td>\n      <td>拖网</td>\n      <td>1900-11-10</td>\n      <td>9</td>\n      <td>5</td>\n      <td>374</td>\n    </tr>\n    <tr>\n      <th>789</th>\n      <td>9</td>\n      <td>1</td>\n      <td>6.081875e+06</td>\n      <td>5.061691e+06</td>\n      <td>3.89</td>\n      <td>96</td>\n      <td>1900-11-10 10:00:22</td>\n      <td>拖网</td>\n      <td>1900-11-10</td>\n      <td>10</td>\n      <td>5</td>\n      <td>375</td>\n    </tr>\n    <tr>\n      <th>790</th>\n      <td>8</td>\n      <td>1</td>\n      <td>6.082892e+06</td>\n      <td>5.061444e+06</td>\n      <td>4.26</td>\n      <td>107</td>\n      <td>1900-11-10 10:10:22</td>\n      <td>拖网</td>\n      <td>1900-11-10</td>\n      <td>10</td>\n      <td>5</td>\n      <td>376</td>\n    </tr>\n    <tr>\n      <th>791</th>\n      <td>7</td>\n      <td>1</td>\n      <td>6.084011e+06</td>\n      <td>5.061195e+06</td>\n      <td>3.67</td>\n      <td>67</td>\n      <td>1900-11-10 10:20:22</td>\n      <td>拖网</td>\n      <td>1900-11-10</td>\n      <td>10</td>\n      <td>5</td>\n      <td>377</td>\n    </tr>\n    <tr>\n      <th>792</th>\n      <td>6</td>\n      <td>1</td>\n      <td>6.084437e+06</td>\n      <td>5.062054e+06</td>\n      <td>2.70</td>\n      <td>336</td>\n      <td>1900-11-10 10:30:22</td>\n      <td>拖网</td>\n      <td>1900-11-10</td>\n      <td>10</td>\n      <td>5</td>\n      <td>378</td>\n    </tr>\n    <tr>\n      <th>793</th>\n      <td>5</td>\n      <td>1</td>\n      <td>6.083422e+06</td>\n      <td>5.062409e+06</td>\n      <td>3.89</td>\n      <td>253</td>\n      <td>1900-11-10 10:40:22</td>\n      <td>拖网</td>\n      <td>1900-11-10</td>\n      <td>10</td>\n      <td>5</td>\n      <td>379</td>\n    </tr>\n    <tr>\n      <th>794</th>\n      <td>4</td>\n      <td>1</td>\n      <td>6.082194e+06</td>\n      <td>5.062335e+06</td>\n      <td>3.99</td>\n      <td>251</td>\n      <td>1900-11-10 10:50:22</td>\n      <td>拖网</td>\n      <td>1900-11-10</td>\n      <td>10</td>\n      <td>5</td>\n      <td>380</td>\n    </tr>\n    <tr>\n      <th>795</th>\n      <td>3</td>\n      <td>1</td>\n      <td>6.081068e+06</td>\n      <td>5.062258e+06</td>\n      <td>3.78</td>\n      <td>256</td>\n      <td>1900-11-10 11:00:22</td>\n      <td>拖网</td>\n      <td>1900-11-10</td>\n      <td>11</td>\n      <td>5</td>\n      <td>381</td>\n    </tr>\n    <tr>\n      <th>796</th>\n      <td>2</td>\n      <td>1</td>\n      <td>6.079838e+06</td>\n      <td>5.062075e+06</td>\n      <td>3.67</td>\n      <td>257</td>\n      <td>1900-11-10 11:10:22</td>\n      <td>拖网</td>\n      <td>1900-11-10</td>\n      <td>11</td>\n      <td>5</td>\n      <td>382</td>\n    </tr>\n    <tr>\n      <th>797</th>\n      <td>1</td>\n      <td>1</td>\n      <td>6.077380e+06</td>\n      <td>5.061819e+06</td>\n      <td>4.26</td>\n      <td>257</td>\n      <td>1900-11-10 11:33:03</td>\n      <td>拖网</td>\n      <td>1900-11-10</td>\n      <td>11</td>\n      <td>5</td>\n      <td>383</td>\n    </tr>\n    <tr>\n      <th>798</th>\n      <td>0</td>\n      <td>1</td>\n      <td>6.076254e+06</td>\n      <td>5.061743e+06</td>\n      <td>3.99</td>\n      <td>278</td>\n      <td>1900-11-10 11:40:21</td>\n      <td>拖网</td>\n      <td>1900-11-10</td>\n      <td>11</td>\n      <td>5</td>\n      <td>384</td>\n    </tr>\n  </tbody>\n</table>\n<p>385 rows × 12 columns</p>\n</div>"
     },
     "metadata": {},
     "output_type": "execute_result",
     "execution_count": 115
    }
   ],
   "source": [
    "# temp_test2=train_order[train_order['ship']==1]\n",
    "# temp_test2"
   ],
   "metadata": {
    "collapsed": false,
    "pycharm": {
     "name": "#%%\n",
     "is_executing": false
    }
   }
  },
  {
   "cell_type": "code",
   "execution_count": null,
   "outputs": [],
   "source": [
    "# drop_duplicates(subset=['ship','x','y'],keep='first',inplace=True)."
   ],
   "metadata": {
    "collapsed": false,
    "pycharm": {
     "name": "#%%\n"
    }
   }
  }
 ],
 "metadata": {
  "kernelspec": {
   "display_name": "Python 3",
   "language": "python",
   "name": "python3"
  },
  "language_info": {
   "codemirror_mode": {
    "name": "ipython",
    "version": 2
   },
   "file_extension": ".py",
   "mimetype": "text/x-python",
   "name": "python",
   "nbconvert_exporter": "python",
   "pygments_lexer": "ipython2",
   "version": "2.7.6"
  },
  "pycharm": {
   "stem_cell": {
    "cell_type": "raw",
    "source": [],
    "metadata": {
     "collapsed": false
    }
   }
  }
 },
 "nbformat": 4,
 "nbformat_minor": 0
}