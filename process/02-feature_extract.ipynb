{
 "cells": [
  {
   "cell_type": "code",
   "execution_count": 1,
   "metadata": {
    "collapsed": true,
    "pycharm": {
     "is_executing": false
    }
   },
   "outputs": [],
   "source": [
    "%matplotlib inline\n",
    "\n",
    "import pandas as pd\n",
    "import numpy as np\n",
    "import warnings"
   ]
  },
  {
   "cell_type": "code",
   "execution_count": 2,
   "metadata": {
    "pycharm": {
     "is_executing": false,
     "name": "#%%\n"
    }
   },
   "outputs": [],
   "source": [
    "warnings.filterwarnings('ignore')\n",
    "def extract_dt(df):\n",
    "    df['time'] = pd.to_datetime(df['time'], format='%m%d %H:%M:%S')\n",
    "    # df['month'] = df['time'].dt.month\n",
    "    # df['day'] = df['time'].dt.day\n",
    "    df['date'] = df['time'].dt.date\n",
    "    df['hour'] = df['time'].dt.hour\n",
    "    # df = df.drop_duplicates(['ship','month'])\n",
    "    df['weekday'] = df['time'].dt.weekday\n",
    "    return df"
   ]
  },
  {
   "cell_type": "code",
   "execution_count": 3,
   "metadata": {
    "pycharm": {
     "is_executing": false,
     "name": "#%%\n"
    }
   },
   "outputs": [],
   "source": [
    "#cited from others\n",
    "def group_feature(df, key, target, aggs):   \n",
    "    agg_dict = {}\n",
    "    for ag in aggs:\n",
    "        agg_dict[f'{target}_{ag}'] = ag\n",
    "    print(agg_dict)\n",
    "    t = df.groupby(key)[target].agg(agg_dict).reset_index()\n",
    "    return t\n",
    "\n",
    "def extract_feature(df, train_feature):\n",
    "    t = group_feature(df, 'ship','x',['max','min','mean','std','skew','sum'])\n",
    "    train_feature = pd.merge(train_feature, t, on='ship', how='left')\n",
    "    t = group_feature(df, 'ship','x',['count'])\n",
    "    train_feature = pd.merge(train_feature, t, on='ship', how='left')\n",
    "    t = group_feature(df, 'ship','y',['max','min','mean','std','skew','sum'])\n",
    "    train_feature = pd.merge(train_feature, t, on='ship', how='left')\n",
    "    t = group_feature(df, 'ship','v',['max','min','mean','std','skew','sum'])\n",
    "    train_feature = pd.merge(train_feature, t, on='ship', how='left')\n",
    "    t = group_feature(df, 'ship','d',['max','min','mean','std','skew','sum'])\n",
    "    train_feature = pd.merge(train_feature, t, on='ship', how='left')\n",
    "    train_feature['x_max_x_min'] = train_feature['x_max'] - train_feature['x_min']\n",
    "    train_feature['y_max_y_min'] = train_feature['y_max'] - train_feature['y_min']\n",
    "    train_feature['y_max_x_min'] = train_feature['y_max'] - train_feature['x_min']\n",
    "    train_feature['x_max_y_min'] = train_feature['x_max'] - train_feature['y_min']\n",
    "    train_feature['slope'] = train_feature['y_max_y_min'] / np.where(train_feature['x_max_x_min']==0, 0.001, train_feature['x_max_x_min'])\n",
    "    train_feature['area'] = train_feature['x_max_x_min'] * train_feature['y_max_y_min']\n",
    "    \n",
    "    mode_hour = df.groupby('ship')['hour'].agg(lambda x:x.value_counts().index[0]).to_dict()\n",
    "    train_feature['mode_hour'] = train_feature['ship'].map(mode_hour)\n",
    "    \n",
    "    t = group_feature(df, 'ship','hour',['max','min'])\n",
    "    train_feature = pd.merge(train_feature, t, on='ship', how='left')\n",
    "    \n",
    "    hour_nunique = df.groupby('ship')['hour'].nunique().to_dict()\n",
    "    date_nunique = df.groupby('ship')['date'].nunique().to_dict()\n",
    "    train_feature['hour_nunique'] = train_feature['ship'].map(hour_nunique)\n",
    "    train_feature['date_nunique'] = train_feature['ship'].map(date_nunique)\n",
    "\n",
    "    t = df.groupby('ship')['time'].agg({'diff_time':lambda x:np.max(x)-np.min(x)}).reset_index()\n",
    "    t['diff_day'] = t['diff_time'].dt.days\n",
    "    t['diff_second'] = t['diff_time'].dt.seconds\n",
    "    train_feature = pd.merge(train_feature, t, on='ship', how='left')\n",
    "    return train_feature"
   ]
  },
  {
   "cell_type": "code",
   "execution_count": 4,
   "metadata": {
    "pycharm": {
     "is_executing": false,
     "name": "#%%\n"
    }
   },
   "outputs": [],
   "source": [
    "#this function will get an n-2 length series\n",
    "def translation_forward(list_in,n):\n",
    "    for i in range(n):\n",
    "        list_in.pop(0)\n",
    "    return list_in\n",
    "\n",
    "def area_tri(groupbied):\n",
    "    # area_triangle=[]change to dataframe\n",
    "    # 创建空DataFrame\n",
    "    # ship_id=groupbied['ship'].unique().item(0)\n",
    "    if len(groupbied) > 129:\n",
    "        x1_list=list(groupbied['x'])\n",
    "        y1_list=list(groupbied['y'])\n",
    "        x2_list=list(translation_forward(x1_list,64))\n",
    "        y2_list=list(translation_forward(y1_list,64))\n",
    "        x3_list=list(translation_forward(x2_list,64))\n",
    "        y3_list=list(translation_forward(y2_list,64))\n",
    "        # t=list(groupbied['time'])\n",
    "        delta_t1=list(groupbied['time'])\n",
    "        delta_t2=list(translation_forward(delta_t1,128))\n",
    "        area_list=[]\n",
    "        line_2_list=[]\n",
    "        eff_a_l_list=[]\n",
    "        eff_a_t_list=[]\n",
    "        for x1, y1, x2, y2, x3, y3, diff_t1, diff_t2 in zip(x1_list,y1_list,x2_list,y2_list,x3_list,y3_list,delta_t1,delta_t2):\n",
    "            a=np.sqrt((x2-x3)**2+(y2-y3)**2)\n",
    "            b=np.sqrt((x1-x3)**2+(y1-y3)**2)\n",
    "            c=np.sqrt((x1-x2)**2+(y1-y2)**2)\n",
    "            s = (a + b + c) / 2\n",
    "            l=a+c\n",
    "            area=(s*(s-a)*(s-b)*(s-c)) ** 0.5\n",
    "            diff_t=(diff_t2 - diff_t1)/np.timedelta64(1, 'h')\n",
    "            eff_area_line=area/l if l!=0 else 0\n",
    "            eff_area_diff_t=area /diff_t if diff_t!=0 else 0\n",
    "            # area_triangle.append(s)\n",
    "            area_list.append(area)\n",
    "            line_2_list.append(l)\n",
    "            eff_a_l_list.append(eff_area_line)\n",
    "            eff_a_t_list.append(eff_area_diff_t)\n",
    "        area_triangle = pd.DataFrame(list(zip(area_list, line_2_list, eff_a_l_list, eff_a_t_list)))\n",
    "        area_triangle.columns = ['area_3','Line_2','eff_a_l','eff_a_t']  \n",
    "        # area_triangle = area_triangle.append(temp_df,ignore_index=True)\n",
    "    else:\n",
    "        area_triangle=pd.DataFrame({'area_3':[0],'Line_2':[0],'eff_a_l':[0],'eff_a_t':[0]})\n",
    "    return area_triangle\n"
   ]
  },
  {
   "cell_type": "code",
   "execution_count": 5,
   "metadata": {
    "pycharm": {
     "is_executing": false,
     "name": "#%%\n"
    }
   },
   "outputs": [],
   "source": [
    "train = pd.read_hdf('../input/train.h5')\n",
    "test = pd.read_hdf('../input/test.h5')\n",
    "train_label = train.drop_duplicates('ship')\n",
    "type_map = dict(zip(train_label['type'].unique(), np.arange(3)))\n",
    "# rev means a reversed map relation\n",
    "type_map_rev = {v:k for k,v in type_map.items()} \n",
    "train_label['type'] = train_label['type'].map(type_map)\n",
    "train = extract_dt(train)\n",
    "test = extract_dt(test)"
   ]
  },
  {
   "cell_type": "code",
   "execution_count": 6,
   "metadata": {
    "pycharm": {
     "is_executing": false,
     "name": "#%%\n"
    }
   },
   "outputs": [
    {
     "name": "stdout",
     "text": [
      "RangeIndex(start=0, stop=2699638, step=1)\n"
     ],
     "output_type": "stream"
    }
   ],
   "source": [
    "#add more information about distribution on dist and time\n",
    "train_order=train.groupby('ship').apply(lambda x: x.sort_values('time',ascending=True))\n",
    "train_order.reset_index(level=0,drop=True,inplace=True)# save the inner index number step#1\n",
    "train_order.index.name ='inner_rev_index'# save the inner index number step#2\n",
    "train_order.reset_index(drop=False,inplace=True)#add 0-N index\n",
    "print(train_order.index)\n",
    "train_order['inner_ord_index']=train.index#use the former subIndex to Mark the t0-tN\n"
   ]
  },
  {
   "cell_type": "code",
   "execution_count": 7,
   "metadata": {
    "pycharm": {
     "is_executing": false,
     "name": "#%%\n"
    }
   },
   "outputs": [],
   "source": [
    "train_order['diff_time']=pd.DataFrame(train_order.groupby('ship').apply(lambda x:x['time'].diff()/np.timedelta64(1, 'h'))).reset_index()['time']\n",
    "train_order['diff_dist']=pd.DataFrame(train_order.groupby('ship').apply(lambda x:np.sqrt(x['x'].diff()**2+x['y'].diff()**2))).reset_index()[0]\n",
    "train_order['est_v']=pd.DataFrame(train_order.groupby('ship').apply(lambda x:x['diff_dist']/x['diff_time'])).reset_index()[0]\n",
    "train_order['est_diff_dist']=pd.DataFrame(train_order.groupby('ship').apply(lambda x:x['v']*x['diff_time']*1852)).reset_index()[0]"
   ]
  },
  {
   "cell_type": "code",
   "execution_count": 8,
   "outputs": [],
   "source": [
    "train_moved=train_order.loc[train_order.groupby('ship').apply(lambda x:x['diff_dist']!=0 ).reset_index()['diff_dist']]\n",
    "# train_moved['diff_time_between_moving']=pd.DataFrame(train_moved.groupby('ship').apply(lambda x:x['time'].diff()/np.timedelta64(1, 'h'))).reset_index()['time']\n",
    "# train_moved\n",
    "# 试着在外部先去掉相邻重复项 this is very important  train_order.groupby('ship').apply(lambda x:x['diff_dist']!=0 )\n",
    "# df.loc[df.groupby(['CATEGORY'])['VALUE'].diff(1)!=0]This can drop off 连贯相同的项\n",
    "# train_order=train_order.loc[train_order.groupby('ship').apply(lambda x:x['diff_dist']!=0 ).reset_index()['diff_dist']]\n",
    "# train_order_drop"
   ],
   "metadata": {
    "collapsed": false,
    "pycharm": {
     "name": "#%%\n",
     "is_executing": false
    }
   }
  },
  {
   "cell_type": "code",
   "execution_count": 16,
   "outputs": [
    {
     "data": {
      "text/plain": "Empty DataFrame\nColumns: [ship, level_1, area_3, Line_2, eff_a_l, eff_a_t]\nIndex: []",
      "text/html": "<div>\n<style scoped>\n    .dataframe tbody tr th:only-of-type {\n        vertical-align: middle;\n    }\n\n    .dataframe tbody tr th {\n        vertical-align: top;\n    }\n\n    .dataframe thead th {\n        text-align: right;\n    }\n</style>\n<table border=\"1\" class=\"dataframe\">\n  <thead>\n    <tr style=\"text-align: right;\">\n      <th></th>\n      <th>ship</th>\n      <th>level_1</th>\n      <th>area_3</th>\n      <th>Line_2</th>\n      <th>eff_a_l</th>\n      <th>eff_a_t</th>\n    </tr>\n  </thead>\n  <tbody>\n  </tbody>\n</table>\n</div>"
     },
     "metadata": {},
     "output_type": "execute_result",
     "execution_count": 16
    }
   ],
   "source": [
    "temp=pd.DataFrame(train_moved.groupby('ship').apply(area_tri)).reset_index()\n",
    "# temp=train_order[train_order['ship']==1]['ship'].unique().item(0)\n",
    "# temp=train_order.groupby('ship').apply(area_tri)\n",
    "temp[temp['area_3']!=0]"
   ],
   "metadata": {
    "collapsed": false,
    "pycharm": {
     "name": "#%%\n",
     "is_executing": false
    }
   }
  },
  {
   "cell_type": "code",
   "execution_count": 15,
   "outputs": [
    {
     "data": {
      "text/plain": "        ship  level_1  area_3        Line_2  eff_a_l  eff_a_t\n0          0        0     0.0      0.000000      0.0        0\n1          1        0     0.0   7145.098121      0.0        0\n2          1        1     0.0   7397.410623      0.0        0\n3          1        2     0.0   7521.181457      0.0        0\n4          1        3     0.0   7851.215858      0.0        0\n5          1        4     0.0   8202.967113      0.0        0\n6          1        5     0.0   8722.684613      0.0        0\n7          1        6     0.0   9740.272351      0.0        0\n8          1        7     0.0  10452.732758      0.0        0\n9          1        8     0.0   9749.740423      0.0        0\n10         1        9     0.0   9459.494357      0.0        0\n11         1       10     0.0   9466.826421      0.0        0\n12         1       11     0.0  10724.765724      0.0        0\n13         1       12     0.0  10902.772798      0.0        0\n14         1       13     0.0  12238.310057      0.0        0\n15         2        0     0.0      0.000000      0.0        0\n16         3        0     0.0  54012.426561      0.0        0\n17         3        1     0.0  53064.983269      0.0        0\n18         3        2     0.0  52221.040355      0.0        0\n19         3        3     0.0  51328.560914      0.0        0\n20         3        4     0.0  50490.702310      0.0        0\n21         3        5     0.0  49549.633903      0.0        0\n22         3        6     0.0  48717.661463      0.0        0\n23         3        7     0.0  47835.052236      0.0        0\n24         3        8     0.0  46919.098583      0.0        0\n25         3        9     0.0  46954.891327      0.0        0\n26         3       10     0.0  46975.106957      0.0        0\n27         3       11     0.0  45999.748691      0.0        0\n28         3       12     0.0  44265.317517      0.0        0\n29         3       13     0.0  43495.383095      0.0        0\n...      ...      ...     ...           ...      ...      ...\n642434  6998       25     0.0   2085.359068      0.0        0\n642435  6998       26     0.0   2267.827879      0.0        0\n642436  6998       27     0.0   2736.075526      0.0        0\n642437  6998       28     0.0   2815.627812      0.0        0\n642438  6998       29     0.0   2885.355412      0.0        0\n642439  6998       30     0.0   2885.279004      0.0        0\n642440  6998       31     0.0   3518.059213      0.0        0\n642441  6998       32     0.0   3633.318770      0.0        0\n642442  6998       33     0.0   3691.965433      0.0        0\n642443  6998       34     0.0   5818.585497      0.0        0\n642444  6998       35     0.0   9029.232541      0.0        0\n642445  6998       36     0.0   8972.247877      0.0        0\n642446  6998       37     0.0   8939.123100      0.0        0\n642447  6998       38     0.0   8906.984949      0.0        0\n642448  6998       39     0.0   8906.794644      0.0        0\n642449  6998       40     0.0   8980.310678      0.0        0\n642450  6998       41     0.0  10376.716097      0.0        0\n642451  6998       42     0.0  10376.478442      0.0        0\n642452  6998       43     0.0  10430.261147      0.0        0\n642453  6998       44     0.0  11437.014180      0.0        0\n642454  6998       45     0.0  12550.515007      0.0        0\n642455  6998       46     0.0  13427.492561      0.0        0\n642456  6998       47     0.0  15726.566412      0.0        0\n642457  6998       48     0.0  17954.396311      0.0        0\n642458  6998       49     0.0  20099.450398      0.0        0\n642459  6998       50     0.0  22458.018678      0.0        0\n642460  6998       51     0.0  24664.438489      0.0        0\n642461  6998       52     0.0  26787.130889      0.0        0\n642462  6998       53     0.0  27744.134611      0.0        0\n642463  6999        0     0.0      0.000000      0.0        0\n\n[642464 rows x 6 columns]",
      "text/html": "<div>\n<style scoped>\n    .dataframe tbody tr th:only-of-type {\n        vertical-align: middle;\n    }\n\n    .dataframe tbody tr th {\n        vertical-align: top;\n    }\n\n    .dataframe thead th {\n        text-align: right;\n    }\n</style>\n<table border=\"1\" class=\"dataframe\">\n  <thead>\n    <tr style=\"text-align: right;\">\n      <th></th>\n      <th>ship</th>\n      <th>level_1</th>\n      <th>area_3</th>\n      <th>Line_2</th>\n      <th>eff_a_l</th>\n      <th>eff_a_t</th>\n    </tr>\n  </thead>\n  <tbody>\n    <tr>\n      <th>0</th>\n      <td>0</td>\n      <td>0</td>\n      <td>0.0</td>\n      <td>0.000000</td>\n      <td>0.0</td>\n      <td>0</td>\n    </tr>\n    <tr>\n      <th>1</th>\n      <td>1</td>\n      <td>0</td>\n      <td>0.0</td>\n      <td>7145.098121</td>\n      <td>0.0</td>\n      <td>0</td>\n    </tr>\n    <tr>\n      <th>2</th>\n      <td>1</td>\n      <td>1</td>\n      <td>0.0</td>\n      <td>7397.410623</td>\n      <td>0.0</td>\n      <td>0</td>\n    </tr>\n    <tr>\n      <th>3</th>\n      <td>1</td>\n      <td>2</td>\n      <td>0.0</td>\n      <td>7521.181457</td>\n      <td>0.0</td>\n      <td>0</td>\n    </tr>\n    <tr>\n      <th>4</th>\n      <td>1</td>\n      <td>3</td>\n      <td>0.0</td>\n      <td>7851.215858</td>\n      <td>0.0</td>\n      <td>0</td>\n    </tr>\n    <tr>\n      <th>5</th>\n      <td>1</td>\n      <td>4</td>\n      <td>0.0</td>\n      <td>8202.967113</td>\n      <td>0.0</td>\n      <td>0</td>\n    </tr>\n    <tr>\n      <th>6</th>\n      <td>1</td>\n      <td>5</td>\n      <td>0.0</td>\n      <td>8722.684613</td>\n      <td>0.0</td>\n      <td>0</td>\n    </tr>\n    <tr>\n      <th>7</th>\n      <td>1</td>\n      <td>6</td>\n      <td>0.0</td>\n      <td>9740.272351</td>\n      <td>0.0</td>\n      <td>0</td>\n    </tr>\n    <tr>\n      <th>8</th>\n      <td>1</td>\n      <td>7</td>\n      <td>0.0</td>\n      <td>10452.732758</td>\n      <td>0.0</td>\n      <td>0</td>\n    </tr>\n    <tr>\n      <th>9</th>\n      <td>1</td>\n      <td>8</td>\n      <td>0.0</td>\n      <td>9749.740423</td>\n      <td>0.0</td>\n      <td>0</td>\n    </tr>\n    <tr>\n      <th>10</th>\n      <td>1</td>\n      <td>9</td>\n      <td>0.0</td>\n      <td>9459.494357</td>\n      <td>0.0</td>\n      <td>0</td>\n    </tr>\n    <tr>\n      <th>11</th>\n      <td>1</td>\n      <td>10</td>\n      <td>0.0</td>\n      <td>9466.826421</td>\n      <td>0.0</td>\n      <td>0</td>\n    </tr>\n    <tr>\n      <th>12</th>\n      <td>1</td>\n      <td>11</td>\n      <td>0.0</td>\n      <td>10724.765724</td>\n      <td>0.0</td>\n      <td>0</td>\n    </tr>\n    <tr>\n      <th>13</th>\n      <td>1</td>\n      <td>12</td>\n      <td>0.0</td>\n      <td>10902.772798</td>\n      <td>0.0</td>\n      <td>0</td>\n    </tr>\n    <tr>\n      <th>14</th>\n      <td>1</td>\n      <td>13</td>\n      <td>0.0</td>\n      <td>12238.310057</td>\n      <td>0.0</td>\n      <td>0</td>\n    </tr>\n    <tr>\n      <th>15</th>\n      <td>2</td>\n      <td>0</td>\n      <td>0.0</td>\n      <td>0.000000</td>\n      <td>0.0</td>\n      <td>0</td>\n    </tr>\n    <tr>\n      <th>16</th>\n      <td>3</td>\n      <td>0</td>\n      <td>0.0</td>\n      <td>54012.426561</td>\n      <td>0.0</td>\n      <td>0</td>\n    </tr>\n    <tr>\n      <th>17</th>\n      <td>3</td>\n      <td>1</td>\n      <td>0.0</td>\n      <td>53064.983269</td>\n      <td>0.0</td>\n      <td>0</td>\n    </tr>\n    <tr>\n      <th>18</th>\n      <td>3</td>\n      <td>2</td>\n      <td>0.0</td>\n      <td>52221.040355</td>\n      <td>0.0</td>\n      <td>0</td>\n    </tr>\n    <tr>\n      <th>19</th>\n      <td>3</td>\n      <td>3</td>\n      <td>0.0</td>\n      <td>51328.560914</td>\n      <td>0.0</td>\n      <td>0</td>\n    </tr>\n    <tr>\n      <th>20</th>\n      <td>3</td>\n      <td>4</td>\n      <td>0.0</td>\n      <td>50490.702310</td>\n      <td>0.0</td>\n      <td>0</td>\n    </tr>\n    <tr>\n      <th>21</th>\n      <td>3</td>\n      <td>5</td>\n      <td>0.0</td>\n      <td>49549.633903</td>\n      <td>0.0</td>\n      <td>0</td>\n    </tr>\n    <tr>\n      <th>22</th>\n      <td>3</td>\n      <td>6</td>\n      <td>0.0</td>\n      <td>48717.661463</td>\n      <td>0.0</td>\n      <td>0</td>\n    </tr>\n    <tr>\n      <th>23</th>\n      <td>3</td>\n      <td>7</td>\n      <td>0.0</td>\n      <td>47835.052236</td>\n      <td>0.0</td>\n      <td>0</td>\n    </tr>\n    <tr>\n      <th>24</th>\n      <td>3</td>\n      <td>8</td>\n      <td>0.0</td>\n      <td>46919.098583</td>\n      <td>0.0</td>\n      <td>0</td>\n    </tr>\n    <tr>\n      <th>25</th>\n      <td>3</td>\n      <td>9</td>\n      <td>0.0</td>\n      <td>46954.891327</td>\n      <td>0.0</td>\n      <td>0</td>\n    </tr>\n    <tr>\n      <th>26</th>\n      <td>3</td>\n      <td>10</td>\n      <td>0.0</td>\n      <td>46975.106957</td>\n      <td>0.0</td>\n      <td>0</td>\n    </tr>\n    <tr>\n      <th>27</th>\n      <td>3</td>\n      <td>11</td>\n      <td>0.0</td>\n      <td>45999.748691</td>\n      <td>0.0</td>\n      <td>0</td>\n    </tr>\n    <tr>\n      <th>28</th>\n      <td>3</td>\n      <td>12</td>\n      <td>0.0</td>\n      <td>44265.317517</td>\n      <td>0.0</td>\n      <td>0</td>\n    </tr>\n    <tr>\n      <th>29</th>\n      <td>3</td>\n      <td>13</td>\n      <td>0.0</td>\n      <td>43495.383095</td>\n      <td>0.0</td>\n      <td>0</td>\n    </tr>\n    <tr>\n      <th>...</th>\n      <td>...</td>\n      <td>...</td>\n      <td>...</td>\n      <td>...</td>\n      <td>...</td>\n      <td>...</td>\n    </tr>\n    <tr>\n      <th>642434</th>\n      <td>6998</td>\n      <td>25</td>\n      <td>0.0</td>\n      <td>2085.359068</td>\n      <td>0.0</td>\n      <td>0</td>\n    </tr>\n    <tr>\n      <th>642435</th>\n      <td>6998</td>\n      <td>26</td>\n      <td>0.0</td>\n      <td>2267.827879</td>\n      <td>0.0</td>\n      <td>0</td>\n    </tr>\n    <tr>\n      <th>642436</th>\n      <td>6998</td>\n      <td>27</td>\n      <td>0.0</td>\n      <td>2736.075526</td>\n      <td>0.0</td>\n      <td>0</td>\n    </tr>\n    <tr>\n      <th>642437</th>\n      <td>6998</td>\n      <td>28</td>\n      <td>0.0</td>\n      <td>2815.627812</td>\n      <td>0.0</td>\n      <td>0</td>\n    </tr>\n    <tr>\n      <th>642438</th>\n      <td>6998</td>\n      <td>29</td>\n      <td>0.0</td>\n      <td>2885.355412</td>\n      <td>0.0</td>\n      <td>0</td>\n    </tr>\n    <tr>\n      <th>642439</th>\n      <td>6998</td>\n      <td>30</td>\n      <td>0.0</td>\n      <td>2885.279004</td>\n      <td>0.0</td>\n      <td>0</td>\n    </tr>\n    <tr>\n      <th>642440</th>\n      <td>6998</td>\n      <td>31</td>\n      <td>0.0</td>\n      <td>3518.059213</td>\n      <td>0.0</td>\n      <td>0</td>\n    </tr>\n    <tr>\n      <th>642441</th>\n      <td>6998</td>\n      <td>32</td>\n      <td>0.0</td>\n      <td>3633.318770</td>\n      <td>0.0</td>\n      <td>0</td>\n    </tr>\n    <tr>\n      <th>642442</th>\n      <td>6998</td>\n      <td>33</td>\n      <td>0.0</td>\n      <td>3691.965433</td>\n      <td>0.0</td>\n      <td>0</td>\n    </tr>\n    <tr>\n      <th>642443</th>\n      <td>6998</td>\n      <td>34</td>\n      <td>0.0</td>\n      <td>5818.585497</td>\n      <td>0.0</td>\n      <td>0</td>\n    </tr>\n    <tr>\n      <th>642444</th>\n      <td>6998</td>\n      <td>35</td>\n      <td>0.0</td>\n      <td>9029.232541</td>\n      <td>0.0</td>\n      <td>0</td>\n    </tr>\n    <tr>\n      <th>642445</th>\n      <td>6998</td>\n      <td>36</td>\n      <td>0.0</td>\n      <td>8972.247877</td>\n      <td>0.0</td>\n      <td>0</td>\n    </tr>\n    <tr>\n      <th>642446</th>\n      <td>6998</td>\n      <td>37</td>\n      <td>0.0</td>\n      <td>8939.123100</td>\n      <td>0.0</td>\n      <td>0</td>\n    </tr>\n    <tr>\n      <th>642447</th>\n      <td>6998</td>\n      <td>38</td>\n      <td>0.0</td>\n      <td>8906.984949</td>\n      <td>0.0</td>\n      <td>0</td>\n    </tr>\n    <tr>\n      <th>642448</th>\n      <td>6998</td>\n      <td>39</td>\n      <td>0.0</td>\n      <td>8906.794644</td>\n      <td>0.0</td>\n      <td>0</td>\n    </tr>\n    <tr>\n      <th>642449</th>\n      <td>6998</td>\n      <td>40</td>\n      <td>0.0</td>\n      <td>8980.310678</td>\n      <td>0.0</td>\n      <td>0</td>\n    </tr>\n    <tr>\n      <th>642450</th>\n      <td>6998</td>\n      <td>41</td>\n      <td>0.0</td>\n      <td>10376.716097</td>\n      <td>0.0</td>\n      <td>0</td>\n    </tr>\n    <tr>\n      <th>642451</th>\n      <td>6998</td>\n      <td>42</td>\n      <td>0.0</td>\n      <td>10376.478442</td>\n      <td>0.0</td>\n      <td>0</td>\n    </tr>\n    <tr>\n      <th>642452</th>\n      <td>6998</td>\n      <td>43</td>\n      <td>0.0</td>\n      <td>10430.261147</td>\n      <td>0.0</td>\n      <td>0</td>\n    </tr>\n    <tr>\n      <th>642453</th>\n      <td>6998</td>\n      <td>44</td>\n      <td>0.0</td>\n      <td>11437.014180</td>\n      <td>0.0</td>\n      <td>0</td>\n    </tr>\n    <tr>\n      <th>642454</th>\n      <td>6998</td>\n      <td>45</td>\n      <td>0.0</td>\n      <td>12550.515007</td>\n      <td>0.0</td>\n      <td>0</td>\n    </tr>\n    <tr>\n      <th>642455</th>\n      <td>6998</td>\n      <td>46</td>\n      <td>0.0</td>\n      <td>13427.492561</td>\n      <td>0.0</td>\n      <td>0</td>\n    </tr>\n    <tr>\n      <th>642456</th>\n      <td>6998</td>\n      <td>47</td>\n      <td>0.0</td>\n      <td>15726.566412</td>\n      <td>0.0</td>\n      <td>0</td>\n    </tr>\n    <tr>\n      <th>642457</th>\n      <td>6998</td>\n      <td>48</td>\n      <td>0.0</td>\n      <td>17954.396311</td>\n      <td>0.0</td>\n      <td>0</td>\n    </tr>\n    <tr>\n      <th>642458</th>\n      <td>6998</td>\n      <td>49</td>\n      <td>0.0</td>\n      <td>20099.450398</td>\n      <td>0.0</td>\n      <td>0</td>\n    </tr>\n    <tr>\n      <th>642459</th>\n      <td>6998</td>\n      <td>50</td>\n      <td>0.0</td>\n      <td>22458.018678</td>\n      <td>0.0</td>\n      <td>0</td>\n    </tr>\n    <tr>\n      <th>642460</th>\n      <td>6998</td>\n      <td>51</td>\n      <td>0.0</td>\n      <td>24664.438489</td>\n      <td>0.0</td>\n      <td>0</td>\n    </tr>\n    <tr>\n      <th>642461</th>\n      <td>6998</td>\n      <td>52</td>\n      <td>0.0</td>\n      <td>26787.130889</td>\n      <td>0.0</td>\n      <td>0</td>\n    </tr>\n    <tr>\n      <th>642462</th>\n      <td>6998</td>\n      <td>53</td>\n      <td>0.0</td>\n      <td>27744.134611</td>\n      <td>0.0</td>\n      <td>0</td>\n    </tr>\n    <tr>\n      <th>642463</th>\n      <td>6999</td>\n      <td>0</td>\n      <td>0.0</td>\n      <td>0.000000</td>\n      <td>0.0</td>\n      <td>0</td>\n    </tr>\n  </tbody>\n</table>\n<p>642464 rows × 6 columns</p>\n</div>"
     },
     "metadata": {},
     "output_type": "execute_result",
     "execution_count": 15
    }
   ],
   "source": [
    "temp"
   ],
   "metadata": {
    "collapsed": false,
    "pycharm": {
     "name": "#%%\n",
     "is_executing": false
    }
   }
  },
  {
   "cell_type": "code",
   "execution_count": 10,
   "metadata": {
    "pycharm": {
     "is_executing": false,
     "name": "#%%\n"
    }
   },
   "outputs": [],
   "source": [
    "# temp.describe()"
   ]
  },
  {
   "cell_type": "code",
   "execution_count": 10,
   "metadata": {
    "pycharm": {
     "is_executing": false,
     "name": "#%%\n"
    }
   },
   "outputs": [],
   "source": []
  },
  {
   "cell_type": "code",
   "execution_count": 11,
   "outputs": [],
   "source": [
    "# train_order[train_order['ship']==0]"
   ],
   "metadata": {
    "collapsed": false,
    "pycharm": {
     "name": "#%%\n",
     "is_executing": false
    }
   }
  },
  {
   "cell_type": "code",
   "execution_count": 12,
   "metadata": {
    "pycharm": {
     "is_executing": false,
     "name": "#%%\n"
    }
   },
   "outputs": [],
   "source": [
    "# temp_test=train_order.groupby('ship').apply(lambda x:x['diff_dist']!=0 )\n",
    "# temp_test=pd.DataFrame(temp)\n",
    "# temp_test1=train_order.groupby('ship')['x'].diff()!=0\n",
    "# temp_test1"
   ]
  },
  {
   "cell_type": "code",
   "execution_count": 13,
   "outputs": [],
   "source": [
    "# train_moved=train_order.groupby('ship').apply(lambda x:x['diff_dist']!=0 ).reset_index()['diff_dist']\n",
    "# # temp_test3=temp_test2.reset_index(level=0,drop=True)\n",
    "# temp_test2\n",
    "# temp_test2=train_order[train_order['ship']==1]\n",
    "# temp_test2"
   ],
   "metadata": {
    "collapsed": false,
    "pycharm": {
     "name": "#%%\n",
     "is_executing": false
    }
   }
  },
  {
   "cell_type": "code",
   "execution_count": 14,
   "metadata": {
    "pycharm": {
     "is_executing": false,
     "name": "#%%\n"
    }
   },
   "outputs": [],
   "source": [
    "# b=len(train_moved)\n",
    "# b\n",
    "# drop_duplicates(subset=['ship','x','y'],keep='first',inplace=True)."
   ]
  },
  {
   "cell_type": "code",
   "execution_count": 14,
   "outputs": [],
   "source": [],
   "metadata": {
    "collapsed": false,
    "pycharm": {
     "name": "#%%\n",
     "is_executing": false
    }
   }
  }
 ],
 "metadata": {
  "kernelspec": {
   "display_name": "Python 3",
   "language": "python",
   "name": "python3"
  },
  "language_info": {
   "codemirror_mode": {
    "name": "ipython",
    "version": 3
   },
   "file_extension": ".py",
   "mimetype": "text/x-python",
   "name": "python",
   "nbconvert_exporter": "python",
   "pygments_lexer": "ipython3",
   "version": "3.7.1"
  },
  "pycharm": {
   "stem_cell": {
    "cell_type": "raw",
    "source": [],
    "metadata": {
     "collapsed": false
    }
   }
  }
 },
 "nbformat": 4,
 "nbformat_minor": 1
}