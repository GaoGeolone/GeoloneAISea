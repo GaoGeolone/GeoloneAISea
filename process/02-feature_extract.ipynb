{
 "cells": [
  {
   "cell_type": "code",
   "execution_count": 16,
   "metadata": {
    "collapsed": true,
    "pycharm": {
     "is_executing": false
    }
   },
   "outputs": [],
   "source": [
    "%matplotlib inline\n",
    "\n",
    "import pandas as pd\n",
    "import numpy as np\n",
    "import warnings\n",
    "from pylab import *"
   ]
  },
  {
   "cell_type": "code",
   "execution_count": 17,
   "metadata": {
    "pycharm": {
     "is_executing": false,
     "name": "#%%\n"
    }
   },
   "outputs": [],
   "source": [
    "warnings.filterwarnings('ignore')\n",
    "def extract_dt(df):\n",
    "    df['time'] = pd.to_datetime(df['time'], format='%m%d %H:%M:%S')\n",
    "    # df['month'] = df['time'].dt.month\n",
    "    # df['day'] = df['time'].dt.day\n",
    "    df['date'] = df['time'].dt.date\n",
    "    df['hour'] = df['time'].dt.hour\n",
    "    # df = df.drop_duplicates(['ship','month'])\n",
    "    df['weekday'] = df['time'].dt.weekday\n",
    "    return df"
   ]
  },
  {
   "cell_type": "code",
   "execution_count": 18,
   "metadata": {
    "pycharm": {
     "is_executing": false,
     "name": "#%%\n"
    }
   },
   "outputs": [],
   "source": [
    "#cited from others\n",
    "def group_feature(df, key, target, aggs):   \n",
    "    agg_dict = {}\n",
    "    for ag in aggs:\n",
    "        agg_dict[f'{target}_{ag}'] = ag\n",
    "    print(agg_dict)\n",
    "    t = df.groupby(key)[target].agg(agg_dict).reset_index()\n",
    "    return t\n",
    "\n",
    "def extract_feature(df, train_feature):\n",
    "    t = group_feature(df, 'ship','x',['max','min','mean','std','skew','sum'])\n",
    "    train_feature = pd.merge(train_feature, t, on='ship', how='left')\n",
    "    t = group_feature(df, 'ship','x',['count'])\n",
    "    train_feature = pd.merge(train_feature, t, on='ship', how='left')\n",
    "    t = group_feature(df, 'ship','y',['max','min','mean','std','skew','sum'])\n",
    "    train_feature = pd.merge(train_feature, t, on='ship', how='left')\n",
    "    t = group_feature(df, 'ship','v',['max','min','mean','std','skew','sum'])\n",
    "    train_feature = pd.merge(train_feature, t, on='ship', how='left')\n",
    "    t = group_feature(df, 'ship','d',['max','min','mean','std','skew','sum'])\n",
    "    train_feature = pd.merge(train_feature, t, on='ship', how='left')\n",
    "    train_feature['x_max_x_min'] = train_feature['x_max'] - train_feature['x_min']\n",
    "    train_feature['y_max_y_min'] = train_feature['y_max'] - train_feature['y_min']\n",
    "    train_feature['y_max_x_min'] = train_feature['y_max'] - train_feature['x_min']\n",
    "    train_feature['x_max_y_min'] = train_feature['x_max'] - train_feature['y_min']\n",
    "    train_feature['slope'] = train_feature['y_max_y_min'] / np.where(train_feature['x_max_x_min']==0, 0.001, train_feature['x_max_x_min'])\n",
    "    train_feature['area'] = train_feature['x_max_x_min'] * train_feature['y_max_y_min']\n",
    "    \n",
    "    mode_hour = df.groupby('ship')['hour'].agg(lambda x:x.value_counts().index[0]).to_dict()\n",
    "    train_feature['mode_hour'] = train_feature['ship'].map(mode_hour)\n",
    "    \n",
    "    t = group_feature(df, 'ship','hour',['max','min'])\n",
    "    train_feature = pd.merge(train_feature, t, on='ship', how='left')\n",
    "    \n",
    "    hour_nunique = df.groupby('ship')['hour'].nunique().to_dict()\n",
    "    date_nunique = df.groupby('ship')['date'].nunique().to_dict()\n",
    "    train_feature['hour_nunique'] = train_feature['ship'].map(hour_nunique)\n",
    "    train_feature['date_nunique'] = train_feature['ship'].map(date_nunique)\n",
    "\n",
    "    t = df.groupby('ship')['time'].agg({'diff_time':lambda x:np.max(x)-np.min(x)}).reset_index()\n",
    "    t['diff_day'] = t['diff_time'].dt.days\n",
    "    t['diff_second'] = t['diff_time'].dt.seconds\n",
    "    train_feature = pd.merge(train_feature, t, on='ship', how='left')\n",
    "    return train_feature"
   ]
  },
  {
   "cell_type": "code",
   "execution_count": 19,
   "metadata": {
    "pycharm": {
     "is_executing": false,
     "name": "#%%\n"
    }
   },
   "outputs": [],
   "source": [
    "#this function will get an n-2 length series\n",
    "def translation_forward(list_in,n):\n",
    "    for i in range(n):\n",
    "        list_in.pop(0)\n",
    "    return list_in\n",
    "\n",
    "def area_tri(groupbied):\n",
    "    # area_triangle=[]change to dataframe\n",
    "    # 创建空DataFrame\n",
    "    # ship_id=groupbied['ship'].unique().item(0)\n",
    "    if len(groupbied) > 49:\n",
    "        x1_list=list(groupbied['x'])\n",
    "        y1_list=list(groupbied['y'])\n",
    "        x2_list=list(translation_forward(x1_list,16))\n",
    "        y2_list=list(translation_forward(y1_list,16))\n",
    "        x3_list=list(translation_forward(x2_list,32))\n",
    "        y3_list=list(translation_forward(y2_list,32))\n",
    "        # t=list(groupbied['time'])\n",
    "        delta_t1=list(groupbied['time'])\n",
    "        delta_t2=list(translation_forward(delta_t1,48))\n",
    "        area_list=[]\n",
    "        line_2_list=[]\n",
    "        eff_a_l_list=[]\n",
    "        eff_a_t_list=[]\n",
    "        for x1, y1, x2, y2, x3, y3, diff_t1, diff_t2 in zip(x1_list,y1_list,x2_list,y2_list,x3_list,y3_list,delta_t1,delta_t2):\n",
    "            a=np.sqrt((x2-x3)**2+(y2-y3)**2)\n",
    "            b=np.sqrt((x1-x3)**2+(y1-y3)**2)\n",
    "            c=np.sqrt((x1-x2)**2+(y1-y2)**2)\n",
    "            s = (a + b + c) / 2\n",
    "            l=a+c\n",
    "            area=(s*(s-a)*(s-b)*(s-c)) ** 0.5\n",
    "            diff_t=(diff_t2 - diff_t1)/np.timedelta64(1, 'h')\n",
    "            eff_area_line=area/l if l!=0 else 0\n",
    "            eff_area_diff_t=area /diff_t if diff_t!=0 else 0\n",
    "            # area_triangle.append(s)\n",
    "            area_list.append(area)\n",
    "            line_2_list.append(l)\n",
    "            eff_a_l_list.append(eff_area_line)\n",
    "            eff_a_t_list.append(eff_area_diff_t)\n",
    "        area_triangle = pd.DataFrame(list(zip(area_list, line_2_list, eff_a_l_list, eff_a_t_list)))\n",
    "        area_triangle.columns = ['area_3','Line_2','eff_a_l','eff_a_t']  \n",
    "        # area_triangle = area_triangle.append(temp_df,ignore_index=True)\n",
    "    else:\n",
    "        area_triangle=pd.DataFrame({'area_3':[0],'Line_2':[0],'eff_a_l':[0],'eff_a_t':[0]})\n",
    "    return area_triangle"
   ]
  },
  {
   "cell_type": "code",
   "execution_count": 20,
   "outputs": [],
   "source": [
    "#add FFT\n",
    "def fft_v(groupbied):\n",
    "    nSampleNum = len(groupbied)\n",
    "    sampleTime = groupbied['diff_time'].mean()\n",
    "    ncount = (nSampleNum-1)*sampleTime\n",
    "    delta_f = nSampleNum / ncount\n",
    "    x = np.linspace(0,sampleTime,ncount)#时域波形x轴坐标\n",
    "    freqLine = nSampleNum\n",
    "    v = groupbied['v'].values#np.sin(2*pi*250*x)\n",
    "    fft = abs(np.fft.fft(v))[0:freqLine]  #调用fft变换算法计算频域波形\n",
    "    fftx = np.linspace(0,delta_f*freqLine,freqLine)  #频域波形x轴坐标\n",
    "    fft_low = pd.DataFrame(fft[fftx<freqLine*0.25]).describe().T.add_prefix('fft_low_')\n",
    "    fft_mid_l = pd.DataFrame(fft[(fftx>=freqLine*0.25) & (fftx<freqLine*0.5)]).describe().T.add_prefix('fft_mid_l_')\n",
    "    fft_mid_h = pd.DataFrame(fft[(fftx>=freqLine*0.5) & (fftx<freqLine*0.75)]).describe().T.add_prefix('fft_mid_h_')\n",
    "    fft_high = pd.DataFrame(fft[fftx>=freqLine*0.75]).describe().T.add_prefix('fft_high_')\n",
    "    FFT_=pd.concat([fft_low, fft_mid_l, fft_mid_h, fft_high], axis=1)\n",
    "    return FFT_"
   ],
   "metadata": {
    "collapsed": false,
    "pycharm": {
     "name": "#%%\n",
     "is_executing": false
    }
   }
  },
  {
   "cell_type": "code",
   "execution_count": 51,
   "metadata": {
    "pycharm": {
     "is_executing": false,
     "name": "#%%\n"
    }
   },
   "outputs": [],
   "source": [
    "def feature_version2(df,feature_label):\n",
    "    df_order=df.groupby('ship').apply(lambda x: x.sort_values('time',ascending=True))\n",
    "    df_order.reset_index(level=0,drop=True,inplace=True)# save the inner index number step#1\n",
    "    df_order.index.name ='inner_rev_index'# save the inner index number step#2\n",
    "    df_order.reset_index(drop=False,inplace=True)#add 0-N index\n",
    "    df_order['inner_ord_index']=df.index#use the former subIndex to Mark the t0-tN\n",
    "    df_order['diff_time']=pd.DataFrame(df_order.groupby('ship').apply(lambda x:x['time'].diff()/np.timedelta64(1, 'h'))).reset_index()['time']\n",
    "    df_order['diff_dist']=pd.DataFrame(df_order.groupby('ship').apply(lambda x:np.sqrt(x['x'].diff()**2+x['y'].diff()**2))).reset_index()[0]\n",
    "    df_order['est_v']=pd.DataFrame(df_order.groupby('ship').apply(lambda x:x['diff_dist']/x['diff_time'])).reset_index()[0]\n",
    "    df_order['est_diff_dist']=pd.DataFrame(df_order.groupby('ship').apply(lambda x:x['v']*x['diff_time']*1852)).reset_index()[0]\n",
    "    v_feature=pd.DataFrame(df_order.groupby('ship').apply(fft_v)).reset_index()\n",
    "    feature_label = pd.merge(feature_label, v_feature, on='ship', how='left')\n",
    "    temp=pd.DataFrame(train_order[train_order['inner_ord_index']==0][['ship','x','y']]).reset_index(drop=True).rename(columns={'x':'start_x', 'y':'start_y'}, inplace = False)\n",
    "    feature_label = pd.merge(feature_label, temp, on='ship', how='left')\n",
    "    temp=pd.DataFrame(train_order[train_order['inner_rev_index']==0][['ship','x','y']]).reset_index(drop=True).rename(columns={'x':'end_x', 'y':'end_y'}, inplace = False)\n",
    "    feature_label = pd.merge(feature_label, temp, on='ship', how='left')\n",
    "    return feature_label"
   ]
  },
  {
   "cell_type": "code",
   "execution_count": 22,
   "outputs": [],
   "source": [
    "train = pd.read_hdf('../input/train.h5')\n",
    "test = pd.read_hdf('../input/test.h5')\n",
    "train_label = train.drop_duplicates('ship')\n",
    "type_map = dict(zip(train_label['type'].unique(), np.arange(3)))\n",
    "# rev means a reversed map relation\n",
    "type_map_rev = {v:k for k,v in type_map.items()} \n",
    "train_label['type'] = train_label['type'].map(type_map)\n",
    "train = extract_dt(train)\n",
    "test = extract_dt(test)"
   ],
   "metadata": {
    "collapsed": false,
    "pycharm": {
     "name": "#%%\n",
     "is_executing": false
    }
   }
  },
  {
   "cell_type": "code",
   "execution_count": 23,
   "metadata": {
    "pycharm": {
     "is_executing": false,
     "name": "#%%\n"
    }
   },
   "outputs": [
    {
     "name": "stdout",
     "text": [
      "RangeIndex(start=0, stop=2699638, step=1)\n"
     ],
     "output_type": "stream"
    }
   ],
   "source": [
    "#add more information about distribution on dist and time\n",
    "train_order=train.groupby('ship').apply(lambda x: x.sort_values('time',ascending=True))\n",
    "train_order.reset_index(level=0,drop=True,inplace=True)# save the inner index number step#1\n",
    "train_order.index.name ='inner_rev_index'# save the inner index number step#2\n",
    "train_order.reset_index(drop=False,inplace=True)#add 0-N index\n",
    "print(train_order.index)\n",
    "train_order['inner_ord_index']=train.index#use the former subIndex to Mark the t0-tN\n"
   ]
  },
  {
   "cell_type": "code",
   "execution_count": 24,
   "metadata": {
    "pycharm": {
     "is_executing": false,
     "name": "#%%\n"
    }
   },
   "outputs": [],
   "source": [
    "train_order['diff_time']=pd.DataFrame(train_order.groupby('ship').apply(lambda x:x['time'].diff()/np.timedelta64(1, 'h'))).reset_index()['time']\n",
    "train_order['diff_dist']=pd.DataFrame(train_order.groupby('ship').apply(lambda x:np.sqrt(x['x'].diff()**2+x['y'].diff()**2))).reset_index()[0]\n",
    "train_order['est_v']=pd.DataFrame(train_order.groupby('ship').apply(lambda x:x['diff_dist']/x['diff_time'])).reset_index()[0]\n",
    "train_order['est_diff_dist']=pd.DataFrame(train_order.groupby('ship').apply(lambda x:x['v']*x['diff_time']*1852)).reset_index()[0]"
   ]
  },
  {
   "cell_type": "code",
   "execution_count": 25,
   "outputs": [
    {
     "data": {
      "text/plain": "      ship  level_1  fft_low_count  fft_low_mean  fft_low_std  fft_low_min  \\\n0        0        0           18.0     83.887142    20.625293    47.175858   \n1        1        0           18.0    147.012768   153.170569    30.443463   \n2        2        0           18.0     57.564297    22.687140    29.253883   \n3        3        0           18.0    126.425416   118.286181    28.043566   \n4        4        0           18.0    123.666232   125.777353     7.531766   \n5        5        0           18.0    152.375111   186.085091    19.272286   \n6        6        0           18.0    103.670156   343.094106     3.943101   \n7        7        0           15.0    269.208814   403.150860    36.177491   \n8        8        0           18.0     94.020859   282.215158     8.456955   \n9        9        0           18.0      0.949064     1.034886     0.251119   \n10      10        0           18.0    137.242571   138.621280     8.922609   \n11      11        0           18.0     95.563979    93.098031    24.919015   \n12      12        0           18.0    114.711209   193.056716    22.801120   \n13      13        0           18.0      9.881910    14.252283     3.326027   \n14      14        0           18.0     20.258116    14.520441    10.649186   \n15      15        0           18.0     55.199637    63.385313     1.082994   \n16      16        0           18.0    123.471493   180.116729    25.063206   \n17      17        0           15.0    150.962492   222.200859    14.633163   \n18      18        0           18.0     17.748182    15.811212     9.028092   \n19      19        0           18.0    208.741311   277.974248    10.441432   \n20      20        0           18.0    149.568765   168.417756     6.210053   \n21      21        0           18.0    114.817007   183.339422     4.594094   \n22      22        0           18.0    178.947588   205.935757    19.510975   \n23      23        0           18.0    121.690246    82.047731    33.605334   \n24      24        0           18.0    123.090724   270.999803    16.684981   \n25      25        0           18.0    117.137483   240.734139    39.653253   \n26      26        0           18.0    173.955899   184.855989    51.888793   \n27      27        0           15.0     30.233502    29.571595     7.902954   \n28      28        0           18.0    136.160383   219.607324    40.327694   \n29      29        0           18.0    177.094062   282.195235    23.360971   \n...    ...      ...            ...           ...          ...          ...   \n6970  6970        0           18.0    131.592727   118.925657    11.526397   \n6971  6971        0           18.0    189.362393   289.192003    20.895518   \n6972  6972        0           18.0     97.409518   330.293495     6.980006   \n6973  6973        0           18.0      9.629589    14.298309     2.537375   \n6974  6974        0           18.0     11.260557    13.535538     4.555424   \n6975  6975        0           18.0    114.976355    67.978499    48.052158   \n6976  6976        0           18.0    106.416344   123.785939     7.293158   \n6977  6977        0           18.0      1.806277     1.389737     0.093882   \n6978  6978        0           18.0    161.517518   141.155428    20.122863   \n6979  6979        0           18.0     33.414789    14.777467    26.645586   \n6980  6980        0           18.0    184.882194   188.553841    22.014183   \n6981  6981        0           18.0    192.833383   287.019704    21.982051   \n6982  6982        0           15.0     98.329673    41.399747    67.126862   \n6983  6983        0           18.0    114.640216   277.017190     5.228330   \n6984  6984        0           18.0    207.832943   318.992115    23.135980   \n6985  6985        0           18.0    136.714636   155.306623    14.790411   \n6986  6986        0           18.0      9.876647    16.356678     0.513106   \n6987  6987        0           15.0    153.485437   151.558282    40.613848   \n6988  6988        0           18.0     10.113200    13.102603     2.457416   \n6989  6989        0           17.0     33.035358     6.944147    27.433915   \n6990  6990        0           18.0    214.804254   277.846328    25.731357   \n6991  6991        0           18.0    124.807126   173.924993    32.763200   \n6992  6992        0           18.0    117.387449   127.764249     6.909900   \n6993  6993        0           18.0      8.240743    11.129339     2.207209   \n6994  6994        0           18.0     89.048284   100.502919    17.361347   \n6995  6995        0           15.0    170.430650   243.588960     6.981129   \n6996  6996        0           18.0    116.138352   261.182178    13.720742   \n6997  6997        0           18.0    114.512940   111.142995    15.902142   \n6998  6998        0           15.0    106.122553   164.560765    23.904466   \n6999  6999        0           18.0    140.818035   119.832754     8.818665   \n\n      fft_low_25%  fft_low_50%  fft_low_75%  fft_low_max      ...       \\\n0       67.579416    88.184464   101.971765       110.11      ...        \n1       74.020849    99.350370   146.822637       619.05      ...        \n2       46.006162    55.918018    62.849070       138.67      ...        \n3       50.211547    88.676866   154.085054       492.90      ...        \n4       56.821201    91.643426   137.658744       566.30      ...        \n5       49.139904    70.594554   133.495176       642.68      ...        \n6       16.548537    21.650586    29.035464      1477.81      ...        \n7       74.082905   126.441049   213.185323      1561.66      ...        \n8       14.788280    26.157642    40.810715      1222.94      ...        \n9        0.575736     0.678352     0.921383         4.97      ...        \n10      46.693775    94.396777   149.989951       521.60      ...        \n11      38.126405    64.111539    91.606940       369.37      ...        \n12      30.484773    54.913795    94.780531       833.06      ...        \n13       5.352407     6.780353     7.709358        66.60      ...        \n14      11.751607    16.728464    20.706974        73.76      ...        \n15      27.056088    42.582090    58.623009       294.91      ...        \n16      61.977082    71.504200    87.763967       807.17      ...        \n17      41.688593    68.015401   133.787445       870.98      ...        \n18      11.635873    13.340605    17.273680        79.42      ...        \n19      62.347845   108.160239   214.470439      1076.94      ...        \n20      42.597850   113.727139   189.216213       722.84      ...        \n21      29.658317    52.680564    92.068579       746.90      ...        \n22      54.472692    84.500245   235.860045       761.36      ...        \n23      64.415958   105.110742   138.615275       329.40      ...        \n24      39.828960    53.267652    84.878961      1202.30      ...        \n25      50.683940    58.003760    71.557089      1079.57      ...        \n26      84.583837   112.866756   184.655289       864.06      ...        \n27      14.917589    25.015096    31.836474       126.72      ...        \n28      47.851941    60.223299    96.657800       962.10      ...        \n29      57.444040    99.059996   117.861773      1251.64      ...        \n...           ...          ...          ...          ...      ...        \n6970    39.917579   106.446582   144.757612       452.03      ...        \n6971    56.251296    92.307680   196.761256      1284.80      ...        \n6972    13.805797    17.135901    30.806099      1420.45      ...        \n6973     4.590769     5.956594     8.492076        65.93      ...        \n6974     6.137915     8.019638    10.400854        64.58      ...        \n6975    66.747477    84.552129   150.476775       278.19      ...        \n6976    45.169111    89.322962   112.329621       574.97      ...        \n6977     0.905199     1.332670     2.280044         5.78      ...        \n6978   102.182586   110.777092   200.428751       641.10      ...        \n6979    29.021564    30.059114    31.812108        91.99      ...        \n6980    65.183667   165.709702   218.976300       861.32      ...        \n6981    59.944240    95.910800   173.197829      1259.85      ...        \n6982    80.211215    91.219493    99.668250       242.64      ...        \n6983    31.350711    56.027736    72.920504      1220.64      ...        \n6984    75.900738   111.871235   183.329873      1412.51      ...        \n6985    58.703446   101.771184   136.596861       703.47      ...        \n6986     3.985831     5.102075     9.515748        73.89      ...        \n6987    85.984340   102.244065   151.562761       662.87      ...        \n6988     5.224587     7.653792     8.847346        61.58      ...        \n6989    30.336705    31.233710    32.487012        58.70      ...        \n6990    70.150001   114.777938   191.951486      1180.93      ...        \n6991    52.831795    67.508519   108.501779       768.13      ...        \n6992    47.447659    82.045753   115.306347       566.95      ...        \n6993     3.511571     5.369102     8.343026        51.53      ...        \n6994    38.985737    64.741548    98.632811       459.09      ...        \n6995    44.891046    91.254542   179.169364       987.32      ...        \n6996    43.732578    56.146850    64.580705      1159.32      ...        \n6997    53.181575    88.719962   132.733318       471.34      ...        \n6998    33.825216    44.024806    68.724795       634.84      ...        \n6999    55.237488    75.959826   226.853469       400.09      ...        \n\n      fft_mid_h_75%  fft_mid_h_max  fft_high_count  fft_high_mean  \\\n0         13.395191      20.741462           360.0      11.629517   \n1         17.370267      26.003670           331.0      14.728231   \n2         59.624705      64.354406           179.0      51.045664   \n3         28.903377      35.314139           281.0      24.332056   \n4         37.834128      89.315933           347.0      32.401890   \n5         28.891941      34.058088           321.0      23.905038   \n6         21.624657      33.631489           340.0      12.764592   \n7         52.661721      62.156858           303.0      30.190478   \n8         27.445733      44.944910           312.0      20.560298   \n9          0.654633       1.439506           343.0       0.473611   \n10        24.326959      31.248209           343.0      22.357663   \n11        18.182301      19.741667           323.0      14.992640   \n12        50.478737      60.922408           362.0      25.493930   \n13         6.792643       9.062771           372.0       5.941071   \n14        20.894727      22.530807           348.0      11.635871   \n15        32.085662      53.004512           328.0      18.864758   \n16        47.523049      61.837590           344.0      24.216800   \n17        22.347805      26.387646           220.0      25.148611   \n18         7.530182      12.039835           355.0       6.304613   \n19        40.409702      47.847994           334.0      28.514089   \n20        39.953463      56.834743           322.0      29.383791   \n21        48.319885      77.816329           361.0      25.432456   \n22        26.406923      46.672784           368.0      29.719951   \n23        20.541745      34.914185           345.0      20.469649   \n24        54.714988      84.305050           338.0      29.136205   \n25        30.099557      53.371512           334.0      22.052809   \n26        51.600369      83.341628           324.0      33.101516   \n27        31.743367      52.032624           106.0      20.240333   \n28        20.319377      41.948113           350.0      16.673929   \n29        62.202480      80.189477           368.0      34.275868   \n...             ...            ...             ...            ...   \n6970      28.368965      37.795250           346.0      23.197216   \n6971      36.175621      55.710997           330.0      26.984928   \n6972      16.595234      38.019840           354.0      11.800512   \n6973       7.287644      10.869872           343.0       5.968267   \n6974       9.111060      10.035963           331.0       5.273281   \n6975      18.179496      21.108361           357.0      17.524777   \n6976      27.911802      47.902654           363.0      23.739765   \n6977       1.864671       3.171677           354.0       1.568775   \n6978      47.190229      78.610427           349.0      33.528133   \n6979      30.081416      34.153224           360.0      20.186339   \n6980      48.618802      76.156211           370.0      35.649314   \n6981      37.989183      76.968978           357.0      30.785906   \n6982     101.113049     101.917667             0.0            NaN   \n6983      47.792996      66.780237           362.0      20.237511   \n6984      29.852699      54.237763           342.0      20.743564   \n6985      30.168947      46.435920           360.0      28.222394   \n6986       7.864499      12.362631           359.0       6.204545   \n6987      44.943948      71.583883           262.0      29.630738   \n6988       8.211603       9.699709           324.0       5.573042   \n6989      30.673993      32.276096           135.0      30.012535   \n6990      40.094791      53.138420           327.0      30.702277   \n6991      57.805066      93.016501           370.0      30.792514   \n6992      42.433345      75.089869           338.0      43.151966   \n6993       5.272887       9.019471           364.0       3.835007   \n6994      29.705675      53.661195           193.0      22.732751   \n6995      41.607581      57.729384           275.0      27.074648   \n6996      35.847846      47.438482           329.0      16.868186   \n6997      35.678229      65.129174           260.0      23.081844   \n6998      35.678748      39.721441           279.0      20.203879   \n6999      35.133649      47.170197           363.0      21.126657   \n\n      fft_high_std  fft_high_min  fft_high_25%  fft_high_50%  fft_high_75%  \\\n0        17.445930      0.359979      4.511088      7.045699     10.342505   \n1        33.473458      0.545854      5.235012      8.332708     12.514176   \n2        10.059779     27.399145     43.608261     51.484586     58.068341   \n3        29.207781      1.324192     11.032982     20.093767     26.913541   \n4        27.448425      1.809252     17.553343     25.929871     36.939714   \n5        41.160528      1.723069     11.805141     17.936838     23.478767   \n6         7.182024      0.200111      7.437246     11.667549     16.700356   \n7        53.769670      1.377165     13.030203     20.926804     32.271687   \n8        11.760064      1.261237     11.461559     18.137247     28.883798   \n9         0.257234      0.022489      0.274523      0.474169      0.602427   \n10       31.951424      1.392921     10.857801     15.898440     24.530432   \n11       22.102152      1.400032      6.566378     11.128061     15.506374   \n12       24.397315      1.571994     13.186152     20.883039     29.465558   \n13        1.699589      0.633347      4.695063      5.921028      7.181824   \n14        5.700567      1.968718      7.430112     10.608135     14.203900   \n15       12.385185      0.990000      9.319628     16.432888     25.678786   \n16       22.669573      0.563593     12.055406     18.710120     30.215451   \n17       33.359130      1.004166     11.281571     20.056800     30.110100   \n18        3.322735      0.711579      3.978550      5.812033      8.092866   \n19       50.753522      1.613050     13.494212     21.061616     28.590303   \n20       32.178630      2.787962     13.491312     22.299348     34.739113   \n21       26.914851      0.927296     13.566071     19.631923     28.718290   \n22       42.532859      2.219658     14.604713     23.227745     34.017445   \n23       26.595064      0.886467      9.922369     14.340743     21.546205   \n24       19.116234      1.641128     18.110531     24.482967     36.788646   \n25       15.140974      0.939228     11.608921     18.970029     29.069527   \n26       33.479946      2.661476     12.703871     27.055474     41.515226   \n27       11.267912      2.253714      9.833975     19.825637     27.404423   \n28       24.465400      0.702966      8.149437     12.607743     17.461599   \n29       31.896968      2.212521     17.026516     26.484237     41.269683   \n...            ...           ...           ...           ...           ...   \n6970     29.589096      1.571607     11.589434     17.998756     26.778643   \n6971     34.154076      1.701147     13.530370     19.193410     28.423735   \n6972      6.584330      0.787794      6.910746     11.059209     14.879881   \n6973      2.782815      0.274936      3.912887      5.890769      7.783509   \n6974      2.388038      0.329729      3.498327      5.227013      6.802158   \n6975     23.944165      0.552113      8.096559     13.304209     17.427794   \n6976     18.087920      2.082316     13.352304     20.792622     28.658563   \n6977      0.686157      0.029989      1.074750      1.602201      2.004018   \n6978     34.404916      2.029662     16.522187     26.459537     39.510896   \n6979      7.044442      4.493104     13.953955     20.222600     26.619135   \n6980     34.132534      1.321508     18.771167     27.828824     41.260461   \n6981     35.106489      1.053495     15.875047     24.625358     37.300011   \n6982           NaN           NaN           NaN           NaN           NaN   \n6983     15.391079      0.925479      9.415350     16.577939     25.307956   \n6984     37.369603      1.757962      7.501835     13.234374     19.293113   \n6985     25.435967      2.058458     14.494606     24.271204     33.597681   \n6986      2.961729      0.513106      3.818396      5.949754      8.252592   \n6987     30.168771      0.576155     14.216889     22.347612     33.716659   \n6988      1.976640      0.929521      4.138054      5.642708      7.045609   \n6989      1.346472     27.433915     29.155071     29.863275     30.699939   \n6990     45.565781      2.319085     13.554476     21.850308     32.826437   \n6991     24.854914      5.167534     16.848850     25.763593     35.714889   \n6992     27.418950      2.024472     25.825041     38.045159     54.968072   \n6993      1.945170      0.562656      2.350204      3.663947      5.057015   \n6994     20.787421      1.849444     11.985119     18.900351     27.412414   \n6995     30.767687      1.715446     14.236960     21.401091     30.022967   \n6996     14.776542      0.969262      8.215883     12.803086     19.259646   \n6997     27.648721      2.270501      9.864932     16.249604     25.559045   \n6998     22.797946      0.340000      9.764559     16.683409     24.734406   \n6999     33.265377      1.938836      9.874414     15.609510     21.192290   \n\n      fft_high_max  \n0       107.015931  \n1       466.919493  \n2        73.207900  \n3       336.832017  \n4       262.391041  \n5       533.047879  \n6        46.042178  \n7       787.845823  \n8        65.612300  \n9         1.439506  \n10      406.574732  \n11      276.175197  \n12      326.371830  \n13       10.311283  \n14       30.663087  \n15       77.704264  \n16      281.021728  \n17      326.554917  \n18       20.897932  \n19      722.828839  \n20      330.904797  \n21      416.309280  \n22      588.867343  \n23      263.945531  \n24      135.876508  \n25      105.122194  \n26      278.645614  \n27       57.107986  \n28      340.746327  \n29      375.834170  \n...            ...  \n6970    322.657964  \n6971    320.491008  \n6972     38.019840  \n6973     14.593736  \n6974     13.560339  \n6975    225.978505  \n6976    145.907722  \n6977      4.010135  \n6978    322.348663  \n6979     34.153224  \n6980    307.070110  \n6981    395.657551  \n6982           NaN  \n6983     82.099408  \n6984    396.870233  \n6985    279.754281  \n6986     14.204547  \n6987    231.712880  \n6988     11.711777  \n6989     37.422031  \n6990    546.806094  \n6991    314.458253  \n6992    230.464342  \n6993     10.718652  \n6994    152.454397  \n6995    302.664857  \n6996    118.293373  \n6997    301.195762  \n6998    330.740159  \n6999    325.722154  \n\n[7000 rows x 34 columns]",
      "text/html": "<div>\n<style scoped>\n    .dataframe tbody tr th:only-of-type {\n        vertical-align: middle;\n    }\n\n    .dataframe tbody tr th {\n        vertical-align: top;\n    }\n\n    .dataframe thead th {\n        text-align: right;\n    }\n</style>\n<table border=\"1\" class=\"dataframe\">\n  <thead>\n    <tr style=\"text-align: right;\">\n      <th></th>\n      <th>ship</th>\n      <th>level_1</th>\n      <th>fft_low_count</th>\n      <th>fft_low_mean</th>\n      <th>fft_low_std</th>\n      <th>fft_low_min</th>\n      <th>fft_low_25%</th>\n      <th>fft_low_50%</th>\n      <th>fft_low_75%</th>\n      <th>fft_low_max</th>\n      <th>...</th>\n      <th>fft_mid_h_75%</th>\n      <th>fft_mid_h_max</th>\n      <th>fft_high_count</th>\n      <th>fft_high_mean</th>\n      <th>fft_high_std</th>\n      <th>fft_high_min</th>\n      <th>fft_high_25%</th>\n      <th>fft_high_50%</th>\n      <th>fft_high_75%</th>\n      <th>fft_high_max</th>\n    </tr>\n  </thead>\n  <tbody>\n    <tr>\n      <th>0</th>\n      <td>0</td>\n      <td>0</td>\n      <td>18.0</td>\n      <td>83.887142</td>\n      <td>20.625293</td>\n      <td>47.175858</td>\n      <td>67.579416</td>\n      <td>88.184464</td>\n      <td>101.971765</td>\n      <td>110.11</td>\n      <td>...</td>\n      <td>13.395191</td>\n      <td>20.741462</td>\n      <td>360.0</td>\n      <td>11.629517</td>\n      <td>17.445930</td>\n      <td>0.359979</td>\n      <td>4.511088</td>\n      <td>7.045699</td>\n      <td>10.342505</td>\n      <td>107.015931</td>\n    </tr>\n    <tr>\n      <th>1</th>\n      <td>1</td>\n      <td>0</td>\n      <td>18.0</td>\n      <td>147.012768</td>\n      <td>153.170569</td>\n      <td>30.443463</td>\n      <td>74.020849</td>\n      <td>99.350370</td>\n      <td>146.822637</td>\n      <td>619.05</td>\n      <td>...</td>\n      <td>17.370267</td>\n      <td>26.003670</td>\n      <td>331.0</td>\n      <td>14.728231</td>\n      <td>33.473458</td>\n      <td>0.545854</td>\n      <td>5.235012</td>\n      <td>8.332708</td>\n      <td>12.514176</td>\n      <td>466.919493</td>\n    </tr>\n    <tr>\n      <th>2</th>\n      <td>2</td>\n      <td>0</td>\n      <td>18.0</td>\n      <td>57.564297</td>\n      <td>22.687140</td>\n      <td>29.253883</td>\n      <td>46.006162</td>\n      <td>55.918018</td>\n      <td>62.849070</td>\n      <td>138.67</td>\n      <td>...</td>\n      <td>59.624705</td>\n      <td>64.354406</td>\n      <td>179.0</td>\n      <td>51.045664</td>\n      <td>10.059779</td>\n      <td>27.399145</td>\n      <td>43.608261</td>\n      <td>51.484586</td>\n      <td>58.068341</td>\n      <td>73.207900</td>\n    </tr>\n    <tr>\n      <th>3</th>\n      <td>3</td>\n      <td>0</td>\n      <td>18.0</td>\n      <td>126.425416</td>\n      <td>118.286181</td>\n      <td>28.043566</td>\n      <td>50.211547</td>\n      <td>88.676866</td>\n      <td>154.085054</td>\n      <td>492.90</td>\n      <td>...</td>\n      <td>28.903377</td>\n      <td>35.314139</td>\n      <td>281.0</td>\n      <td>24.332056</td>\n      <td>29.207781</td>\n      <td>1.324192</td>\n      <td>11.032982</td>\n      <td>20.093767</td>\n      <td>26.913541</td>\n      <td>336.832017</td>\n    </tr>\n    <tr>\n      <th>4</th>\n      <td>4</td>\n      <td>0</td>\n      <td>18.0</td>\n      <td>123.666232</td>\n      <td>125.777353</td>\n      <td>7.531766</td>\n      <td>56.821201</td>\n      <td>91.643426</td>\n      <td>137.658744</td>\n      <td>566.30</td>\n      <td>...</td>\n      <td>37.834128</td>\n      <td>89.315933</td>\n      <td>347.0</td>\n      <td>32.401890</td>\n      <td>27.448425</td>\n      <td>1.809252</td>\n      <td>17.553343</td>\n      <td>25.929871</td>\n      <td>36.939714</td>\n      <td>262.391041</td>\n    </tr>\n    <tr>\n      <th>5</th>\n      <td>5</td>\n      <td>0</td>\n      <td>18.0</td>\n      <td>152.375111</td>\n      <td>186.085091</td>\n      <td>19.272286</td>\n      <td>49.139904</td>\n      <td>70.594554</td>\n      <td>133.495176</td>\n      <td>642.68</td>\n      <td>...</td>\n      <td>28.891941</td>\n      <td>34.058088</td>\n      <td>321.0</td>\n      <td>23.905038</td>\n      <td>41.160528</td>\n      <td>1.723069</td>\n      <td>11.805141</td>\n      <td>17.936838</td>\n      <td>23.478767</td>\n      <td>533.047879</td>\n    </tr>\n    <tr>\n      <th>6</th>\n      <td>6</td>\n      <td>0</td>\n      <td>18.0</td>\n      <td>103.670156</td>\n      <td>343.094106</td>\n      <td>3.943101</td>\n      <td>16.548537</td>\n      <td>21.650586</td>\n      <td>29.035464</td>\n      <td>1477.81</td>\n      <td>...</td>\n      <td>21.624657</td>\n      <td>33.631489</td>\n      <td>340.0</td>\n      <td>12.764592</td>\n      <td>7.182024</td>\n      <td>0.200111</td>\n      <td>7.437246</td>\n      <td>11.667549</td>\n      <td>16.700356</td>\n      <td>46.042178</td>\n    </tr>\n    <tr>\n      <th>7</th>\n      <td>7</td>\n      <td>0</td>\n      <td>15.0</td>\n      <td>269.208814</td>\n      <td>403.150860</td>\n      <td>36.177491</td>\n      <td>74.082905</td>\n      <td>126.441049</td>\n      <td>213.185323</td>\n      <td>1561.66</td>\n      <td>...</td>\n      <td>52.661721</td>\n      <td>62.156858</td>\n      <td>303.0</td>\n      <td>30.190478</td>\n      <td>53.769670</td>\n      <td>1.377165</td>\n      <td>13.030203</td>\n      <td>20.926804</td>\n      <td>32.271687</td>\n      <td>787.845823</td>\n    </tr>\n    <tr>\n      <th>8</th>\n      <td>8</td>\n      <td>0</td>\n      <td>18.0</td>\n      <td>94.020859</td>\n      <td>282.215158</td>\n      <td>8.456955</td>\n      <td>14.788280</td>\n      <td>26.157642</td>\n      <td>40.810715</td>\n      <td>1222.94</td>\n      <td>...</td>\n      <td>27.445733</td>\n      <td>44.944910</td>\n      <td>312.0</td>\n      <td>20.560298</td>\n      <td>11.760064</td>\n      <td>1.261237</td>\n      <td>11.461559</td>\n      <td>18.137247</td>\n      <td>28.883798</td>\n      <td>65.612300</td>\n    </tr>\n    <tr>\n      <th>9</th>\n      <td>9</td>\n      <td>0</td>\n      <td>18.0</td>\n      <td>0.949064</td>\n      <td>1.034886</td>\n      <td>0.251119</td>\n      <td>0.575736</td>\n      <td>0.678352</td>\n      <td>0.921383</td>\n      <td>4.97</td>\n      <td>...</td>\n      <td>0.654633</td>\n      <td>1.439506</td>\n      <td>343.0</td>\n      <td>0.473611</td>\n      <td>0.257234</td>\n      <td>0.022489</td>\n      <td>0.274523</td>\n      <td>0.474169</td>\n      <td>0.602427</td>\n      <td>1.439506</td>\n    </tr>\n    <tr>\n      <th>10</th>\n      <td>10</td>\n      <td>0</td>\n      <td>18.0</td>\n      <td>137.242571</td>\n      <td>138.621280</td>\n      <td>8.922609</td>\n      <td>46.693775</td>\n      <td>94.396777</td>\n      <td>149.989951</td>\n      <td>521.60</td>\n      <td>...</td>\n      <td>24.326959</td>\n      <td>31.248209</td>\n      <td>343.0</td>\n      <td>22.357663</td>\n      <td>31.951424</td>\n      <td>1.392921</td>\n      <td>10.857801</td>\n      <td>15.898440</td>\n      <td>24.530432</td>\n      <td>406.574732</td>\n    </tr>\n    <tr>\n      <th>11</th>\n      <td>11</td>\n      <td>0</td>\n      <td>18.0</td>\n      <td>95.563979</td>\n      <td>93.098031</td>\n      <td>24.919015</td>\n      <td>38.126405</td>\n      <td>64.111539</td>\n      <td>91.606940</td>\n      <td>369.37</td>\n      <td>...</td>\n      <td>18.182301</td>\n      <td>19.741667</td>\n      <td>323.0</td>\n      <td>14.992640</td>\n      <td>22.102152</td>\n      <td>1.400032</td>\n      <td>6.566378</td>\n      <td>11.128061</td>\n      <td>15.506374</td>\n      <td>276.175197</td>\n    </tr>\n    <tr>\n      <th>12</th>\n      <td>12</td>\n      <td>0</td>\n      <td>18.0</td>\n      <td>114.711209</td>\n      <td>193.056716</td>\n      <td>22.801120</td>\n      <td>30.484773</td>\n      <td>54.913795</td>\n      <td>94.780531</td>\n      <td>833.06</td>\n      <td>...</td>\n      <td>50.478737</td>\n      <td>60.922408</td>\n      <td>362.0</td>\n      <td>25.493930</td>\n      <td>24.397315</td>\n      <td>1.571994</td>\n      <td>13.186152</td>\n      <td>20.883039</td>\n      <td>29.465558</td>\n      <td>326.371830</td>\n    </tr>\n    <tr>\n      <th>13</th>\n      <td>13</td>\n      <td>0</td>\n      <td>18.0</td>\n      <td>9.881910</td>\n      <td>14.252283</td>\n      <td>3.326027</td>\n      <td>5.352407</td>\n      <td>6.780353</td>\n      <td>7.709358</td>\n      <td>66.60</td>\n      <td>...</td>\n      <td>6.792643</td>\n      <td>9.062771</td>\n      <td>372.0</td>\n      <td>5.941071</td>\n      <td>1.699589</td>\n      <td>0.633347</td>\n      <td>4.695063</td>\n      <td>5.921028</td>\n      <td>7.181824</td>\n      <td>10.311283</td>\n    </tr>\n    <tr>\n      <th>14</th>\n      <td>14</td>\n      <td>0</td>\n      <td>18.0</td>\n      <td>20.258116</td>\n      <td>14.520441</td>\n      <td>10.649186</td>\n      <td>11.751607</td>\n      <td>16.728464</td>\n      <td>20.706974</td>\n      <td>73.76</td>\n      <td>...</td>\n      <td>20.894727</td>\n      <td>22.530807</td>\n      <td>348.0</td>\n      <td>11.635871</td>\n      <td>5.700567</td>\n      <td>1.968718</td>\n      <td>7.430112</td>\n      <td>10.608135</td>\n      <td>14.203900</td>\n      <td>30.663087</td>\n    </tr>\n    <tr>\n      <th>15</th>\n      <td>15</td>\n      <td>0</td>\n      <td>18.0</td>\n      <td>55.199637</td>\n      <td>63.385313</td>\n      <td>1.082994</td>\n      <td>27.056088</td>\n      <td>42.582090</td>\n      <td>58.623009</td>\n      <td>294.91</td>\n      <td>...</td>\n      <td>32.085662</td>\n      <td>53.004512</td>\n      <td>328.0</td>\n      <td>18.864758</td>\n      <td>12.385185</td>\n      <td>0.990000</td>\n      <td>9.319628</td>\n      <td>16.432888</td>\n      <td>25.678786</td>\n      <td>77.704264</td>\n    </tr>\n    <tr>\n      <th>16</th>\n      <td>16</td>\n      <td>0</td>\n      <td>18.0</td>\n      <td>123.471493</td>\n      <td>180.116729</td>\n      <td>25.063206</td>\n      <td>61.977082</td>\n      <td>71.504200</td>\n      <td>87.763967</td>\n      <td>807.17</td>\n      <td>...</td>\n      <td>47.523049</td>\n      <td>61.837590</td>\n      <td>344.0</td>\n      <td>24.216800</td>\n      <td>22.669573</td>\n      <td>0.563593</td>\n      <td>12.055406</td>\n      <td>18.710120</td>\n      <td>30.215451</td>\n      <td>281.021728</td>\n    </tr>\n    <tr>\n      <th>17</th>\n      <td>17</td>\n      <td>0</td>\n      <td>15.0</td>\n      <td>150.962492</td>\n      <td>222.200859</td>\n      <td>14.633163</td>\n      <td>41.688593</td>\n      <td>68.015401</td>\n      <td>133.787445</td>\n      <td>870.98</td>\n      <td>...</td>\n      <td>22.347805</td>\n      <td>26.387646</td>\n      <td>220.0</td>\n      <td>25.148611</td>\n      <td>33.359130</td>\n      <td>1.004166</td>\n      <td>11.281571</td>\n      <td>20.056800</td>\n      <td>30.110100</td>\n      <td>326.554917</td>\n    </tr>\n    <tr>\n      <th>18</th>\n      <td>18</td>\n      <td>0</td>\n      <td>18.0</td>\n      <td>17.748182</td>\n      <td>15.811212</td>\n      <td>9.028092</td>\n      <td>11.635873</td>\n      <td>13.340605</td>\n      <td>17.273680</td>\n      <td>79.42</td>\n      <td>...</td>\n      <td>7.530182</td>\n      <td>12.039835</td>\n      <td>355.0</td>\n      <td>6.304613</td>\n      <td>3.322735</td>\n      <td>0.711579</td>\n      <td>3.978550</td>\n      <td>5.812033</td>\n      <td>8.092866</td>\n      <td>20.897932</td>\n    </tr>\n    <tr>\n      <th>19</th>\n      <td>19</td>\n      <td>0</td>\n      <td>18.0</td>\n      <td>208.741311</td>\n      <td>277.974248</td>\n      <td>10.441432</td>\n      <td>62.347845</td>\n      <td>108.160239</td>\n      <td>214.470439</td>\n      <td>1076.94</td>\n      <td>...</td>\n      <td>40.409702</td>\n      <td>47.847994</td>\n      <td>334.0</td>\n      <td>28.514089</td>\n      <td>50.753522</td>\n      <td>1.613050</td>\n      <td>13.494212</td>\n      <td>21.061616</td>\n      <td>28.590303</td>\n      <td>722.828839</td>\n    </tr>\n    <tr>\n      <th>20</th>\n      <td>20</td>\n      <td>0</td>\n      <td>18.0</td>\n      <td>149.568765</td>\n      <td>168.417756</td>\n      <td>6.210053</td>\n      <td>42.597850</td>\n      <td>113.727139</td>\n      <td>189.216213</td>\n      <td>722.84</td>\n      <td>...</td>\n      <td>39.953463</td>\n      <td>56.834743</td>\n      <td>322.0</td>\n      <td>29.383791</td>\n      <td>32.178630</td>\n      <td>2.787962</td>\n      <td>13.491312</td>\n      <td>22.299348</td>\n      <td>34.739113</td>\n      <td>330.904797</td>\n    </tr>\n    <tr>\n      <th>21</th>\n      <td>21</td>\n      <td>0</td>\n      <td>18.0</td>\n      <td>114.817007</td>\n      <td>183.339422</td>\n      <td>4.594094</td>\n      <td>29.658317</td>\n      <td>52.680564</td>\n      <td>92.068579</td>\n      <td>746.90</td>\n      <td>...</td>\n      <td>48.319885</td>\n      <td>77.816329</td>\n      <td>361.0</td>\n      <td>25.432456</td>\n      <td>26.914851</td>\n      <td>0.927296</td>\n      <td>13.566071</td>\n      <td>19.631923</td>\n      <td>28.718290</td>\n      <td>416.309280</td>\n    </tr>\n    <tr>\n      <th>22</th>\n      <td>22</td>\n      <td>0</td>\n      <td>18.0</td>\n      <td>178.947588</td>\n      <td>205.935757</td>\n      <td>19.510975</td>\n      <td>54.472692</td>\n      <td>84.500245</td>\n      <td>235.860045</td>\n      <td>761.36</td>\n      <td>...</td>\n      <td>26.406923</td>\n      <td>46.672784</td>\n      <td>368.0</td>\n      <td>29.719951</td>\n      <td>42.532859</td>\n      <td>2.219658</td>\n      <td>14.604713</td>\n      <td>23.227745</td>\n      <td>34.017445</td>\n      <td>588.867343</td>\n    </tr>\n    <tr>\n      <th>23</th>\n      <td>23</td>\n      <td>0</td>\n      <td>18.0</td>\n      <td>121.690246</td>\n      <td>82.047731</td>\n      <td>33.605334</td>\n      <td>64.415958</td>\n      <td>105.110742</td>\n      <td>138.615275</td>\n      <td>329.40</td>\n      <td>...</td>\n      <td>20.541745</td>\n      <td>34.914185</td>\n      <td>345.0</td>\n      <td>20.469649</td>\n      <td>26.595064</td>\n      <td>0.886467</td>\n      <td>9.922369</td>\n      <td>14.340743</td>\n      <td>21.546205</td>\n      <td>263.945531</td>\n    </tr>\n    <tr>\n      <th>24</th>\n      <td>24</td>\n      <td>0</td>\n      <td>18.0</td>\n      <td>123.090724</td>\n      <td>270.999803</td>\n      <td>16.684981</td>\n      <td>39.828960</td>\n      <td>53.267652</td>\n      <td>84.878961</td>\n      <td>1202.30</td>\n      <td>...</td>\n      <td>54.714988</td>\n      <td>84.305050</td>\n      <td>338.0</td>\n      <td>29.136205</td>\n      <td>19.116234</td>\n      <td>1.641128</td>\n      <td>18.110531</td>\n      <td>24.482967</td>\n      <td>36.788646</td>\n      <td>135.876508</td>\n    </tr>\n    <tr>\n      <th>25</th>\n      <td>25</td>\n      <td>0</td>\n      <td>18.0</td>\n      <td>117.137483</td>\n      <td>240.734139</td>\n      <td>39.653253</td>\n      <td>50.683940</td>\n      <td>58.003760</td>\n      <td>71.557089</td>\n      <td>1079.57</td>\n      <td>...</td>\n      <td>30.099557</td>\n      <td>53.371512</td>\n      <td>334.0</td>\n      <td>22.052809</td>\n      <td>15.140974</td>\n      <td>0.939228</td>\n      <td>11.608921</td>\n      <td>18.970029</td>\n      <td>29.069527</td>\n      <td>105.122194</td>\n    </tr>\n    <tr>\n      <th>26</th>\n      <td>26</td>\n      <td>0</td>\n      <td>18.0</td>\n      <td>173.955899</td>\n      <td>184.855989</td>\n      <td>51.888793</td>\n      <td>84.583837</td>\n      <td>112.866756</td>\n      <td>184.655289</td>\n      <td>864.06</td>\n      <td>...</td>\n      <td>51.600369</td>\n      <td>83.341628</td>\n      <td>324.0</td>\n      <td>33.101516</td>\n      <td>33.479946</td>\n      <td>2.661476</td>\n      <td>12.703871</td>\n      <td>27.055474</td>\n      <td>41.515226</td>\n      <td>278.645614</td>\n    </tr>\n    <tr>\n      <th>27</th>\n      <td>27</td>\n      <td>0</td>\n      <td>15.0</td>\n      <td>30.233502</td>\n      <td>29.571595</td>\n      <td>7.902954</td>\n      <td>14.917589</td>\n      <td>25.015096</td>\n      <td>31.836474</td>\n      <td>126.72</td>\n      <td>...</td>\n      <td>31.743367</td>\n      <td>52.032624</td>\n      <td>106.0</td>\n      <td>20.240333</td>\n      <td>11.267912</td>\n      <td>2.253714</td>\n      <td>9.833975</td>\n      <td>19.825637</td>\n      <td>27.404423</td>\n      <td>57.107986</td>\n    </tr>\n    <tr>\n      <th>28</th>\n      <td>28</td>\n      <td>0</td>\n      <td>18.0</td>\n      <td>136.160383</td>\n      <td>219.607324</td>\n      <td>40.327694</td>\n      <td>47.851941</td>\n      <td>60.223299</td>\n      <td>96.657800</td>\n      <td>962.10</td>\n      <td>...</td>\n      <td>20.319377</td>\n      <td>41.948113</td>\n      <td>350.0</td>\n      <td>16.673929</td>\n      <td>24.465400</td>\n      <td>0.702966</td>\n      <td>8.149437</td>\n      <td>12.607743</td>\n      <td>17.461599</td>\n      <td>340.746327</td>\n    </tr>\n    <tr>\n      <th>29</th>\n      <td>29</td>\n      <td>0</td>\n      <td>18.0</td>\n      <td>177.094062</td>\n      <td>282.195235</td>\n      <td>23.360971</td>\n      <td>57.444040</td>\n      <td>99.059996</td>\n      <td>117.861773</td>\n      <td>1251.64</td>\n      <td>...</td>\n      <td>62.202480</td>\n      <td>80.189477</td>\n      <td>368.0</td>\n      <td>34.275868</td>\n      <td>31.896968</td>\n      <td>2.212521</td>\n      <td>17.026516</td>\n      <td>26.484237</td>\n      <td>41.269683</td>\n      <td>375.834170</td>\n    </tr>\n    <tr>\n      <th>...</th>\n      <td>...</td>\n      <td>...</td>\n      <td>...</td>\n      <td>...</td>\n      <td>...</td>\n      <td>...</td>\n      <td>...</td>\n      <td>...</td>\n      <td>...</td>\n      <td>...</td>\n      <td>...</td>\n      <td>...</td>\n      <td>...</td>\n      <td>...</td>\n      <td>...</td>\n      <td>...</td>\n      <td>...</td>\n      <td>...</td>\n      <td>...</td>\n      <td>...</td>\n      <td>...</td>\n    </tr>\n    <tr>\n      <th>6970</th>\n      <td>6970</td>\n      <td>0</td>\n      <td>18.0</td>\n      <td>131.592727</td>\n      <td>118.925657</td>\n      <td>11.526397</td>\n      <td>39.917579</td>\n      <td>106.446582</td>\n      <td>144.757612</td>\n      <td>452.03</td>\n      <td>...</td>\n      <td>28.368965</td>\n      <td>37.795250</td>\n      <td>346.0</td>\n      <td>23.197216</td>\n      <td>29.589096</td>\n      <td>1.571607</td>\n      <td>11.589434</td>\n      <td>17.998756</td>\n      <td>26.778643</td>\n      <td>322.657964</td>\n    </tr>\n    <tr>\n      <th>6971</th>\n      <td>6971</td>\n      <td>0</td>\n      <td>18.0</td>\n      <td>189.362393</td>\n      <td>289.192003</td>\n      <td>20.895518</td>\n      <td>56.251296</td>\n      <td>92.307680</td>\n      <td>196.761256</td>\n      <td>1284.80</td>\n      <td>...</td>\n      <td>36.175621</td>\n      <td>55.710997</td>\n      <td>330.0</td>\n      <td>26.984928</td>\n      <td>34.154076</td>\n      <td>1.701147</td>\n      <td>13.530370</td>\n      <td>19.193410</td>\n      <td>28.423735</td>\n      <td>320.491008</td>\n    </tr>\n    <tr>\n      <th>6972</th>\n      <td>6972</td>\n      <td>0</td>\n      <td>18.0</td>\n      <td>97.409518</td>\n      <td>330.293495</td>\n      <td>6.980006</td>\n      <td>13.805797</td>\n      <td>17.135901</td>\n      <td>30.806099</td>\n      <td>1420.45</td>\n      <td>...</td>\n      <td>16.595234</td>\n      <td>38.019840</td>\n      <td>354.0</td>\n      <td>11.800512</td>\n      <td>6.584330</td>\n      <td>0.787794</td>\n      <td>6.910746</td>\n      <td>11.059209</td>\n      <td>14.879881</td>\n      <td>38.019840</td>\n    </tr>\n    <tr>\n      <th>6973</th>\n      <td>6973</td>\n      <td>0</td>\n      <td>18.0</td>\n      <td>9.629589</td>\n      <td>14.298309</td>\n      <td>2.537375</td>\n      <td>4.590769</td>\n      <td>5.956594</td>\n      <td>8.492076</td>\n      <td>65.93</td>\n      <td>...</td>\n      <td>7.287644</td>\n      <td>10.869872</td>\n      <td>343.0</td>\n      <td>5.968267</td>\n      <td>2.782815</td>\n      <td>0.274936</td>\n      <td>3.912887</td>\n      <td>5.890769</td>\n      <td>7.783509</td>\n      <td>14.593736</td>\n    </tr>\n    <tr>\n      <th>6974</th>\n      <td>6974</td>\n      <td>0</td>\n      <td>18.0</td>\n      <td>11.260557</td>\n      <td>13.535538</td>\n      <td>4.555424</td>\n      <td>6.137915</td>\n      <td>8.019638</td>\n      <td>10.400854</td>\n      <td>64.58</td>\n      <td>...</td>\n      <td>9.111060</td>\n      <td>10.035963</td>\n      <td>331.0</td>\n      <td>5.273281</td>\n      <td>2.388038</td>\n      <td>0.329729</td>\n      <td>3.498327</td>\n      <td>5.227013</td>\n      <td>6.802158</td>\n      <td>13.560339</td>\n    </tr>\n    <tr>\n      <th>6975</th>\n      <td>6975</td>\n      <td>0</td>\n      <td>18.0</td>\n      <td>114.976355</td>\n      <td>67.978499</td>\n      <td>48.052158</td>\n      <td>66.747477</td>\n      <td>84.552129</td>\n      <td>150.476775</td>\n      <td>278.19</td>\n      <td>...</td>\n      <td>18.179496</td>\n      <td>21.108361</td>\n      <td>357.0</td>\n      <td>17.524777</td>\n      <td>23.944165</td>\n      <td>0.552113</td>\n      <td>8.096559</td>\n      <td>13.304209</td>\n      <td>17.427794</td>\n      <td>225.978505</td>\n    </tr>\n    <tr>\n      <th>6976</th>\n      <td>6976</td>\n      <td>0</td>\n      <td>18.0</td>\n      <td>106.416344</td>\n      <td>123.785939</td>\n      <td>7.293158</td>\n      <td>45.169111</td>\n      <td>89.322962</td>\n      <td>112.329621</td>\n      <td>574.97</td>\n      <td>...</td>\n      <td>27.911802</td>\n      <td>47.902654</td>\n      <td>363.0</td>\n      <td>23.739765</td>\n      <td>18.087920</td>\n      <td>2.082316</td>\n      <td>13.352304</td>\n      <td>20.792622</td>\n      <td>28.658563</td>\n      <td>145.907722</td>\n    </tr>\n    <tr>\n      <th>6977</th>\n      <td>6977</td>\n      <td>0</td>\n      <td>18.0</td>\n      <td>1.806277</td>\n      <td>1.389737</td>\n      <td>0.093882</td>\n      <td>0.905199</td>\n      <td>1.332670</td>\n      <td>2.280044</td>\n      <td>5.78</td>\n      <td>...</td>\n      <td>1.864671</td>\n      <td>3.171677</td>\n      <td>354.0</td>\n      <td>1.568775</td>\n      <td>0.686157</td>\n      <td>0.029989</td>\n      <td>1.074750</td>\n      <td>1.602201</td>\n      <td>2.004018</td>\n      <td>4.010135</td>\n    </tr>\n    <tr>\n      <th>6978</th>\n      <td>6978</td>\n      <td>0</td>\n      <td>18.0</td>\n      <td>161.517518</td>\n      <td>141.155428</td>\n      <td>20.122863</td>\n      <td>102.182586</td>\n      <td>110.777092</td>\n      <td>200.428751</td>\n      <td>641.10</td>\n      <td>...</td>\n      <td>47.190229</td>\n      <td>78.610427</td>\n      <td>349.0</td>\n      <td>33.528133</td>\n      <td>34.404916</td>\n      <td>2.029662</td>\n      <td>16.522187</td>\n      <td>26.459537</td>\n      <td>39.510896</td>\n      <td>322.348663</td>\n    </tr>\n    <tr>\n      <th>6979</th>\n      <td>6979</td>\n      <td>0</td>\n      <td>18.0</td>\n      <td>33.414789</td>\n      <td>14.777467</td>\n      <td>26.645586</td>\n      <td>29.021564</td>\n      <td>30.059114</td>\n      <td>31.812108</td>\n      <td>91.99</td>\n      <td>...</td>\n      <td>30.081416</td>\n      <td>34.153224</td>\n      <td>360.0</td>\n      <td>20.186339</td>\n      <td>7.044442</td>\n      <td>4.493104</td>\n      <td>13.953955</td>\n      <td>20.222600</td>\n      <td>26.619135</td>\n      <td>34.153224</td>\n    </tr>\n    <tr>\n      <th>6980</th>\n      <td>6980</td>\n      <td>0</td>\n      <td>18.0</td>\n      <td>184.882194</td>\n      <td>188.553841</td>\n      <td>22.014183</td>\n      <td>65.183667</td>\n      <td>165.709702</td>\n      <td>218.976300</td>\n      <td>861.32</td>\n      <td>...</td>\n      <td>48.618802</td>\n      <td>76.156211</td>\n      <td>370.0</td>\n      <td>35.649314</td>\n      <td>34.132534</td>\n      <td>1.321508</td>\n      <td>18.771167</td>\n      <td>27.828824</td>\n      <td>41.260461</td>\n      <td>307.070110</td>\n    </tr>\n    <tr>\n      <th>6981</th>\n      <td>6981</td>\n      <td>0</td>\n      <td>18.0</td>\n      <td>192.833383</td>\n      <td>287.019704</td>\n      <td>21.982051</td>\n      <td>59.944240</td>\n      <td>95.910800</td>\n      <td>173.197829</td>\n      <td>1259.85</td>\n      <td>...</td>\n      <td>37.989183</td>\n      <td>76.968978</td>\n      <td>357.0</td>\n      <td>30.785906</td>\n      <td>35.106489</td>\n      <td>1.053495</td>\n      <td>15.875047</td>\n      <td>24.625358</td>\n      <td>37.300011</td>\n      <td>395.657551</td>\n    </tr>\n    <tr>\n      <th>6982</th>\n      <td>6982</td>\n      <td>0</td>\n      <td>15.0</td>\n      <td>98.329673</td>\n      <td>41.399747</td>\n      <td>67.126862</td>\n      <td>80.211215</td>\n      <td>91.219493</td>\n      <td>99.668250</td>\n      <td>242.64</td>\n      <td>...</td>\n      <td>101.113049</td>\n      <td>101.917667</td>\n      <td>0.0</td>\n      <td>NaN</td>\n      <td>NaN</td>\n      <td>NaN</td>\n      <td>NaN</td>\n      <td>NaN</td>\n      <td>NaN</td>\n      <td>NaN</td>\n    </tr>\n    <tr>\n      <th>6983</th>\n      <td>6983</td>\n      <td>0</td>\n      <td>18.0</td>\n      <td>114.640216</td>\n      <td>277.017190</td>\n      <td>5.228330</td>\n      <td>31.350711</td>\n      <td>56.027736</td>\n      <td>72.920504</td>\n      <td>1220.64</td>\n      <td>...</td>\n      <td>47.792996</td>\n      <td>66.780237</td>\n      <td>362.0</td>\n      <td>20.237511</td>\n      <td>15.391079</td>\n      <td>0.925479</td>\n      <td>9.415350</td>\n      <td>16.577939</td>\n      <td>25.307956</td>\n      <td>82.099408</td>\n    </tr>\n    <tr>\n      <th>6984</th>\n      <td>6984</td>\n      <td>0</td>\n      <td>18.0</td>\n      <td>207.832943</td>\n      <td>318.992115</td>\n      <td>23.135980</td>\n      <td>75.900738</td>\n      <td>111.871235</td>\n      <td>183.329873</td>\n      <td>1412.51</td>\n      <td>...</td>\n      <td>29.852699</td>\n      <td>54.237763</td>\n      <td>342.0</td>\n      <td>20.743564</td>\n      <td>37.369603</td>\n      <td>1.757962</td>\n      <td>7.501835</td>\n      <td>13.234374</td>\n      <td>19.293113</td>\n      <td>396.870233</td>\n    </tr>\n    <tr>\n      <th>6985</th>\n      <td>6985</td>\n      <td>0</td>\n      <td>18.0</td>\n      <td>136.714636</td>\n      <td>155.306623</td>\n      <td>14.790411</td>\n      <td>58.703446</td>\n      <td>101.771184</td>\n      <td>136.596861</td>\n      <td>703.47</td>\n      <td>...</td>\n      <td>30.168947</td>\n      <td>46.435920</td>\n      <td>360.0</td>\n      <td>28.222394</td>\n      <td>25.435967</td>\n      <td>2.058458</td>\n      <td>14.494606</td>\n      <td>24.271204</td>\n      <td>33.597681</td>\n      <td>279.754281</td>\n    </tr>\n    <tr>\n      <th>6986</th>\n      <td>6986</td>\n      <td>0</td>\n      <td>18.0</td>\n      <td>9.876647</td>\n      <td>16.356678</td>\n      <td>0.513106</td>\n      <td>3.985831</td>\n      <td>5.102075</td>\n      <td>9.515748</td>\n      <td>73.89</td>\n      <td>...</td>\n      <td>7.864499</td>\n      <td>12.362631</td>\n      <td>359.0</td>\n      <td>6.204545</td>\n      <td>2.961729</td>\n      <td>0.513106</td>\n      <td>3.818396</td>\n      <td>5.949754</td>\n      <td>8.252592</td>\n      <td>14.204547</td>\n    </tr>\n    <tr>\n      <th>6987</th>\n      <td>6987</td>\n      <td>0</td>\n      <td>15.0</td>\n      <td>153.485437</td>\n      <td>151.558282</td>\n      <td>40.613848</td>\n      <td>85.984340</td>\n      <td>102.244065</td>\n      <td>151.562761</td>\n      <td>662.87</td>\n      <td>...</td>\n      <td>44.943948</td>\n      <td>71.583883</td>\n      <td>262.0</td>\n      <td>29.630738</td>\n      <td>30.168771</td>\n      <td>0.576155</td>\n      <td>14.216889</td>\n      <td>22.347612</td>\n      <td>33.716659</td>\n      <td>231.712880</td>\n    </tr>\n    <tr>\n      <th>6988</th>\n      <td>6988</td>\n      <td>0</td>\n      <td>18.0</td>\n      <td>10.113200</td>\n      <td>13.102603</td>\n      <td>2.457416</td>\n      <td>5.224587</td>\n      <td>7.653792</td>\n      <td>8.847346</td>\n      <td>61.58</td>\n      <td>...</td>\n      <td>8.211603</td>\n      <td>9.699709</td>\n      <td>324.0</td>\n      <td>5.573042</td>\n      <td>1.976640</td>\n      <td>0.929521</td>\n      <td>4.138054</td>\n      <td>5.642708</td>\n      <td>7.045609</td>\n      <td>11.711777</td>\n    </tr>\n    <tr>\n      <th>6989</th>\n      <td>6989</td>\n      <td>0</td>\n      <td>17.0</td>\n      <td>33.035358</td>\n      <td>6.944147</td>\n      <td>27.433915</td>\n      <td>30.336705</td>\n      <td>31.233710</td>\n      <td>32.487012</td>\n      <td>58.70</td>\n      <td>...</td>\n      <td>30.673993</td>\n      <td>32.276096</td>\n      <td>135.0</td>\n      <td>30.012535</td>\n      <td>1.346472</td>\n      <td>27.433915</td>\n      <td>29.155071</td>\n      <td>29.863275</td>\n      <td>30.699939</td>\n      <td>37.422031</td>\n    </tr>\n    <tr>\n      <th>6990</th>\n      <td>6990</td>\n      <td>0</td>\n      <td>18.0</td>\n      <td>214.804254</td>\n      <td>277.846328</td>\n      <td>25.731357</td>\n      <td>70.150001</td>\n      <td>114.777938</td>\n      <td>191.951486</td>\n      <td>1180.93</td>\n      <td>...</td>\n      <td>40.094791</td>\n      <td>53.138420</td>\n      <td>327.0</td>\n      <td>30.702277</td>\n      <td>45.565781</td>\n      <td>2.319085</td>\n      <td>13.554476</td>\n      <td>21.850308</td>\n      <td>32.826437</td>\n      <td>546.806094</td>\n    </tr>\n    <tr>\n      <th>6991</th>\n      <td>6991</td>\n      <td>0</td>\n      <td>18.0</td>\n      <td>124.807126</td>\n      <td>173.924993</td>\n      <td>32.763200</td>\n      <td>52.831795</td>\n      <td>67.508519</td>\n      <td>108.501779</td>\n      <td>768.13</td>\n      <td>...</td>\n      <td>57.805066</td>\n      <td>93.016501</td>\n      <td>370.0</td>\n      <td>30.792514</td>\n      <td>24.854914</td>\n      <td>5.167534</td>\n      <td>16.848850</td>\n      <td>25.763593</td>\n      <td>35.714889</td>\n      <td>314.458253</td>\n    </tr>\n    <tr>\n      <th>6992</th>\n      <td>6992</td>\n      <td>0</td>\n      <td>18.0</td>\n      <td>117.387449</td>\n      <td>127.764249</td>\n      <td>6.909900</td>\n      <td>47.447659</td>\n      <td>82.045753</td>\n      <td>115.306347</td>\n      <td>566.95</td>\n      <td>...</td>\n      <td>42.433345</td>\n      <td>75.089869</td>\n      <td>338.0</td>\n      <td>43.151966</td>\n      <td>27.418950</td>\n      <td>2.024472</td>\n      <td>25.825041</td>\n      <td>38.045159</td>\n      <td>54.968072</td>\n      <td>230.464342</td>\n    </tr>\n    <tr>\n      <th>6993</th>\n      <td>6993</td>\n      <td>0</td>\n      <td>18.0</td>\n      <td>8.240743</td>\n      <td>11.129339</td>\n      <td>2.207209</td>\n      <td>3.511571</td>\n      <td>5.369102</td>\n      <td>8.343026</td>\n      <td>51.53</td>\n      <td>...</td>\n      <td>5.272887</td>\n      <td>9.019471</td>\n      <td>364.0</td>\n      <td>3.835007</td>\n      <td>1.945170</td>\n      <td>0.562656</td>\n      <td>2.350204</td>\n      <td>3.663947</td>\n      <td>5.057015</td>\n      <td>10.718652</td>\n    </tr>\n    <tr>\n      <th>6994</th>\n      <td>6994</td>\n      <td>0</td>\n      <td>18.0</td>\n      <td>89.048284</td>\n      <td>100.502919</td>\n      <td>17.361347</td>\n      <td>38.985737</td>\n      <td>64.741548</td>\n      <td>98.632811</td>\n      <td>459.09</td>\n      <td>...</td>\n      <td>29.705675</td>\n      <td>53.661195</td>\n      <td>193.0</td>\n      <td>22.732751</td>\n      <td>20.787421</td>\n      <td>1.849444</td>\n      <td>11.985119</td>\n      <td>18.900351</td>\n      <td>27.412414</td>\n      <td>152.454397</td>\n    </tr>\n    <tr>\n      <th>6995</th>\n      <td>6995</td>\n      <td>0</td>\n      <td>15.0</td>\n      <td>170.430650</td>\n      <td>243.588960</td>\n      <td>6.981129</td>\n      <td>44.891046</td>\n      <td>91.254542</td>\n      <td>179.169364</td>\n      <td>987.32</td>\n      <td>...</td>\n      <td>41.607581</td>\n      <td>57.729384</td>\n      <td>275.0</td>\n      <td>27.074648</td>\n      <td>30.767687</td>\n      <td>1.715446</td>\n      <td>14.236960</td>\n      <td>21.401091</td>\n      <td>30.022967</td>\n      <td>302.664857</td>\n    </tr>\n    <tr>\n      <th>6996</th>\n      <td>6996</td>\n      <td>0</td>\n      <td>18.0</td>\n      <td>116.138352</td>\n      <td>261.182178</td>\n      <td>13.720742</td>\n      <td>43.732578</td>\n      <td>56.146850</td>\n      <td>64.580705</td>\n      <td>1159.32</td>\n      <td>...</td>\n      <td>35.847846</td>\n      <td>47.438482</td>\n      <td>329.0</td>\n      <td>16.868186</td>\n      <td>14.776542</td>\n      <td>0.969262</td>\n      <td>8.215883</td>\n      <td>12.803086</td>\n      <td>19.259646</td>\n      <td>118.293373</td>\n    </tr>\n    <tr>\n      <th>6997</th>\n      <td>6997</td>\n      <td>0</td>\n      <td>18.0</td>\n      <td>114.512940</td>\n      <td>111.142995</td>\n      <td>15.902142</td>\n      <td>53.181575</td>\n      <td>88.719962</td>\n      <td>132.733318</td>\n      <td>471.34</td>\n      <td>...</td>\n      <td>35.678229</td>\n      <td>65.129174</td>\n      <td>260.0</td>\n      <td>23.081844</td>\n      <td>27.648721</td>\n      <td>2.270501</td>\n      <td>9.864932</td>\n      <td>16.249604</td>\n      <td>25.559045</td>\n      <td>301.195762</td>\n    </tr>\n    <tr>\n      <th>6998</th>\n      <td>6998</td>\n      <td>0</td>\n      <td>15.0</td>\n      <td>106.122553</td>\n      <td>164.560765</td>\n      <td>23.904466</td>\n      <td>33.825216</td>\n      <td>44.024806</td>\n      <td>68.724795</td>\n      <td>634.84</td>\n      <td>...</td>\n      <td>35.678748</td>\n      <td>39.721441</td>\n      <td>279.0</td>\n      <td>20.203879</td>\n      <td>22.797946</td>\n      <td>0.340000</td>\n      <td>9.764559</td>\n      <td>16.683409</td>\n      <td>24.734406</td>\n      <td>330.740159</td>\n    </tr>\n    <tr>\n      <th>6999</th>\n      <td>6999</td>\n      <td>0</td>\n      <td>18.0</td>\n      <td>140.818035</td>\n      <td>119.832754</td>\n      <td>8.818665</td>\n      <td>55.237488</td>\n      <td>75.959826</td>\n      <td>226.853469</td>\n      <td>400.09</td>\n      <td>...</td>\n      <td>35.133649</td>\n      <td>47.170197</td>\n      <td>363.0</td>\n      <td>21.126657</td>\n      <td>33.265377</td>\n      <td>1.938836</td>\n      <td>9.874414</td>\n      <td>15.609510</td>\n      <td>21.192290</td>\n      <td>325.722154</td>\n    </tr>\n  </tbody>\n</table>\n<p>7000 rows × 34 columns</p>\n</div>"
     },
     "metadata": {},
     "output_type": "execute_result",
     "execution_count": 25
    }
   ],
   "source": [
    "v_feature=pd.DataFrame(train_order.groupby('ship').apply(fft_v)).reset_index()\n",
    "v_feature"
   ],
   "metadata": {
    "collapsed": false,
    "pycharm": {
     "name": "#%%\n",
     "is_executing": false
    }
   }
  },
  {
   "cell_type": "code",
   "execution_count": 26,
   "outputs": [
    {
     "name": "stdout",
     "text": [
      "{'x_max': 'max', 'x_min': 'min', 'x_mean': 'mean', 'x_std': 'std', 'x_skew': 'skew', 'x_sum': 'sum'}\n",
      "{'x_count': 'count'}\n",
      "{'y_max': 'max', 'y_min': 'min', 'y_mean': 'mean', 'y_std': 'std', 'y_skew': 'skew', 'y_sum': 'sum'}\n",
      "{'v_max': 'max', 'v_min': 'min', 'v_mean': 'mean', 'v_std': 'std', 'v_skew': 'skew', 'v_sum': 'sum'}\n",
      "{'d_max': 'max', 'd_min': 'min', 'd_mean': 'mean', 'd_std': 'std', 'd_skew': 'skew', 'd_sum': 'sum'}\n",
      "{'hour_max': 'max', 'hour_min': 'min'}\n"
     ],
     "output_type": "stream"
    }
   ],
   "source": [
    "train_feature = extract_feature(train, train_label)"
   ],
   "metadata": {
    "collapsed": false,
    "pycharm": {
     "name": "#%%\n",
     "is_executing": false
    }
   }
  },
  {
   "cell_type": "code",
   "execution_count": 27,
   "outputs": [],
   "source": [
    "train_feature = pd.merge(train_feature, v_feature, on='ship', how='left')"
   ],
   "metadata": {
    "collapsed": false,
    "pycharm": {
     "name": "#%%\n",
     "is_executing": false
    }
   }
  },
  {
   "cell_type": "code",
   "execution_count": null,
   "outputs": [],
   "source": [
    "# train_moved=train_order.loc[train_order.groupby('ship').apply(lambda x:x['diff_dist']!=0 ).reset_index()['diff_dist']]\n",
    "# # df.loc[df.groupby(['CATEGORY'])['VALUE'].diff(1)!=0]This can drop off 连贯相同的项\n",
    "# temp=pd.DataFrame(train_moved.groupby('ship').apply(area_tri)).reset_index()\n",
    "# temp[temp['area_3']!=0]"
   ],
   "metadata": {
    "collapsed": false,
    "pycharm": {
     "name": "#%%\n"
    }
   }
  },
  {
   "cell_type": "code",
   "execution_count": 55,
   "outputs": [
    {
     "data": {
      "text/plain": "      ship       start_x       start_y\n0        0  6.118352e+06  5.130672e+06\n1        1  6.102450e+06  5.112760e+06\n2        2  6.182482e+06  5.193696e+06\n3        3  5.268205e+06  4.581391e+06\n4        4  7.063407e+06  6.110886e+06\n5        5  6.496477e+06  5.602987e+06\n6        6  6.041016e+06  5.007689e+06\n7        7  6.589755e+06  5.812012e+06\n8        8  6.209616e+06  5.157619e+06\n9        9  6.102853e+06  5.112531e+06\n10      10  6.264882e+06  5.239191e+06\n11      11  6.276507e+06  5.211947e+06\n12      12  5.316850e+06  4.603466e+06\n13      13  6.411754e+06  5.503023e+06\n14      14  6.246524e+06  5.241042e+06\n15      15  6.879172e+06  5.566013e+06\n16      16  6.359236e+06  5.409190e+06\n17      18  6.246625e+06  5.241041e+06\n18      19  6.498450e+06  5.361111e+06\n19      20  6.851128e+06  5.593418e+06\n20      21  6.270077e+06  5.245375e+06\n21      22  6.542879e+06  5.669749e+06\n22      23  6.358506e+06  5.375679e+06\n23      24  6.222635e+06  5.178605e+06\n24      25  6.795990e+06  5.606882e+06\n25      25  6.803291e+06  5.658813e+06\n26      26  6.476416e+06  5.472115e+06\n27      27  6.183090e+06  5.193685e+06\n28      28  6.134901e+06  5.047487e+06\n29      29  6.264870e+06  5.211516e+06\n...    ...           ...           ...\n6970  6969  6.027103e+06  5.022600e+06\n6971  6970  6.233408e+06  5.251610e+06\n6972  6971  6.363525e+06  5.414023e+06\n6973  6972  6.198025e+06  5.097935e+06\n6974  6973  6.141701e+06  5.152705e+06\n6975  6974  6.246425e+06  5.241262e+06\n6976  6975  6.246828e+06  5.241148e+06\n6977  6976  6.961794e+06  5.665606e+06\n6978  6977  6.118354e+06  5.130781e+06\n6979  6978  7.058989e+06  6.135507e+06\n6980  6979  6.358962e+06  5.329139e+06\n6981  6980  6.456086e+06  5.443087e+06\n6982  6981  6.234108e+06  5.251054e+06\n6983  6982  6.074849e+06  4.943721e+06\n6984  6983  6.960827e+06  5.812674e+06\n6985  6984  6.109007e+06  5.114878e+06\n6986  6985  6.197342e+06  5.150509e+06\n6987  6986  6.163590e+06  5.176584e+06\n6988  6988  6.165487e+06  5.201897e+06\n6989  6989  6.165490e+06  5.202116e+06\n6990  6990  6.795052e+06  5.564112e+06\n6991  6991  6.358590e+06  5.359318e+06\n6992  6992  7.018369e+06  6.091167e+06\n6993  6992  7.063580e+06  6.104329e+06\n6994  6994  5.229836e+06  4.608298e+06\n6995  6994  5.229946e+06  4.608393e+06\n6996  6995  6.316987e+06  5.189680e+06\n6997  6996  6.461623e+06  5.460852e+06\n6998  6997  5.229843e+06  4.608404e+06\n6999  6999  6.236919e+06  5.229239e+06\n\n[7000 rows x 3 columns]",
      "text/html": "<div>\n<style scoped>\n    .dataframe tbody tr th:only-of-type {\n        vertical-align: middle;\n    }\n\n    .dataframe tbody tr th {\n        vertical-align: top;\n    }\n\n    .dataframe thead th {\n        text-align: right;\n    }\n</style>\n<table border=\"1\" class=\"dataframe\">\n  <thead>\n    <tr style=\"text-align: right;\">\n      <th></th>\n      <th>ship</th>\n      <th>start_x</th>\n      <th>start_y</th>\n    </tr>\n  </thead>\n  <tbody>\n    <tr>\n      <th>0</th>\n      <td>0</td>\n      <td>6.118352e+06</td>\n      <td>5.130672e+06</td>\n    </tr>\n    <tr>\n      <th>1</th>\n      <td>1</td>\n      <td>6.102450e+06</td>\n      <td>5.112760e+06</td>\n    </tr>\n    <tr>\n      <th>2</th>\n      <td>2</td>\n      <td>6.182482e+06</td>\n      <td>5.193696e+06</td>\n    </tr>\n    <tr>\n      <th>3</th>\n      <td>3</td>\n      <td>5.268205e+06</td>\n      <td>4.581391e+06</td>\n    </tr>\n    <tr>\n      <th>4</th>\n      <td>4</td>\n      <td>7.063407e+06</td>\n      <td>6.110886e+06</td>\n    </tr>\n    <tr>\n      <th>5</th>\n      <td>5</td>\n      <td>6.496477e+06</td>\n      <td>5.602987e+06</td>\n    </tr>\n    <tr>\n      <th>6</th>\n      <td>6</td>\n      <td>6.041016e+06</td>\n      <td>5.007689e+06</td>\n    </tr>\n    <tr>\n      <th>7</th>\n      <td>7</td>\n      <td>6.589755e+06</td>\n      <td>5.812012e+06</td>\n    </tr>\n    <tr>\n      <th>8</th>\n      <td>8</td>\n      <td>6.209616e+06</td>\n      <td>5.157619e+06</td>\n    </tr>\n    <tr>\n      <th>9</th>\n      <td>9</td>\n      <td>6.102853e+06</td>\n      <td>5.112531e+06</td>\n    </tr>\n    <tr>\n      <th>10</th>\n      <td>10</td>\n      <td>6.264882e+06</td>\n      <td>5.239191e+06</td>\n    </tr>\n    <tr>\n      <th>11</th>\n      <td>11</td>\n      <td>6.276507e+06</td>\n      <td>5.211947e+06</td>\n    </tr>\n    <tr>\n      <th>12</th>\n      <td>12</td>\n      <td>5.316850e+06</td>\n      <td>4.603466e+06</td>\n    </tr>\n    <tr>\n      <th>13</th>\n      <td>13</td>\n      <td>6.411754e+06</td>\n      <td>5.503023e+06</td>\n    </tr>\n    <tr>\n      <th>14</th>\n      <td>14</td>\n      <td>6.246524e+06</td>\n      <td>5.241042e+06</td>\n    </tr>\n    <tr>\n      <th>15</th>\n      <td>15</td>\n      <td>6.879172e+06</td>\n      <td>5.566013e+06</td>\n    </tr>\n    <tr>\n      <th>16</th>\n      <td>16</td>\n      <td>6.359236e+06</td>\n      <td>5.409190e+06</td>\n    </tr>\n    <tr>\n      <th>17</th>\n      <td>18</td>\n      <td>6.246625e+06</td>\n      <td>5.241041e+06</td>\n    </tr>\n    <tr>\n      <th>18</th>\n      <td>19</td>\n      <td>6.498450e+06</td>\n      <td>5.361111e+06</td>\n    </tr>\n    <tr>\n      <th>19</th>\n      <td>20</td>\n      <td>6.851128e+06</td>\n      <td>5.593418e+06</td>\n    </tr>\n    <tr>\n      <th>20</th>\n      <td>21</td>\n      <td>6.270077e+06</td>\n      <td>5.245375e+06</td>\n    </tr>\n    <tr>\n      <th>21</th>\n      <td>22</td>\n      <td>6.542879e+06</td>\n      <td>5.669749e+06</td>\n    </tr>\n    <tr>\n      <th>22</th>\n      <td>23</td>\n      <td>6.358506e+06</td>\n      <td>5.375679e+06</td>\n    </tr>\n    <tr>\n      <th>23</th>\n      <td>24</td>\n      <td>6.222635e+06</td>\n      <td>5.178605e+06</td>\n    </tr>\n    <tr>\n      <th>24</th>\n      <td>25</td>\n      <td>6.795990e+06</td>\n      <td>5.606882e+06</td>\n    </tr>\n    <tr>\n      <th>25</th>\n      <td>25</td>\n      <td>6.803291e+06</td>\n      <td>5.658813e+06</td>\n    </tr>\n    <tr>\n      <th>26</th>\n      <td>26</td>\n      <td>6.476416e+06</td>\n      <td>5.472115e+06</td>\n    </tr>\n    <tr>\n      <th>27</th>\n      <td>27</td>\n      <td>6.183090e+06</td>\n      <td>5.193685e+06</td>\n    </tr>\n    <tr>\n      <th>28</th>\n      <td>28</td>\n      <td>6.134901e+06</td>\n      <td>5.047487e+06</td>\n    </tr>\n    <tr>\n      <th>29</th>\n      <td>29</td>\n      <td>6.264870e+06</td>\n      <td>5.211516e+06</td>\n    </tr>\n    <tr>\n      <th>...</th>\n      <td>...</td>\n      <td>...</td>\n      <td>...</td>\n    </tr>\n    <tr>\n      <th>6970</th>\n      <td>6969</td>\n      <td>6.027103e+06</td>\n      <td>5.022600e+06</td>\n    </tr>\n    <tr>\n      <th>6971</th>\n      <td>6970</td>\n      <td>6.233408e+06</td>\n      <td>5.251610e+06</td>\n    </tr>\n    <tr>\n      <th>6972</th>\n      <td>6971</td>\n      <td>6.363525e+06</td>\n      <td>5.414023e+06</td>\n    </tr>\n    <tr>\n      <th>6973</th>\n      <td>6972</td>\n      <td>6.198025e+06</td>\n      <td>5.097935e+06</td>\n    </tr>\n    <tr>\n      <th>6974</th>\n      <td>6973</td>\n      <td>6.141701e+06</td>\n      <td>5.152705e+06</td>\n    </tr>\n    <tr>\n      <th>6975</th>\n      <td>6974</td>\n      <td>6.246425e+06</td>\n      <td>5.241262e+06</td>\n    </tr>\n    <tr>\n      <th>6976</th>\n      <td>6975</td>\n      <td>6.246828e+06</td>\n      <td>5.241148e+06</td>\n    </tr>\n    <tr>\n      <th>6977</th>\n      <td>6976</td>\n      <td>6.961794e+06</td>\n      <td>5.665606e+06</td>\n    </tr>\n    <tr>\n      <th>6978</th>\n      <td>6977</td>\n      <td>6.118354e+06</td>\n      <td>5.130781e+06</td>\n    </tr>\n    <tr>\n      <th>6979</th>\n      <td>6978</td>\n      <td>7.058989e+06</td>\n      <td>6.135507e+06</td>\n    </tr>\n    <tr>\n      <th>6980</th>\n      <td>6979</td>\n      <td>6.358962e+06</td>\n      <td>5.329139e+06</td>\n    </tr>\n    <tr>\n      <th>6981</th>\n      <td>6980</td>\n      <td>6.456086e+06</td>\n      <td>5.443087e+06</td>\n    </tr>\n    <tr>\n      <th>6982</th>\n      <td>6981</td>\n      <td>6.234108e+06</td>\n      <td>5.251054e+06</td>\n    </tr>\n    <tr>\n      <th>6983</th>\n      <td>6982</td>\n      <td>6.074849e+06</td>\n      <td>4.943721e+06</td>\n    </tr>\n    <tr>\n      <th>6984</th>\n      <td>6983</td>\n      <td>6.960827e+06</td>\n      <td>5.812674e+06</td>\n    </tr>\n    <tr>\n      <th>6985</th>\n      <td>6984</td>\n      <td>6.109007e+06</td>\n      <td>5.114878e+06</td>\n    </tr>\n    <tr>\n      <th>6986</th>\n      <td>6985</td>\n      <td>6.197342e+06</td>\n      <td>5.150509e+06</td>\n    </tr>\n    <tr>\n      <th>6987</th>\n      <td>6986</td>\n      <td>6.163590e+06</td>\n      <td>5.176584e+06</td>\n    </tr>\n    <tr>\n      <th>6988</th>\n      <td>6988</td>\n      <td>6.165487e+06</td>\n      <td>5.201897e+06</td>\n    </tr>\n    <tr>\n      <th>6989</th>\n      <td>6989</td>\n      <td>6.165490e+06</td>\n      <td>5.202116e+06</td>\n    </tr>\n    <tr>\n      <th>6990</th>\n      <td>6990</td>\n      <td>6.795052e+06</td>\n      <td>5.564112e+06</td>\n    </tr>\n    <tr>\n      <th>6991</th>\n      <td>6991</td>\n      <td>6.358590e+06</td>\n      <td>5.359318e+06</td>\n    </tr>\n    <tr>\n      <th>6992</th>\n      <td>6992</td>\n      <td>7.018369e+06</td>\n      <td>6.091167e+06</td>\n    </tr>\n    <tr>\n      <th>6993</th>\n      <td>6992</td>\n      <td>7.063580e+06</td>\n      <td>6.104329e+06</td>\n    </tr>\n    <tr>\n      <th>6994</th>\n      <td>6994</td>\n      <td>5.229836e+06</td>\n      <td>4.608298e+06</td>\n    </tr>\n    <tr>\n      <th>6995</th>\n      <td>6994</td>\n      <td>5.229946e+06</td>\n      <td>4.608393e+06</td>\n    </tr>\n    <tr>\n      <th>6996</th>\n      <td>6995</td>\n      <td>6.316987e+06</td>\n      <td>5.189680e+06</td>\n    </tr>\n    <tr>\n      <th>6997</th>\n      <td>6996</td>\n      <td>6.461623e+06</td>\n      <td>5.460852e+06</td>\n    </tr>\n    <tr>\n      <th>6998</th>\n      <td>6997</td>\n      <td>5.229843e+06</td>\n      <td>4.608404e+06</td>\n    </tr>\n    <tr>\n      <th>6999</th>\n      <td>6999</td>\n      <td>6.236919e+06</td>\n      <td>5.229239e+06</td>\n    </tr>\n  </tbody>\n</table>\n<p>7000 rows × 3 columns</p>\n</div>"
     },
     "metadata": {},
     "output_type": "execute_result",
     "execution_count": 55
    }
   ],
   "source": [
    "# test_1=train_feature\n",
    "temp_2=pd.DataFrame(train_order[train_order['inner_ord_index']==0][['ship','x','y']]).reset_index(drop=True).rename(columns={'x':'start_x', 'y':'start_y'}, inplace = False)\n",
    "# test.index.name = 'ship'\n",
    "# temp_2=temp_1[['ship','x']]\n",
    "# temp_2\n",
    "# temp_2.rename(columns={'x':'start_x', 'y':'start_y'}, inplace = False)\n",
    "temp_2\n",
    "# test_1 = pd.merge(test_1, temp_2, on='ship', how='left')\n",
    "# test_1\n",
    "# train_feature"
   ],
   "metadata": {
    "collapsed": false,
    "pycharm": {
     "name": "#%%\n",
     "is_executing": false
    }
   }
  },
  {
   "cell_type": "code",
   "execution_count": null,
   "outputs": [],
   "source": [
    "# t = np.arange(0, 1.0, 1.0/100)\n",
    "# y = t+0.25\n",
    "# a=pd.DataFrame(t[(y>0.5) & (y<0.6)])\n",
    "# a.describe().add_prefix('prefix').T\n",
    "# b=pd.concat([a, a], axis=1)\n",
    "# b\n",
    "# DataFrame\n",
    "# temp1=(y>0.5)\n",
    "# temp2=(y<0.6)\n",
    "# temp3=temp1 and temp2\n",
    "# temp3"
   ],
   "metadata": {
    "collapsed": false,
    "pycharm": {
     "name": "#%%\n"
    }
   }
  },
  {
   "cell_type": "code",
   "execution_count": 30,
   "outputs": [],
   "source": [
    "# a=fft_v(train_order[train_order['ship']==0])\n",
    "# a['ship']=1\n",
    "# a"
   ],
   "metadata": {
    "collapsed": false,
    "pycharm": {
     "name": "#%%\n",
     "is_executing": false
    }
   }
  }
 ],
 "metadata": {
  "kernelspec": {
   "display_name": "Python 3",
   "language": "python",
   "name": "python3"
  },
  "language_info": {
   "codemirror_mode": {
    "name": "ipython",
    "version": 3
   },
   "file_extension": ".py",
   "mimetype": "text/x-python",
   "name": "python",
   "nbconvert_exporter": "python",
   "pygments_lexer": "ipython3",
   "version": "3.7.1"
  },
  "pycharm": {
   "stem_cell": {
    "cell_type": "raw",
    "source": [],
    "metadata": {
     "collapsed": false
    }
   }
  }
 },
 "nbformat": 4,
 "nbformat_minor": 1
}