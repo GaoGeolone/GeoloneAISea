{
 "cells": [
  {
   "cell_type": "code",
   "execution_count": 1,
   "metadata": {
    "collapsed": true,
    "pycharm": {
     "is_executing": false
    }
   },
   "outputs": [],
   "source": [
    "%matplotlib inline\n",
    "\n",
    "import pandas as pd\n",
    "import numpy as np\n",
    "import warnings"
   ]
  },
  {
   "cell_type": "code",
   "execution_count": 2,
   "outputs": [],
   "source": [
    "warnings.filterwarnings('ignore')\n",
    "train = pd.read_hdf('../input/train.h5')\n",
    "train_label = train.drop_duplicates('ship')\n",
    "type_map = dict(zip(train_label['type'].unique(), np.arange(3)))\n",
    "# rev means a reversed map relation\n",
    "type_map_rev = {v:k for k,v in type_map.items()} \n",
    "train_label['type'] = train_label['type'].map(type_map)\n",
    "\n",
    "def extract_dt(df):\n",
    "    df['time'] = pd.to_datetime(df['time'], format='%m%d %H:%M:%S')\n",
    "    # df['month'] = df['time'].dt.month\n",
    "    # df['day'] = df['time'].dt.day\n",
    "    df['date'] = df['time'].dt.date\n",
    "    df['hour'] = df['time'].dt.hour\n",
    "    # df = df.drop_duplicates(['ship','month'])\n",
    "    df['weekday'] = df['time'].dt.weekday\n",
    "    return df\n",
    "train = extract_dt(train)"
   ],
   "metadata": {
    "collapsed": false,
    "pycharm": {
     "name": "#%%\n",
     "is_executing": false
    }
   }
  },
  {
   "cell_type": "code",
   "execution_count": 3,
   "outputs": [],
   "source": [
    "def group_feature(df, key, target, aggs):   \n",
    "    agg_dict = {}\n",
    "    for ag in aggs:\n",
    "        agg_dict[f'{target}_{ag}'] = ag\n",
    "    print(agg_dict)\n",
    "    t = df.groupby(key)[target].agg(agg_dict).reset_index()\n",
    "    return t\n",
    "\n",
    "def extract_feature(df, train_feature):\n",
    "    t = group_feature(df, 'ship','x',['max','min','mean','std','skew','sum'])\n",
    "    train_feature = pd.merge(train_feature, t, on='ship', how='left')\n",
    "    t = group_feature(df, 'ship','x',['count'])\n",
    "    train_feature = pd.merge(train_feature, t, on='ship', how='left')\n",
    "    t = group_feature(df, 'ship','y',['max','min','mean','std','skew','sum'])\n",
    "    train_feature = pd.merge(train_feature, t, on='ship', how='left')\n",
    "    t = group_feature(df, 'ship','v',['max','min','mean','std','skew','sum'])\n",
    "    train_feature = pd.merge(train_feature, t, on='ship', how='left')\n",
    "    t = group_feature(df, 'ship','d',['max','min','mean','std','skew','sum'])\n",
    "    train_feature = pd.merge(train_feature, t, on='ship', how='left')\n",
    "    train_feature['x_max_x_min'] = train_feature['x_max'] - train_feature['x_min']\n",
    "    train_feature['y_max_y_min'] = train_feature['y_max'] - train_feature['y_min']\n",
    "    train_feature['y_max_x_min'] = train_feature['y_max'] - train_feature['x_min']\n",
    "    train_feature['x_max_y_min'] = train_feature['x_max'] - train_feature['y_min']\n",
    "    train_feature['slope'] = train_feature['y_max_y_min'] / np.where(train_feature['x_max_x_min']==0, 0.001, train_feature['x_max_x_min'])\n",
    "    train_feature['area'] = train_feature['x_max_x_min'] * train_feature['y_max_y_min']\n",
    "    \n",
    "    mode_hour = df.groupby('ship')['hour'].agg(lambda x:x.value_counts().index[0]).to_dict()\n",
    "    train_feature['mode_hour'] = train_feature['ship'].map(mode_hour)\n",
    "    \n",
    "    t = group_feature(df, 'ship','hour',['max','min'])\n",
    "    train_feature = pd.merge(train_feature, t, on='ship', how='left')\n",
    "    \n",
    "    hour_nunique = df.groupby('ship')['hour'].nunique().to_dict()\n",
    "    date_nunique = df.groupby('ship')['date'].nunique().to_dict()\n",
    "    train_feature['hour_nunique'] = train_feature['ship'].map(hour_nunique)\n",
    "    train_feature['date_nunique'] = train_feature['ship'].map(date_nunique)\n",
    "\n",
    "    t = df.groupby('ship')['time'].agg({'diff_time':lambda x:np.max(x)-np.min(x)}).reset_index()\n",
    "    t['diff_day'] = t['diff_time'].dt.days\n",
    "    t['diff_second'] = t['diff_time'].dt.seconds\n",
    "    train_feature = pd.merge(train_feature, t, on='ship', how='left')\n",
    "    return train_feature"
   ],
   "metadata": {
    "collapsed": false,
    "pycharm": {
     "name": "#%%\n",
     "is_executing": false
    }
   }
  },
  {
   "cell_type": "code",
   "execution_count": 82,
   "outputs": [],
   "source": [
    "#this function will get an n-2 length series\n",
    "def translation_forward(list_in,n):\n",
    "    for i in range(n):\n",
    "        list_in.pop(0)\n",
    "    return list_in\n",
    "\n",
    "def area_tri(groupbied):\n",
    "    area_triangle=[]\n",
    "    x1_list=list(groupbied['x'])\n",
    "    y1_list=list(groupbied['y'])\n",
    "    x2_list=list(translation_forward(x1_list,1))\n",
    "    y2_list=list(translation_forward(y1_list,1))\n",
    "    x3_list=list(translation_forward(x2_list,1))\n",
    "    y3_list=list(translation_forward(y2_list,1))\n",
    "    for x1, y1, x2, y2, x3, y3 in zip(x1_list,y1_list,x2_list,y2_list,x3_list,y3_list):\n",
    "        a=np.sqrt((x2-x3)**2+(y2-y3)**2)\n",
    "        b=np.sqrt((x1-x3)**2+(y1-y3)**2)\n",
    "        c=np.sqrt((x1-x2)**2+(y1-y2)**2)\n",
    "        s = (a + b + c) / 2\n",
    "        area_triangle.append(s)\n",
    "    return area_triangle\n"
   ],
   "metadata": {
    "collapsed": false,
    "pycharm": {
     "name": "#%%\n",
     "is_executing": false
    }
   }
  },
  {
   "cell_type": "code",
   "execution_count": 4,
   "outputs": [],
   "source": [
    "train = pd.read_hdf('../input/train.h5')\n",
    "test = pd.read_hdf('../input/test.h5')\n",
    "train = extract_dt(train)\n",
    "test = extract_dt(test)"
   ],
   "metadata": {
    "collapsed": false,
    "pycharm": {
     "name": "#%%\n",
     "is_executing": false
    }
   }
  },
  {
   "cell_type": "code",
   "execution_count": 5,
   "outputs": [
    {
     "name": "stdout",
     "text": [
      "RangeIndex(start=0, stop=2699638, step=1)\n"
     ],
     "output_type": "stream"
    }
   ],
   "source": [
    "#add more information about distribution on dist and time\n",
    "train_order=train.groupby('ship').apply(lambda x: x.sort_values('time',ascending=True))\n",
    "train_order.reset_index(level=0,drop=True,inplace=True)# save the inner index number step#1\n",
    "train_order.index.name ='inner_rev_index'# save the inner index number step#2\n",
    "train_order.reset_index(drop=False,inplace=True)#add 0-N index\n",
    "print(train_order.index)\n",
    "train_order['inner_ord_index']=train.index#use the former subIndex to Mark the t0-tN\n"
   ],
   "metadata": {
    "collapsed": false,
    "pycharm": {
     "name": "#%%\n",
     "is_executing": false
    }
   }
  },
  {
   "cell_type": "code",
   "execution_count": 16,
   "outputs": [],
   "source": [
    "train_order['diff_time']=pd.DataFrame(train_order.groupby('ship').apply(lambda x:x['time'].diff()/np.timedelta64(1, 'h'))).reset_index()['time']\n",
    "train_order['diff_dist']=pd.DataFrame(train_order.groupby('ship').apply(lambda x:np.sqrt(x['x'].diff()**2+x['y'].diff()**2))).reset_index()[0]\n",
    "train_order['est_v']=pd.DataFrame(train_order.groupby('ship').apply(lambda x:x['diff_dist']/x['diff_time'])).reset_index()[0]\n",
    "train_order['est_diff_dist']=pd.DataFrame(train_order.groupby('ship').apply(lambda x:x['v']*x['diff_time']*1852)).reset_index()[0]"
   ],
   "metadata": {
    "collapsed": false,
    "pycharm": {
     "name": "#%%\n",
     "is_executing": false
    }
   }
  },
  {
   "cell_type": "code",
   "execution_count": 22,
   "outputs": [],
   "source": [
    "temp=pd.DataFrame(train_order.groupby('ship').apply(lambda x:len(x))).reset_index()"
   ],
   "metadata": {
    "collapsed": false,
    "pycharm": {
     "name": "#%%\n",
     "is_executing": false
    }
   }
  },
  {
   "cell_type": "code",
   "execution_count": 31,
   "outputs": [
    {
     "data": {
      "text/plain": "ship      1\n0       385\nName: 1, dtype: int64"
     },
     "metadata": {},
     "output_type": "execute_result",
     "execution_count": 31
    }
   ],
   "source": [
    "temp.iloc[1]  #"
   ],
   "metadata": {
    "collapsed": false,
    "pycharm": {
     "name": "#%%\n",
     "is_executing": false
    }
   }
  },
  {
   "cell_type": "code",
   "execution_count": 84,
   "outputs": [],
   "source": [
    "temp=train_order.groupby('ship').apply(area_tri)"
   ],
   "metadata": {
    "collapsed": false,
    "pycharm": {
     "name": "#%%\n",
     "is_executing": false
    }
   }
  },
  {
   "cell_type": "code",
   "execution_count": 86,
   "outputs": [
    {
     "data": {
      "text/plain": "ship\n0       [0.0, 0.0, 0.0, 0.0, 0.0, 0.0, 0.0, 0.0, 0.0, ...\n1       [0.0, 0.0, 0.0, 0.0, 0.0, 0.0, 0.0, 0.0, 0.0, ...\n2       [0.0, 0.0, 0.0, 0.0, 0.0, 0.0, 0.0, 0.0, 0.0, ...\n3       [0.0, 0.0, 1162.9152806630425, 992.94362556649...\n4       [0.0, 93.27571855040479, 93.27571855040479, 0....\n5       [0.0, 0.0, 0.0, 0.0, 98.09530262414417, 98.095...\n6       [1157.6321676505852, 1338.9765813810914, 1004....\n7       [0.0, 0.0, 0.0, 0.0, 0.0, 0.0, 0.0, 0.0, 0.0, ...\n8       [1061.1585352788256, 1190.4300084463305, 1153....\n9       [0.0, 0.0, 0.0, 0.0, 0.0, 0.0, 0.0, 0.0, 0.0, ...\n10      [0.0, 109.42747206936704, 109.42747206936704, ...\n11      [0.0, 0.0, 109.46282580257194, 0.0, 0.0, 0.0, ...\n12      [954.8002989585325, 954.8168001355841, 1045.40...\n13      [0.0, 0.0, 0.0, 0.0, 0.0, 0.0, 0.0, 0.0, 0.0, ...\n14      [0.0, 109.42851863034547, 0.0, 109.42851863034...\n15      [148.39487907083213, 98.21489180117148, 148.39...\n16      [775.3958867179202, 768.9367076392092, 768.951...\n17      [0.0, 0.0, 0.0, 0.0, 0.0, 0.0, 0.0, 0.0, 0.0, ...\n18      [0.0, 0.0, 0.0, 0.0, 0.0, 0.0, 0.0, 0.0, 0.0, ...\n19      [3207.894162803933, 545.64856338268, 511.76070...\n20      [0.0, 110.3236032104745, 98.03011621679916, 11...\n21      [0.0, 0.0, 0.0, 0.0, 0.0, 0.0, 0.0, 0.0, 0.0, ...\n22      [1326.4250663502273, 1547.5342576050693, 1330....\n23      [1120.9471948259443, 1204.0787197575469, 1416....\n24      [892.4238606005466, 892.4243513296594, 743.687...\n25      [798.2413516467085, 828.5563592436159, 772.120...\n26      [0.0, 0.0, 0.0, 0.0, 0.0, 0.0, 0.0, 0.0, 0.0, ...\n27      [0.0, 0.0, 0.0, 109.27021171925385, 109.270211...\n28      [0.0, 0.0, 0.0, 0.0, 0.0, 0.0, 0.0, 0.0, 0.0, ...\n29      [0.0, 0.0, 0.0, 0.0, 0.0, 109.37620781822099, ...\n                              ...                        \n6970    [1359.5403696354224, 1448.8376858439656, 1268....\n6971    [1794.2926207957116, 0.0, 891.2878832124896, 8...\n6972    [678.7726224886288, 1019.7178006768196, 1127.5...\n6973    [0.0, 109.12867942295966, 0.0, 109.12867942295...\n6974    [0.0, 0.0, 148.63894578491127, 0.0, 148.638945...\n6975    [1202.6975348666663, 1347.2943503729437, 1202....\n6976    [368.1433890966052, 514.0984011179658, 368.132...\n6977    [0.0, 0.0, 0.0, 0.0, 0.0, 0.0, 0.0, 0.0, 0.0, ...\n6978    [0.0, 93.16533648076076, 0.0, 0.0, 0.0, 0.0, 1...\n6979    [109.69810582097186, 0.0, 0.0, 0.0, 0.0, 0.0, ...\n6980    [0.0, 0.0, 0.0, 0.0, 0.0, 0.0, 0.0, 0.0, 0.0, ...\n6981    [0.0, 0.0, 0.0, 0.0, 0.0, 0.0, 0.0, 0.0, 0.0, ...\n6982    [3555.2908086166985, 2478.922463957817, 0.0, 1...\n6983    [585.0858247200495, 667.3427905172287, 841.384...\n6984    [2175.9248544067705, 1955.8847732348752, 1959....\n6985    [101.17655457803419, 101.17655457803419, 0.0, ...\n6986    [0.0, 0.0, 0.0, 0.0, 0.0, 0.0, 0.0, 0.0, 0.0, ...\n6987    [0.0, 0.0, 111.05816699965082, 111.05816699965...\n6988    [0.0, 0.0, 0.0, 0.0, 0.0, 0.0, 0.0, 0.0, 0.0, ...\n6989    [0.0, 0.0, 0.0, 0.0, 109.2664992530482, 303.86...\n6990    [7042.7687146838625, 2198.1580047341417, 2328....\n6991    [0.0, 0.0, 99.98361393493367, 0.0, 0.0, 0.0, 0...\n6992    [0.0, 0.0, 93.62562731732582, 0.0, 0.0, 0.0, 0...\n6993    [0.0, 0.0, 0.0, 0.0, 0.0, 0.0, 0.0, 0.0, 0.0, ...\n6994    [0.0, 0.0, 0.0, 0.0, 0.0, 0.0, 0.0, 0.0, 0.0, ...\n6995    [0.0, 0.0, 0.0, 100.86575049357342, 100.865750...\n6996    [2492.672901306266, 1256.1003597565636, 1253.7...\n6997    [0.0, 1547.8884097810333, 425.5159325809223, 0...\n6998    [0.0, 0.0, 0.0, 0.0, 0.0, 0.0, 0.0, 0.0, 0.0, ...\n6999    [218.13044449194058, 1562.9243581022813, 1505....\nLength: 7000, dtype: object"
     },
     "metadata": {},
     "output_type": "execute_result",
     "execution_count": 86
    }
   ],
   "source": [
    "temp"
   ],
   "metadata": {
    "collapsed": false,
    "pycharm": {
     "name": "#%%\n",
     "is_executing": false
    }
   }
  }
 ],
 "metadata": {
  "kernelspec": {
   "display_name": "Python 3",
   "language": "python",
   "name": "python3"
  },
  "language_info": {
   "codemirror_mode": {
    "name": "ipython",
    "version": 2
   },
   "file_extension": ".py",
   "mimetype": "text/x-python",
   "name": "python",
   "nbconvert_exporter": "python",
   "pygments_lexer": "ipython2",
   "version": "2.7.6"
  },
  "pycharm": {
   "stem_cell": {
    "cell_type": "raw",
    "source": [],
    "metadata": {
     "collapsed": false
    }
   }
  }
 },
 "nbformat": 4,
 "nbformat_minor": 0
}