{
 "cells": [
  {
   "cell_type": "code",
   "execution_count": 1,
   "metadata": {
    "collapsed": true,
    "pycharm": {
     "is_executing": false
    }
   },
   "outputs": [],
   "source": [
    "%matplotlib inline\n",
    "\n",
    "import pandas as pd\n",
    "import numpy as np\n",
    "import warnings\n",
    "from pylab import *"
   ]
  },
  {
   "cell_type": "code",
   "execution_count": 2,
   "metadata": {
    "pycharm": {
     "is_executing": false,
     "name": "#%%\n"
    }
   },
   "outputs": [],
   "source": [
    "warnings.filterwarnings('ignore')\n",
    "def extract_dt(df):\n",
    "    df['time'] = pd.to_datetime(df['time'], format='%m%d %H:%M:%S')\n",
    "    # df['month'] = df['time'].dt.month\n",
    "    # df['day'] = df['time'].dt.day\n",
    "    df['date'] = df['time'].dt.date\n",
    "    df['hour'] = df['time'].dt.hour\n",
    "    # df = df.drop_duplicates(['ship','month'])\n",
    "    df['weekday'] = df['time'].dt.weekday\n",
    "    return df"
   ]
  },
  {
   "cell_type": "code",
   "execution_count": 3,
   "metadata": {
    "pycharm": {
     "is_executing": false,
     "name": "#%%\n"
    }
   },
   "outputs": [],
   "source": [
    "#cited from others\n",
    "def group_feature(df, key, target, aggs):   \n",
    "    agg_dict = {}\n",
    "    for ag in aggs:\n",
    "        agg_dict[f'{target}_{ag}'] = ag\n",
    "    print(agg_dict)\n",
    "    t = df.groupby(key)[target].agg(agg_dict).reset_index()\n",
    "    return t\n",
    "\n",
    "def extract_feature(df, train_feature):\n",
    "    t = group_feature(df, 'ship','x',['max','min','mean','std','skew','sum'])\n",
    "    train_feature = pd.merge(train_feature, t, on='ship', how='left')\n",
    "    t = group_feature(df, 'ship','x',['count'])\n",
    "    train_feature = pd.merge(train_feature, t, on='ship', how='left')\n",
    "    t = group_feature(df, 'ship','y',['max','min','mean','std','skew','sum'])\n",
    "    train_feature = pd.merge(train_feature, t, on='ship', how='left')\n",
    "    t = group_feature(df, 'ship','v',['max','min','mean','std','skew','sum'])\n",
    "    train_feature = pd.merge(train_feature, t, on='ship', how='left')\n",
    "    t = group_feature(df, 'ship','d',['max','min','mean','std','skew','sum'])\n",
    "    train_feature = pd.merge(train_feature, t, on='ship', how='left')\n",
    "    train_feature['x_max_x_min'] = train_feature['x_max'] - train_feature['x_min']\n",
    "    train_feature['y_max_y_min'] = train_feature['y_max'] - train_feature['y_min']\n",
    "    train_feature['y_max_x_min'] = train_feature['y_max'] - train_feature['x_min']\n",
    "    train_feature['x_max_y_min'] = train_feature['x_max'] - train_feature['y_min']\n",
    "    train_feature['slope'] = train_feature['y_max_y_min'] / np.where(train_feature['x_max_x_min']==0, 0.001, train_feature['x_max_x_min'])\n",
    "    train_feature['area'] = train_feature['x_max_x_min'] * train_feature['y_max_y_min']\n",
    "    \n",
    "    mode_hour = df.groupby('ship')['hour'].agg(lambda x:x.value_counts().index[0]).to_dict()\n",
    "    train_feature['mode_hour'] = train_feature['ship'].map(mode_hour)\n",
    "    \n",
    "    t = group_feature(df, 'ship','hour',['max','min'])\n",
    "    train_feature = pd.merge(train_feature, t, on='ship', how='left')\n",
    "    \n",
    "    hour_nunique = df.groupby('ship')['hour'].nunique().to_dict()\n",
    "    date_nunique = df.groupby('ship')['date'].nunique().to_dict()\n",
    "    train_feature['hour_nunique'] = train_feature['ship'].map(hour_nunique)\n",
    "    train_feature['date_nunique'] = train_feature['ship'].map(date_nunique)\n",
    "\n",
    "    t = df.groupby('ship')['time'].agg({'diff_time':lambda x:np.max(x)-np.min(x)}).reset_index()\n",
    "    t['diff_day'] = t['diff_time'].dt.days\n",
    "    t['diff_second'] = t['diff_time'].dt.seconds\n",
    "    train_feature = pd.merge(train_feature, t, on='ship', how='left')\n",
    "    return train_feature"
   ]
  },
  {
   "cell_type": "code",
   "execution_count": 4,
   "metadata": {
    "pycharm": {
     "is_executing": false,
     "name": "#%%\n"
    }
   },
   "outputs": [],
   "source": [
    "#this function will get an n-2 length series\n",
    "def translation_forward(list_in,n):\n",
    "    for i in range(n):\n",
    "        list_in.pop(0)\n",
    "    return list_in\n",
    "\n",
    "def area_tri(groupbied):\n",
    "    # area_triangle=[]change to dataframe\n",
    "    # 创建空DataFrame\n",
    "    # ship_id=groupbied['ship'].unique().item(0)\n",
    "    if len(groupbied) > 49:\n",
    "        x1_list=list(groupbied['x'])\n",
    "        y1_list=list(groupbied['y'])\n",
    "        x2_list=list(translation_forward(x1_list,16))\n",
    "        y2_list=list(translation_forward(y1_list,16))\n",
    "        x3_list=list(translation_forward(x2_list,32))\n",
    "        y3_list=list(translation_forward(y2_list,32))\n",
    "        # t=list(groupbied['time'])\n",
    "        delta_t1=list(groupbied['time'])\n",
    "        delta_t2=list(translation_forward(delta_t1,48))\n",
    "        area_list=[]\n",
    "        line_2_list=[]\n",
    "        eff_a_l_list=[]\n",
    "        eff_a_t_list=[]\n",
    "        for x1, y1, x2, y2, x3, y3, diff_t1, diff_t2 in zip(x1_list,y1_list,x2_list,y2_list,x3_list,y3_list,delta_t1,delta_t2):\n",
    "            a=np.sqrt((x2-x3)**2+(y2-y3)**2)\n",
    "            b=np.sqrt((x1-x3)**2+(y1-y3)**2)\n",
    "            c=np.sqrt((x1-x2)**2+(y1-y2)**2)\n",
    "            s = (a + b + c) / 2\n",
    "            l=a+c\n",
    "            area=(s*(s-a)*(s-b)*(s-c)) ** 0.5\n",
    "            diff_t=(diff_t2 - diff_t1)/np.timedelta64(1, 'h')\n",
    "            eff_area_line=area/l if l!=0 else 0\n",
    "            eff_area_diff_t=area /diff_t if diff_t!=0 else 0\n",
    "            # area_triangle.append(s)\n",
    "            area_list.append(area)\n",
    "            line_2_list.append(l)\n",
    "            eff_a_l_list.append(eff_area_line)\n",
    "            eff_a_t_list.append(eff_area_diff_t)\n",
    "        area_triangle = pd.DataFrame(list(zip(area_list, line_2_list, eff_a_l_list, eff_a_t_list)))\n",
    "        area_triangle.columns = ['area_3','Line_2','eff_a_l','eff_a_t']  \n",
    "        # area_triangle = area_triangle.append(temp_df,ignore_index=True)\n",
    "    else:\n",
    "        area_triangle=pd.DataFrame({'area_3':[0],'Line_2':[0],'eff_a_l':[0],'eff_a_t':[0]})\n",
    "    return area_triangle"
   ]
  },
  {
   "cell_type": "code",
   "execution_count": null,
   "outputs": [],
   "source": [
    "#add FFT\n",
    "def fft_v(groupbied):\n",
    "    nSampleNum = len(groupbied)\n",
    "    sampleTime = groupbied['diff_time'].mean()\n",
    "    ncount = (nSampleNum-1)*sampleTime\n",
    "    delta_f = nSampleNum / ncount\n",
    "    x = np.linspace(0,sampleTime,ncount)#时域波形x轴坐标\n",
    "    freqLine = nSampleNum\n",
    "    v = groupbied['v'].values#np.sin(2*pi*250*x)\n",
    "    fft = abs(np.fft.fft(v))[0:freqLine]  #调用fft变换算法计算频域波形\n",
    "    fftx = np.linspace(0,delta_f*freqLine,freqLine)  #频域波形x轴坐标\n",
    "    fft_low = pd.DataFrame(fft[fftx<freqLine*0.25]).describe().T.add_prefix('fft_low_')\n",
    "    fft_mid_l = pd.DataFrame(fft[(fftx>=freqLine*0.25) & (fftx<freqLine*0.5)]).describe().T.add_prefix('fft_mid_l_')\n",
    "    fft_mid_h = pd.DataFrame(fft[(fftx>=freqLine*0.5) & (fftx<freqLine*0.75)]).describe().T.add_prefix('fft_mid_h_')\n",
    "    fft_high = pd.DataFrame(fft[fftx>=freqLine*0.75]).describe().T.add_prefix('fft_high_')\n",
    "    FFT_=pd.concat([fft_low, fft_mid_l, fft_mid_h, fft_high], axis=1)\n",
    "    return FFT_"
   ],
   "metadata": {
    "collapsed": false,
    "pycharm": {
     "name": "#%%\n",
     "is_executing": true
    }
   }
  },
  {
   "cell_type": "code",
   "execution_count": null,
   "metadata": {
    "pycharm": {
     "is_executing": true,
     "name": "#%%\n"
    }
   },
   "outputs": [],
   "source": [
    "def feature_version2(df,feature_label):\n",
    "    df_order=df.groupby('ship').apply(lambda x: x.sort_values('time',ascending=True))\n",
    "    df_order.reset_index(level=0,drop=True,inplace=True)# save the inner index number step#1\n",
    "    df_order.index.name ='inner_rev_index'# save the inner index number step#2\n",
    "    df_order.reset_index(drop=False,inplace=True)#add 0-N index\n",
    "    df_order['inner_ord_index']=df.index#use the former subIndex to Mark the t0-tN\n",
    "    df_order['diff_time']=pd.DataFrame(df_order.groupby('ship').apply(lambda x:x['time'].diff()/np.timedelta64(1, 'h'))).reset_index()['time']\n",
    "    df_order['diff_dist']=pd.DataFrame(df_order.groupby('ship').apply(lambda x:np.sqrt(x['x'].diff()**2+x['y'].diff()**2))).reset_index()[0]\n",
    "    df_order['est_v']=pd.DataFrame(df_order.groupby('ship').apply(lambda x:x['diff_dist']/x['diff_time'])).reset_index()[0]\n",
    "    df_order['est_diff_dist']=pd.DataFrame(df_order.groupby('ship').apply(lambda x:x['v']*x['diff_time']*1852)).reset_index()[0]\n",
    "    v_feature=pd.DataFrame(df_order.groupby('ship').apply(fft_v)).reset_index(level=0,drop=False)#edited\n",
    "    feature_label = pd.merge(feature_label, v_feature, on='ship', how='left')\n",
    "    temp=pd.DataFrame(df_order[df_order['inner_ord_index']==0][['ship','x','y']]).reset_index(drop=True).rename(columns={'x':'start_x', 'y':'start_y'}, inplace = False)\n",
    "    feature_label = pd.merge(feature_label, temp, on='ship', how='left')\n",
    "    temp=pd.DataFrame(df_order[df_order['inner_rev_index']==0][['ship','x','y']]).reset_index(drop=True).rename(columns={'x':'end_x', 'y':'end_y'}, inplace = False)\n",
    "    feature_label = pd.merge(feature_label, temp, on='ship', how='left')\n",
    "    return feature_label"
   ]
  },
  {
   "cell_type": "code",
   "execution_count": null,
   "outputs": [],
   "source": [
    "train = pd.read_hdf('../input/train.h5')\n",
    "test = pd.read_hdf('../input/test.h5')\n",
    "train_label = train.drop_duplicates('ship')\n",
    "type_map = dict(zip(train_label['type'].unique(), np.arange(3)))\n",
    "# rev means a reversed map relation\n",
    "type_map_rev = {v:k for k,v in type_map.items()} \n",
    "train_label['type'] = train_label['type'].map(type_map)\n",
    "train = extract_dt(train)\n",
    "test = extract_dt(test)"
   ],
   "metadata": {
    "collapsed": false,
    "pycharm": {
     "name": "#%%\n",
     "is_executing": true
    }
   }
  },
  {
   "cell_type": "code",
   "execution_count": null,
   "metadata": {
    "pycharm": {
     "is_executing": true,
     "name": "#%%\n"
    }
   },
   "outputs": [
    {
     "name": "stdout",
     "text": [
      "RangeIndex(start=0, stop=2699638, step=1)\n"
     ],
     "output_type": "stream"
    }
   ],
   "source": [
    "#add more information about distribution on dist and time\n",
    "train_order=train.groupby('ship').apply(lambda x: x.sort_values('time',ascending=True))\n",
    "train_order.reset_index(level=0,drop=True,inplace=True)# save the inner index number step#1\n",
    "train_order.index.name ='inner_rev_index'# save the inner index number step#2\n",
    "train_order.reset_index(drop=False,inplace=True)#add 0-N index\n",
    "print(train_order.index)\n",
    "train_order['inner_ord_index']=train.index#use the former subIndex to Mark the t0-tN\n"
   ]
  },
  {
   "cell_type": "code",
   "execution_count": null,
   "metadata": {
    "pycharm": {
     "is_executing": true,
     "name": "#%%\n"
    }
   },
   "outputs": [],
   "source": [
    "train_order['diff_time']=pd.DataFrame(train_order.groupby('ship').apply(lambda x:x['time'].diff()/np.timedelta64(1, 'h'))).reset_index()['time']\n",
    "train_order['diff_dist']=pd.DataFrame(train_order.groupby('ship').apply(lambda x:np.sqrt(x['x'].diff()**2+x['y'].diff()**2))).reset_index()[0]\n",
    "train_order['est_v']=pd.DataFrame(train_order.groupby('ship').apply(lambda x:x['diff_dist']/x['diff_time'])).reset_index()[0]\n",
    "train_order['est_diff_dist']=pd.DataFrame(train_order.groupby('ship').apply(lambda x:x['v']*x['diff_time']*1852)).reset_index()[0]"
   ]
  },
  {
   "cell_type": "code",
   "execution_count": null,
   "outputs": [],
   "source": [
    "v_feature=pd.DataFrame(train_order.groupby('ship').apply(fft_v))#.reset_index()"
   ],
   "metadata": {
    "collapsed": false,
    "pycharm": {
     "name": "#%%\n",
     "is_executing": true
    }
   }
  },
  {
   "cell_type": "code",
   "execution_count": null,
   "outputs": [],
   "source": [
    "temp=v_feature\n",
    "temp=temp.reset_index(level=0,drop=False)"
   ],
   "metadata": {
    "collapsed": false,
    "pycharm": {
     "name": "#%%\n",
     "is_executing": true
    }
   }
  },
  {
   "cell_type": "code",
   "execution_count": null,
   "outputs": [],
   "source": [
    "temp"
   ],
   "metadata": {
    "collapsed": false,
    "pycharm": {
     "name": "#%%\n",
     "is_executing": true
    }
   }
  },
  {
   "cell_type": "code",
   "execution_count": null,
   "outputs": [],
   "source": [
    "train_feature = extract_feature(train, train_label)\n",
    "train_feature = feature_version2(train, train_label)\n",
    "# train_feature = pd.merge(train_feature, v_feature, on='ship', how='left')\n",
    "len(train_feature.columns)"
   ],
   "metadata": {
    "collapsed": false,
    "pycharm": {
     "name": "#%%\n",
     "is_executing": true
    }
   }
  },
  {
   "cell_type": "code",
   "execution_count": null,
   "outputs": [],
   "source": [
    "# train_moved=train_order.loc[train_order.groupby('ship').apply(lambda x:x['diff_dist']!=0 ).reset_index()['diff_dist']]\n",
    "# # df.loc[df.groupby(['CATEGORY'])['VALUE'].diff(1)!=0]This can drop off 连贯相同的项\n",
    "# temp=pd.DataFrame(train_moved.groupby('ship').apply(area_tri)).reset_index()\n",
    "# temp[temp['area_3']!=0]"
   ],
   "metadata": {
    "collapsed": false,
    "pycharm": {
     "name": "#%%\n",
     "is_executing": true
    }
   }
  },
  {
   "cell_type": "code",
   "execution_count": null,
   "outputs": [],
   "source": [
    "# test_1=train_feature\n",
    "temp_2=pd.DataFrame(train_order[train_order['inner_ord_index']==0][['ship','x','y']]).reset_index(drop=True).rename(columns={'x':'start_x', 'y':'start_y'}, inplace = False)\n",
    "# test.index.name = 'ship'\n",
    "# temp_2=temp_1[['ship','x']]\n",
    "# temp_2\n",
    "# temp_2.rename(columns={'x':'start_x', 'y':'start_y'}, inplace = False)\n",
    "temp_2\n",
    "# test_1 = pd.merge(test_1, temp_2, on='ship', how='left')\n",
    "# test_1\n",
    "# train_feature"
   ],
   "metadata": {
    "collapsed": false,
    "pycharm": {
     "name": "#%%\n",
     "is_executing": true
    }
   }
  },
  {
   "cell_type": "code",
   "execution_count": null,
   "outputs": [],
   "source": [
    "# t = np.arange(0, 1.0, 1.0/100)\n",
    "# y = t+0.25\n",
    "# a=pd.DataFrame(t[(y>0.5) & (y<0.6)])\n",
    "# a.describe().add_prefix('prefix').T\n",
    "# b=pd.concat([a, a], axis=1)\n",
    "# b\n",
    "# DataFrame\n",
    "# temp1=(y>0.5)\n",
    "# temp2=(y<0.6)\n",
    "# temp3=temp1 and temp2\n",
    "# temp3"
   ],
   "metadata": {
    "collapsed": false,
    "pycharm": {
     "name": "#%%\n",
     "is_executing": true
    }
   }
  },
  {
   "cell_type": "code",
   "execution_count": null,
   "outputs": [],
   "source": [
    "# a=fft_v(train_order[train_order['ship']==0])\n",
    "# a['ship']=1\n",
    "# a"
   ],
   "metadata": {
    "collapsed": false,
    "pycharm": {
     "name": "#%%\n",
     "is_executing": true
    }
   }
  }
 ],
 "metadata": {
  "kernelspec": {
   "display_name": "Python 3",
   "language": "python",
   "name": "python3"
  },
  "language_info": {
   "codemirror_mode": {
    "name": "ipython",
    "version": 3
   },
   "file_extension": ".py",
   "mimetype": "text/x-python",
   "name": "python",
   "nbconvert_exporter": "python",
   "pygments_lexer": "ipython3",
   "version": "3.7.1"
  },
  "pycharm": {
   "stem_cell": {
    "cell_type": "raw",
    "source": [],
    "metadata": {
     "collapsed": false
    }
   }
  }
 },
 "nbformat": 4,
 "nbformat_minor": 1
}