{
 "cells": [
  {
   "cell_type": "code",
   "execution_count": 1,
   "outputs": [],
   "source": [
    "%matplotlib inline\n",
    "\n",
    "import pandas as pd\n",
    "import numpy as np\n",
    "import sys\n",
    "import os\n",
    "from tqdm import tqdm\n",
    "import lightgbm as lgb\n",
    "from sklearn.model_selection import StratifiedKFold\n",
    "from sklearn import metrics\n",
    "import warnings\n",
    "import matplotlib.pyplot as plt\n",
    "\n",
    "pd.set_option('display.max_columns', 10)\n",
    "# warnings.filterwarnings('ignore')\n",
    "def group_feature(df, key, target, aggs):   \n",
    "    agg_dict = {}\n",
    "    for ag in aggs:\n",
    "        agg_dict[f'{target}_{ag}'] = ag\n",
    "    print(agg_dict)\n",
    "    t = df.groupby(key)[target].agg(agg_dict).reset_index()\n",
    "    return t\n",
    "\n",
    "def extract_feature(df, train_feature):\n",
    "    t = group_feature(df, 'ship','x',['max','min','mean','std','skew','sum'])\n",
    "    train_feature = pd.merge(train_feature, t, on='ship', how='left')\n",
    "    t = group_feature(df, 'ship','x',['count'])\n",
    "    train_feature = pd.merge(train_feature, t, on='ship', how='left')\n",
    "    t = group_feature(df, 'ship','y',['max','min','mean','std','skew','sum'])\n",
    "    train_feature = pd.merge(train_feature, t, on='ship', how='left')\n",
    "    t = group_feature(df, 'ship','v',['max','min','mean','std','skew','sum'])\n",
    "    train_feature = pd.merge(train_feature, t, on='ship', how='left')\n",
    "    t = group_feature(df, 'ship','d',['max','min','mean','std','skew','sum'])\n",
    "    train_feature = pd.merge(train_feature, t, on='ship', how='left')\n",
    "    train_feature['x_max_x_min'] = train_feature['x_max'] - train_feature['x_min']\n",
    "    train_feature['y_max_y_min'] = train_feature['y_max'] - train_feature['y_min']\n",
    "    train_feature['y_max_x_min'] = train_feature['y_max'] - train_feature['x_min']\n",
    "    train_feature['x_max_y_min'] = train_feature['x_max'] - train_feature['y_min']\n",
    "    train_feature['slope'] = train_feature['y_max_y_min'] / np.where(train_feature['x_max_x_min']==0, 0.001, train_feature['x_max_x_min'])\n",
    "    train_feature['area'] = train_feature['x_max_x_min'] * train_feature['y_max_y_min']\n",
    "    \n",
    "    mode_hour = df.groupby('ship')['hour'].agg(lambda x:x.value_counts().index[0]).to_dict()\n",
    "    train_feature['mode_hour'] = train_feature['ship'].map(mode_hour)\n",
    "    \n",
    "    t = group_feature(df, 'ship','hour',['max','min'])\n",
    "    train_feature = pd.merge(train_feature, t, on='ship', how='left')\n",
    "    \n",
    "    hour_nunique = df.groupby('ship')['hour'].nunique().to_dict()\n",
    "    date_nunique = df.groupby('ship')['date'].nunique().to_dict()\n",
    "    train_feature['hour_nunique'] = train_feature['ship'].map(hour_nunique)\n",
    "    train_feature['date_nunique'] = train_feature['ship'].map(date_nunique)\n",
    "\n",
    "    t = df.groupby('ship')['time'].agg({'diff_time':lambda x:np.max(x)-np.min(x)}).reset_index()\n",
    "    t['diff_day'] = t['diff_time'].dt.days\n",
    "    t['diff_second'] = t['diff_time'].dt.seconds\n",
    "    train_feature = pd.merge(train_feature, t, on='ship', how='left')\n",
    "    return train_feature\n",
    "\n",
    "#this func try to sparse the TIme data\n",
    "def extract_dt(df):\n",
    "    df['time'] = pd.to_datetime(df['time'], format='%m%d %H:%M:%S')\n",
    "    # df['month'] = df['time'].dt.month\n",
    "    # df['day'] = df['time'].dt.day\n",
    "    df['date'] = df['time'].dt.date\n",
    "    df['hour'] = df['time'].dt.hour\n",
    "    # df = df.drop_duplicates(['ship','month'])\n",
    "    df['weekday'] = df['time'].dt.weekday\n",
    "    return df"
   ],
   "metadata": {
    "collapsed": false,
    "pycharm": {
     "name": "#%%\n",
     "is_executing": false
    }
   }
  },
  {
   "cell_type": "code",
   "execution_count": 2,
   "outputs": [],
   "source": [
    "#add FFT\n",
    "def fft_v(groupbied):\n",
    "    nSampleNum = len(groupbied)\n",
    "    sampleTime = groupbied['diff_time'].mean()\n",
    "    ncount = (nSampleNum-1)*sampleTime\n",
    "    delta_f = nSampleNum / ncount\n",
    "    x = np.linspace(0,sampleTime,ncount)#时域波形x轴坐标\n",
    "    freqLine = nSampleNum\n",
    "    v = groupbied['v'].values#np.sin(2*pi*250*x)\n",
    "    fft = abs(np.fft.fft(v))[0:freqLine]  #调用fft变换算法计算频域波形\n",
    "    fftx = np.linspace(0,delta_f*freqLine,freqLine)  #频域波形x轴坐标\n",
    "    fft_low = pd.DataFrame(fft[fftx<freqLine*0.25]).describe().T.add_prefix('fft_low_')\n",
    "    fft_mid_l = pd.DataFrame(fft[(fftx>=freqLine*0.25) & (fftx<freqLine*0.5)]).describe().T.add_prefix('fft_mid_l_')\n",
    "    fft_mid_h = pd.DataFrame(fft[(fftx>=freqLine*0.5) & (fftx<freqLine*0.75)]).describe().T.add_prefix('fft_mid_h_')\n",
    "    fft_high = pd.DataFrame(fft[fftx>=freqLine*0.75]).describe().T.add_prefix('fft_high_')\n",
    "    FFT_=pd.concat([fft_low, fft_mid_l, fft_mid_h, fft_high], axis=1)\n",
    "    return FFT_"
   ],
   "metadata": {
    "collapsed": false,
    "pycharm": {
     "name": "#%%\n",
     "is_executing": false
    }
   }
  },
  {
   "cell_type": "code",
   "execution_count": 3,
   "outputs": [],
   "source": [
    "def feature_version2(df,feature_label):\n",
    "    df_order=df.groupby('ship').apply(lambda x: x.sort_values('time',ascending=True))\n",
    "    df_order.reset_index(level=0,drop=True,inplace=True)# save the inner index number step#1\n",
    "    df_order.index.name ='inner_rev_index'# save the inner index number step#2\n",
    "    df_order.reset_index(drop=False,inplace=True)#add 0-N index\n",
    "    df_order['inner_ord_index']=df.index#use the former subIndex to Mark the t0-tN\n",
    "    df_order['diff_time']=pd.DataFrame(df_order.groupby('ship').apply(lambda x:x['time'].diff()/np.timedelta64(1, 'h'))).reset_index()['time']\n",
    "    df_order['diff_dist']=pd.DataFrame(df_order.groupby('ship').apply(lambda x:np.sqrt(x['x'].diff()**2+x['y'].diff()**2))).reset_index()[0]\n",
    "    df_order['est_v']=pd.DataFrame(df_order.groupby('ship').apply(lambda x:x['diff_dist']/x['diff_time'])).reset_index()[0]\n",
    "    df_order['est_diff_dist']=pd.DataFrame(df_order.groupby('ship').apply(lambda x:x['v']*x['diff_time']*1852)).reset_index()[0]\n",
    "    v_feature=pd.DataFrame(df_order.groupby('ship').apply(fft_v)).reset_index()\n",
    "    feature_label = pd.merge(feature_label, v_feature, on='ship', how='left')\n",
    "    return feature_label"
   ],
   "metadata": {
    "collapsed": false,
    "pycharm": {
     "name": "#%%\n",
     "is_executing": false
    }
   }
  },
  {
   "cell_type": "code",
   "execution_count": 4,
   "outputs": [],
   "source": [
    "train = pd.read_hdf('../input/train.h5')\n",
    "test = pd.read_hdf('../input/test.h5')"
   ],
   "metadata": {
    "collapsed": false,
    "pycharm": {
     "name": "#%%\n",
     "is_executing": false
    }
   }
  },
  {
   "cell_type": "code",
   "execution_count": 5,
   "outputs": [],
   "source": [
    "#transform the ori data to col=[ship x y v d time type date hour weekday]\n",
    "train = extract_dt(train)\n",
    "test = extract_dt(test)"
   ],
   "metadata": {
    "collapsed": false,
    "pycharm": {
     "name": "#%%\n",
     "is_executing": false
    }
   }
  },
  {
   "cell_type": "code",
   "execution_count": 6,
   "outputs": [],
   "source": [
    "#drop out and only leave the default 1st time data like the beginning time and position\n",
    "train_label = train.drop_duplicates('ship')\n",
    "test_label = test.drop_duplicates('ship')"
   ],
   "metadata": {
    "collapsed": false,
    "pycharm": {
     "name": "#%%\n",
     "is_executing": false
    }
   }
  },
  {
   "cell_type": "code",
   "execution_count": 7,
   "outputs": [
    {
     "name": "stderr",
     "text": [
      "D:\\Anaconda\\lib\\site-packages\\ipykernel_launcher.py:7: SettingWithCopyWarning: \n",
      "A value is trying to be set on a copy of a slice from a DataFrame.\n",
      "Try using .loc[row_indexer,col_indexer] = value instead\n",
      "\n",
      "See the caveats in the documentation: http://pandas.pydata.org/pandas-docs/stable/indexing.html#indexing-view-versus-copy\n",
      "  import sys\n"
     ],
     "output_type": "stream"
    }
   ],
   "source": [
    "#zip realize the one to one map from the former list to the latter list\n",
    "#dict make the map as a dictionary\n",
    "type_map = dict(zip(train_label['type'].unique(), np.arange(3)))\n",
    "# rev means a reversed map relation\n",
    "type_map_rev = {v:k for k,v in type_map.items()} \n",
    "train_label['type'] = train_label['type'].map(type_map)\n",
    "#the data of type was now described by numbers as 0,1,2 "
   ],
   "metadata": {
    "collapsed": false,
    "pycharm": {
     "name": "#%%\n",
     "is_executing": false
    }
   }
  },
  {
   "cell_type": "code",
   "execution_count": 8,
   "outputs": [
    {
     "name": "stdout",
     "text": [
      "{'x_max': 'max', 'x_min': 'min', 'x_mean': 'mean', 'x_std': 'std', 'x_skew': 'skew', 'x_sum': 'sum'}\n",
      "{'x_count': 'count'}\n",
      "{'y_max': 'max', 'y_min': 'min', 'y_mean': 'mean', 'y_std': 'std', 'y_skew': 'skew', 'y_sum': 'sum'}\n",
      "{'v_max': 'max', 'v_min': 'min', 'v_mean': 'mean', 'v_std': 'std', 'v_skew': 'skew', 'v_sum': 'sum'}\n",
      "{'d_max': 'max', 'd_min': 'min', 'd_mean': 'mean', 'd_std': 'std', 'd_skew': 'skew', 'd_sum': 'sum'}\n",
      "{'hour_max': 'max', 'hour_min': 'min'}\n"
     ],
     "output_type": "stream"
    },
    {
     "name": "stderr",
     "text": [
      "D:\\Anaconda\\lib\\site-packages\\ipykernel_launcher.py:22: FutureWarning: using a dict on a Series for aggregation\n",
      "is deprecated and will be removed in a future version\n",
      "D:\\Anaconda\\lib\\site-packages\\ipykernel_launcher.py:54: FutureWarning: using a dict on a Series for aggregation\n",
      "is deprecated and will be removed in a future version\n",
      "D:\\Anaconda\\lib\\site-packages\\ipykernel_launcher.py:7: DeprecationWarning: object of type <class 'float'> cannot be safely interpreted as an integer.\n",
      "  import sys\n"
     ],
     "output_type": "stream"
    }
   ],
   "source": [
    "train_feature = extract_feature(train, train_label)\n",
    "train_feature = feature_version2(train, train_feature)"
   ],
   "metadata": {
    "collapsed": false,
    "pycharm": {
     "name": "#%%\n",
     "is_executing": false
    }
   }
  },
  {
   "cell_type": "code",
   "execution_count": 9,
   "outputs": [],
   "source": [
    "# train_feature = pd.merge(train_feature, v_feature, on='ship', how='left')"
   ],
   "metadata": {
    "collapsed": false,
    "pycharm": {
     "name": "#%%\n",
     "is_executing": false
    }
   }
  },
  {
   "cell_type": "code",
   "execution_count": 9,
   "outputs": [],
   "source": [],
   "metadata": {
    "collapsed": false,
    "pycharm": {
     "name": "#%%\n",
     "is_executing": false
    }
   }
  },
  {
   "cell_type": "code",
   "execution_count": 10,
   "outputs": [
    {
     "name": "stdout",
     "text": [
      "{'x_max': 'max', 'x_min': 'min', 'x_mean': 'mean', 'x_std': 'std', 'x_skew': 'skew', 'x_sum': 'sum'}\n",
      "{'x_count': 'count'}\n",
      "{'y_max': 'max', 'y_min': 'min', 'y_mean': 'mean', 'y_std': 'std', 'y_skew': 'skew', 'y_sum': 'sum'}\n",
      "{'v_max': 'max', 'v_min': 'min', 'v_mean': 'mean', 'v_std': 'std', 'v_skew': 'skew', 'v_sum': 'sum'}\n",
      "{'d_max': 'max', 'd_min': 'min', 'd_mean': 'mean', 'd_std': 'std', 'd_skew': 'skew', 'd_sum': 'sum'}\n",
      "{'hour_max': 'max', 'hour_min': 'min'}\n"
     ],
     "output_type": "stream"
    },
    {
     "name": "stderr",
     "text": [
      "D:\\Anaconda\\lib\\site-packages\\ipykernel_launcher.py:22: FutureWarning: using a dict on a Series for aggregation\n",
      "is deprecated and will be removed in a future version\n",
      "D:\\Anaconda\\lib\\site-packages\\ipykernel_launcher.py:54: FutureWarning: using a dict on a Series for aggregation\n",
      "is deprecated and will be removed in a future version\n",
      "D:\\Anaconda\\lib\\site-packages\\ipykernel_launcher.py:7: DeprecationWarning: object of type <class 'float'> cannot be safely interpreted as an integer.\n",
      "  import sys\n"
     ],
     "output_type": "stream"
    }
   ],
   "source": [
    "test_label = extract_feature(test, test_label)\n",
    "test_label = feature_version2(test, test_label)\n",
    "# b=test.groupby('ship')['x','y'].agg({'diff_time':lambda x: np.sum(np.sqrt(pow(x['x'].diff(),2) + pow(x['y'].diff(),2)))}).reset_index()"
   ],
   "metadata": {
    "collapsed": false,
    "pycharm": {
     "name": "#%%\n",
     "is_executing": false
    }
   }
  },
  {
   "cell_type": "code",
   "execution_count": 11,
   "outputs": [],
   "source": [
    "# b.reset_index(level=0,drop=True,inplace=True)\n",
    "# test_label['dist']=b['diff_time']['x']"
   ],
   "metadata": {
    "collapsed": false,
    "pycharm": {
     "name": "#%%\n",
     "is_executing": false
    }
   }
  },
  {
   "cell_type": "code",
   "execution_count": 12,
   "outputs": [],
   "source": [
    "\n",
    "features = [x for x in train_feature.columns if x not in ['ship','type','time','diff_time','date']]\n",
    "target = 'type'"
   ],
   "metadata": {
    "collapsed": false,
    "pycharm": {
     "name": "#%%\n",
     "is_executing": false
    }
   }
  },
  {
   "cell_type": "code",
   "execution_count": 13,
   "outputs": [
    {
     "name": "stdout",
     "text": [
      "77 x,y,v,d,hour,weekday,x_max,x_min,x_mean,x_std,x_skew,x_sum,x_count,y_max,y_min,y_mean,y_std,y_skew,y_sum,v_max,v_min,v_mean,v_std,v_skew,v_sum,d_max,d_min,d_mean,d_std,d_skew,d_sum,x_max_x_min,y_max_y_min,y_max_x_min,x_max_y_min,slope,area,mode_hour,hour_max,hour_min,hour_nunique,date_nunique,diff_day,diff_second,level_1,fft_low_count,fft_low_mean,fft_low_std,fft_low_min,fft_low_25%,fft_low_50%,fft_low_75%,fft_low_max,fft_mid_l_count,fft_mid_l_mean,fft_mid_l_std,fft_mid_l_min,fft_mid_l_25%,fft_mid_l_50%,fft_mid_l_75%,fft_mid_l_max,fft_mid_h_count,fft_mid_h_mean,fft_mid_h_std,fft_mid_h_min,fft_mid_h_25%,fft_mid_h_50%,fft_mid_h_75%,fft_mid_h_max,fft_high_count,fft_high_mean,fft_high_std,fft_high_min,fft_high_25%,fft_high_50%,fft_high_75%,fft_high_max\n"
     ],
     "output_type": "stream"
    }
   ],
   "source": [
    "print(len(features), ','.join(features))"
   ],
   "metadata": {
    "collapsed": false,
    "pycharm": {
     "name": "#%%\n",
     "is_executing": false
    }
   }
  },
  {
   "cell_type": "code",
   "execution_count": 14,
   "outputs": [],
   "source": [
    "params = {\n",
    "    'n_estimators': 5000,\n",
    "    'boosting_type': 'gbdt',\n",
    "    'objective': 'multiclass',\n",
    "    'num_class': 3,\n",
    "    'early_stopping_rounds': 100,\n",
    "}"
   ],
   "metadata": {
    "collapsed": false,
    "pycharm": {
     "name": "#%%\n",
     "is_executing": false
    }
   }
  },
  {
   "cell_type": "code",
   "execution_count": 15,
   "outputs": [
    {
     "name": "stderr",
     "text": [
      "D:\\Anaconda\\lib\\site-packages\\lightgbm\\engine.py:148: UserWarning: Found `n_estimators` in params. Will use it instead of argument\n",
      "  warnings.warn(\"Found `{}` in params. Will use it instead of argument\".format(alias))\n",
      "D:\\Anaconda\\lib\\site-packages\\lightgbm\\engine.py:153: UserWarning: Found `early_stopping_rounds` in params. Will use it instead of argument\n",
      "  warnings.warn(\"Found `{}` in params. Will use it instead of argument\".format(alias))\n"
     ],
     "output_type": "stream"
    },
    {
     "name": "stdout",
     "text": [
      "Training until validation scores don't improve for 100 rounds\n",
      "[100]\ttraining's multi_logloss: 0.0678773\tvalid_1's multi_logloss: 0.270897\n",
      "[200]\ttraining's multi_logloss: 0.0147253\tvalid_1's multi_logloss: 0.265953\n",
      "Early stopping, best iteration is:\n",
      "[184]\ttraining's multi_logloss: 0.0186652\tvalid_1's multi_logloss: 0.263671\n",
      "0 val f1 0.8592384797821708\n",
      "Training until validation scores don't improve for 100 rounds\n",
      "[100]\ttraining's multi_logloss: 0.0704662\tvalid_1's multi_logloss: 0.259682\n",
      "[200]\ttraining's multi_logloss: 0.0156549\tvalid_1's multi_logloss: 0.248968\n",
      "Early stopping, best iteration is:\n",
      "[152]\ttraining's multi_logloss: 0.0316697\tvalid_1's multi_logloss: 0.248865\n",
      "1 val f1 0.8730196232423041\n",
      "Training until validation scores don't improve for 100 rounds\n",
      "[100]\ttraining's multi_logloss: 0.066213\tvalid_1's multi_logloss: 0.288389\n",
      "[200]\ttraining's multi_logloss: 0.0143198\tvalid_1's multi_logloss: 0.294368\n",
      "Early stopping, best iteration is:\n",
      "[116]\ttraining's multi_logloss: 0.0513512\tvalid_1's multi_logloss: 0.286905\n",
      "2 val f1 0.8638025867969263\n",
      "Training until validation scores don't improve for 100 rounds\n",
      "[100]\ttraining's multi_logloss: 0.0670248\tvalid_1's multi_logloss: 0.305837\n",
      "[200]\ttraining's multi_logloss: 0.0143404\tvalid_1's multi_logloss: 0.308729\n",
      "Early stopping, best iteration is:\n",
      "[145]\ttraining's multi_logloss: 0.0331107\tvalid_1's multi_logloss: 0.302299\n",
      "3 val f1 0.8473066195198942\n",
      "Training until validation scores don't improve for 100 rounds\n",
      "[100]\ttraining's multi_logloss: 0.0693773\tvalid_1's multi_logloss: 0.259625\n",
      "[200]\ttraining's multi_logloss: 0.0147499\tvalid_1's multi_logloss: 0.250899\n",
      "Early stopping, best iteration is:\n",
      "[158]\ttraining's multi_logloss: 0.0276751\tvalid_1's multi_logloss: 0.24848\n",
      "4 val f1 0.8630191981133435\n"
     ],
     "output_type": "stream"
    }
   ],
   "source": [
    "fold = StratifiedKFold(n_splits=5, shuffle=True, random_state=42)\n",
    "\n",
    "X = train_feature[features].copy()\n",
    "y = train_feature[target]\n",
    "models = []\n",
    "pred = np.zeros((len(test_label),3))\n",
    "oof = np.zeros((len(X), 3))\n",
    "for index, (train_idx, val_idx) in enumerate(fold.split(X, y)):\n",
    "\n",
    "    train_set = lgb.Dataset(X.iloc[train_idx], y.iloc[train_idx])\n",
    "    val_set = lgb.Dataset(X.iloc[val_idx], y.iloc[val_idx])\n",
    "\n",
    "    model = lgb.train(params, train_set, valid_sets=[train_set, val_set], verbose_eval=100)\n",
    "    models.append(model)\n",
    "    val_pred = model.predict(X.iloc[val_idx])\n",
    "    oof[val_idx] = val_pred\n",
    "    val_y = y.iloc[val_idx]\n",
    "    val_pred = np.argmax(val_pred, axis=1)\n",
    "    print(index, 'val f1', metrics.f1_score(val_y, val_pred, average='macro'))\n",
    "    # 0.8695539641133697\n",
    "    # 0.8866211724839532\n",
    "\n",
    "    test_pred = model.predict(test_label[features])\n",
    "    pred += test_pred/5"
   ],
   "metadata": {
    "collapsed": false,
    "pycharm": {
     "name": "#%%\n",
     "is_executing": false
    }
   }
  },
  {
   "cell_type": "code",
   "execution_count": 16,
   "outputs": [
    {
     "name": "stdout",
     "text": [
      "oof f1 0.8613184665614783\n"
     ],
     "output_type": "stream"
    }
   ],
   "source": [
    "oof = np.argmax(oof, axis=1)\n",
    "print('oof f1', metrics.f1_score(oof, y, average='macro'))\n",
    "# 0.8658824154822908"
   ],
   "metadata": {
    "collapsed": false,
    "pycharm": {
     "name": "#%%\n",
     "is_executing": false
    }
   }
  },
  {
   "cell_type": "code",
   "execution_count": 17,
   "outputs": [
    {
     "name": "stderr",
     "text": [
      "D:\\Anaconda\\lib\\site-packages\\ipykernel_launcher.py:4: SettingWithCopyWarning: \n",
      "A value is trying to be set on a copy of a slice from a DataFrame.\n",
      "Try using .loc[row_indexer,col_indexer] = value instead\n",
      "\n",
      "See the caveats in the documentation: http://pandas.pydata.org/pandas-docs/stable/indexing.html#indexing-view-versus-copy\n",
      "  after removing the cwd from sys.path.\n",
      "D:\\Anaconda\\lib\\site-packages\\ipykernel_launcher.py:7: SettingWithCopyWarning: \n",
      "A value is trying to be set on a copy of a slice from a DataFrame.\n",
      "Try using .loc[row_indexer,col_indexer] = value instead\n",
      "\n",
      "See the caveats in the documentation: http://pandas.pydata.org/pandas-docs/stable/indexing.html#indexing-view-versus-copy\n",
      "  import sys\n"
     ],
     "output_type": "stream"
    },
    {
     "name": "stdout",
     "text": [
      "0    0.6375\n",
      "1    0.2355\n",
      "2    0.1270\n",
      "Name: pred, dtype: float64\n"
     ],
     "output_type": "stream"
    }
   ],
   "source": [
    "pred = np.argmax(pred, axis=1)\n",
    "sub = test_label[['ship']]\n",
    "sub['pred'] = pred\n",
    "\n",
    "print(sub['pred'].value_counts(1))\n",
    "sub['pred'] = sub['pred'].map(type_map_rev)\n",
    "sub.to_csv('result.csv', index=None, header=None)"
   ],
   "metadata": {
    "collapsed": false,
    "pycharm": {
     "name": "#%%\n",
     "is_executing": false
    }
   }
  },
  {
   "cell_type": "code",
   "execution_count": 18,
   "outputs": [],
   "source": [
    "ret = []\n",
    "for index, model in enumerate(models):\n",
    "    df = pd.DataFrame()\n",
    "    df['name'] = model.feature_name()\n",
    "    df['score'] = model.feature_importance()\n",
    "    df['fold'] = index\n",
    "    ret.append(df)\n",
    "    \n",
    "df = pd.concat(ret)"
   ],
   "metadata": {
    "collapsed": false,
    "pycharm": {
     "name": "#%%\n",
     "is_executing": false
    }
   }
  },
  {
   "cell_type": "code",
   "execution_count": 19,
   "outputs": [],
   "source": [
    "df = df.groupby('name', as_index=False)['score'].mean()\n",
    "df = df.sort_values(['score'], ascending=False)"
   ],
   "metadata": {
    "collapsed": false,
    "pycharm": {
     "name": "#%%\n",
     "is_executing": false
    }
   }
  },
  {
   "cell_type": "code",
   "execution_count": 20,
   "outputs": [
    {
     "data": {
      "text/plain": "               name  score\n69            y_max  602.4\n70      y_max_x_min  583.0\n64            x_min  505.0\n62      x_max_y_min  490.6\n68                y  437.8\n58                x  426.6\n73            y_min  371.8\n60            x_max  350.6\n65           x_skew  340.2\n74           y_skew  323.4\n72           y_mean  315.8\n49            slope  294.4\n63           x_mean  293.4\n54           v_skew  290.8\n3            d_mean  278.4\n6             d_std  246.6\n66            x_std  238.4\n21      fft_low_75%  233.2\n50                v  232.2\n10      diff_second  228.4\n52           v_mean  227.8\n51            v_max  221.6\n33    fft_mid_h_min  212.6\n20      fft_low_50%  211.0\n15     fft_high_max  205.2\n75            y_std  198.6\n26      fft_low_std  195.6\n67            x_sum  195.4\n61      x_max_x_min  194.4\n7             d_sum  189.4\n..              ...    ...\n39    fft_mid_l_max  124.0\n37    fft_mid_l_75%  123.4\n35    fft_mid_l_25%  123.2\n24     fft_low_mean  121.4\n48        mode_hour  118.0\n2             d_max  113.0\n12     fft_high_50%  107.6\n31    fft_mid_h_max  106.0\n36    fft_mid_l_50%   95.0\n28    fft_mid_h_50%   94.2\n29    fft_mid_h_75%   92.4\n16    fft_high_mean   89.2\n13     fft_high_75%   84.0\n32   fft_mid_h_mean   80.0\n40   fft_mid_l_mean   64.8\n53            v_min   45.6\n14   fft_high_count   31.4\n23      fft_low_max   19.0\n8      date_nunique   17.8\n57          weekday   14.0\n4             d_min   12.8\n43             hour   12.6\n30  fft_mid_h_count   11.4\n22    fft_low_count    9.0\n9          diff_day    7.2\n38  fft_mid_l_count    1.4\n46     hour_nunique    1.0\n44         hour_max    0.0\n45         hour_min    0.0\n47          level_1    0.0\n\n[77 rows x 2 columns]",
      "text/html": "<div>\n<style scoped>\n    .dataframe tbody tr th:only-of-type {\n        vertical-align: middle;\n    }\n\n    .dataframe tbody tr th {\n        vertical-align: top;\n    }\n\n    .dataframe thead th {\n        text-align: right;\n    }\n</style>\n<table border=\"1\" class=\"dataframe\">\n  <thead>\n    <tr style=\"text-align: right;\">\n      <th></th>\n      <th>name</th>\n      <th>score</th>\n    </tr>\n  </thead>\n  <tbody>\n    <tr>\n      <th>69</th>\n      <td>y_max</td>\n      <td>602.4</td>\n    </tr>\n    <tr>\n      <th>70</th>\n      <td>y_max_x_min</td>\n      <td>583.0</td>\n    </tr>\n    <tr>\n      <th>64</th>\n      <td>x_min</td>\n      <td>505.0</td>\n    </tr>\n    <tr>\n      <th>62</th>\n      <td>x_max_y_min</td>\n      <td>490.6</td>\n    </tr>\n    <tr>\n      <th>68</th>\n      <td>y</td>\n      <td>437.8</td>\n    </tr>\n    <tr>\n      <th>58</th>\n      <td>x</td>\n      <td>426.6</td>\n    </tr>\n    <tr>\n      <th>73</th>\n      <td>y_min</td>\n      <td>371.8</td>\n    </tr>\n    <tr>\n      <th>60</th>\n      <td>x_max</td>\n      <td>350.6</td>\n    </tr>\n    <tr>\n      <th>65</th>\n      <td>x_skew</td>\n      <td>340.2</td>\n    </tr>\n    <tr>\n      <th>74</th>\n      <td>y_skew</td>\n      <td>323.4</td>\n    </tr>\n    <tr>\n      <th>72</th>\n      <td>y_mean</td>\n      <td>315.8</td>\n    </tr>\n    <tr>\n      <th>49</th>\n      <td>slope</td>\n      <td>294.4</td>\n    </tr>\n    <tr>\n      <th>63</th>\n      <td>x_mean</td>\n      <td>293.4</td>\n    </tr>\n    <tr>\n      <th>54</th>\n      <td>v_skew</td>\n      <td>290.8</td>\n    </tr>\n    <tr>\n      <th>3</th>\n      <td>d_mean</td>\n      <td>278.4</td>\n    </tr>\n    <tr>\n      <th>6</th>\n      <td>d_std</td>\n      <td>246.6</td>\n    </tr>\n    <tr>\n      <th>66</th>\n      <td>x_std</td>\n      <td>238.4</td>\n    </tr>\n    <tr>\n      <th>21</th>\n      <td>fft_low_75%</td>\n      <td>233.2</td>\n    </tr>\n    <tr>\n      <th>50</th>\n      <td>v</td>\n      <td>232.2</td>\n    </tr>\n    <tr>\n      <th>10</th>\n      <td>diff_second</td>\n      <td>228.4</td>\n    </tr>\n    <tr>\n      <th>52</th>\n      <td>v_mean</td>\n      <td>227.8</td>\n    </tr>\n    <tr>\n      <th>51</th>\n      <td>v_max</td>\n      <td>221.6</td>\n    </tr>\n    <tr>\n      <th>33</th>\n      <td>fft_mid_h_min</td>\n      <td>212.6</td>\n    </tr>\n    <tr>\n      <th>20</th>\n      <td>fft_low_50%</td>\n      <td>211.0</td>\n    </tr>\n    <tr>\n      <th>15</th>\n      <td>fft_high_max</td>\n      <td>205.2</td>\n    </tr>\n    <tr>\n      <th>75</th>\n      <td>y_std</td>\n      <td>198.6</td>\n    </tr>\n    <tr>\n      <th>26</th>\n      <td>fft_low_std</td>\n      <td>195.6</td>\n    </tr>\n    <tr>\n      <th>67</th>\n      <td>x_sum</td>\n      <td>195.4</td>\n    </tr>\n    <tr>\n      <th>61</th>\n      <td>x_max_x_min</td>\n      <td>194.4</td>\n    </tr>\n    <tr>\n      <th>7</th>\n      <td>d_sum</td>\n      <td>189.4</td>\n    </tr>\n    <tr>\n      <th>...</th>\n      <td>...</td>\n      <td>...</td>\n    </tr>\n    <tr>\n      <th>39</th>\n      <td>fft_mid_l_max</td>\n      <td>124.0</td>\n    </tr>\n    <tr>\n      <th>37</th>\n      <td>fft_mid_l_75%</td>\n      <td>123.4</td>\n    </tr>\n    <tr>\n      <th>35</th>\n      <td>fft_mid_l_25%</td>\n      <td>123.2</td>\n    </tr>\n    <tr>\n      <th>24</th>\n      <td>fft_low_mean</td>\n      <td>121.4</td>\n    </tr>\n    <tr>\n      <th>48</th>\n      <td>mode_hour</td>\n      <td>118.0</td>\n    </tr>\n    <tr>\n      <th>2</th>\n      <td>d_max</td>\n      <td>113.0</td>\n    </tr>\n    <tr>\n      <th>12</th>\n      <td>fft_high_50%</td>\n      <td>107.6</td>\n    </tr>\n    <tr>\n      <th>31</th>\n      <td>fft_mid_h_max</td>\n      <td>106.0</td>\n    </tr>\n    <tr>\n      <th>36</th>\n      <td>fft_mid_l_50%</td>\n      <td>95.0</td>\n    </tr>\n    <tr>\n      <th>28</th>\n      <td>fft_mid_h_50%</td>\n      <td>94.2</td>\n    </tr>\n    <tr>\n      <th>29</th>\n      <td>fft_mid_h_75%</td>\n      <td>92.4</td>\n    </tr>\n    <tr>\n      <th>16</th>\n      <td>fft_high_mean</td>\n      <td>89.2</td>\n    </tr>\n    <tr>\n      <th>13</th>\n      <td>fft_high_75%</td>\n      <td>84.0</td>\n    </tr>\n    <tr>\n      <th>32</th>\n      <td>fft_mid_h_mean</td>\n      <td>80.0</td>\n    </tr>\n    <tr>\n      <th>40</th>\n      <td>fft_mid_l_mean</td>\n      <td>64.8</td>\n    </tr>\n    <tr>\n      <th>53</th>\n      <td>v_min</td>\n      <td>45.6</td>\n    </tr>\n    <tr>\n      <th>14</th>\n      <td>fft_high_count</td>\n      <td>31.4</td>\n    </tr>\n    <tr>\n      <th>23</th>\n      <td>fft_low_max</td>\n      <td>19.0</td>\n    </tr>\n    <tr>\n      <th>8</th>\n      <td>date_nunique</td>\n      <td>17.8</td>\n    </tr>\n    <tr>\n      <th>57</th>\n      <td>weekday</td>\n      <td>14.0</td>\n    </tr>\n    <tr>\n      <th>4</th>\n      <td>d_min</td>\n      <td>12.8</td>\n    </tr>\n    <tr>\n      <th>43</th>\n      <td>hour</td>\n      <td>12.6</td>\n    </tr>\n    <tr>\n      <th>30</th>\n      <td>fft_mid_h_count</td>\n      <td>11.4</td>\n    </tr>\n    <tr>\n      <th>22</th>\n      <td>fft_low_count</td>\n      <td>9.0</td>\n    </tr>\n    <tr>\n      <th>9</th>\n      <td>diff_day</td>\n      <td>7.2</td>\n    </tr>\n    <tr>\n      <th>38</th>\n      <td>fft_mid_l_count</td>\n      <td>1.4</td>\n    </tr>\n    <tr>\n      <th>46</th>\n      <td>hour_nunique</td>\n      <td>1.0</td>\n    </tr>\n    <tr>\n      <th>44</th>\n      <td>hour_max</td>\n      <td>0.0</td>\n    </tr>\n    <tr>\n      <th>45</th>\n      <td>hour_min</td>\n      <td>0.0</td>\n    </tr>\n    <tr>\n      <th>47</th>\n      <td>level_1</td>\n      <td>0.0</td>\n    </tr>\n  </tbody>\n</table>\n<p>77 rows × 2 columns</p>\n</div>"
     },
     "metadata": {},
     "output_type": "execute_result",
     "execution_count": 20
    }
   ],
   "source": [
    "df\n",
    "\n",
    "\n"
   ],
   "metadata": {
    "collapsed": false,
    "pycharm": {
     "name": "#%%\n",
     "is_executing": false
    }
   }
  }
 ],
 "metadata": {
  "kernelspec": {
   "display_name": "Python 3",
   "language": "python",
   "name": "python3"
  },
  "language_info": {
   "codemirror_mode": {
    "name": "ipython",
    "version": 2
   },
   "file_extension": ".py",
   "mimetype": "text/x-python",
   "name": "python",
   "nbconvert_exporter": "python",
   "pygments_lexer": "ipython2",
   "version": "2.7.6"
  },
  "pycharm": {
   "stem_cell": {
    "cell_type": "raw",
    "source": [],
    "metadata": {
     "collapsed": false
    }
   }
  }
 },
 "nbformat": 4,
 "nbformat_minor": 0
}