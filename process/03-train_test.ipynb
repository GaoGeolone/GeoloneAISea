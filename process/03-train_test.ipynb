{
 "cells": [
  {
   "cell_type": "code",
   "execution_count": 1,
   "metadata": {
    "pycharm": {
     "is_executing": false,
     "name": "#%%\n"
    }
   },
   "outputs": [],
   "source": [
    "%matplotlib inline\n",
    "\n",
    "import pandas as pd\n",
    "import numpy as np\n",
    "import sys\n",
    "import os\n",
    "from tqdm import tqdm\n",
    "import lightgbm as lgb\n",
    "from sklearn.model_selection import StratifiedKFold\n",
    "from sklearn import metrics\n",
    "import warnings\n",
    "import matplotlib.pyplot as plt\n",
    "\n",
    "pd.set_option('display.max_columns', 10)\n",
    "# warnings.filterwarnings('ignore')\n",
    "def group_feature(df, key, target, aggs):   \n",
    "    agg_dict = {}\n",
    "    for ag in aggs:\n",
    "        agg_dict[f'{target}_{ag}'] = ag\n",
    "    print(agg_dict)\n",
    "    t = df.groupby(key)[target].agg(agg_dict).reset_index()\n",
    "    return t\n",
    "\n",
    "def extract_feature(df, train_feature):\n",
    "    t = group_feature(df, 'ship','x',['max','min','mean','std','skew','sum'])\n",
    "    train_feature = pd.merge(train_feature, t, on='ship', how='left')\n",
    "    t = group_feature(df, 'ship','x',['count'])\n",
    "    train_feature = pd.merge(train_feature, t, on='ship', how='left')\n",
    "    t = group_feature(df, 'ship','y',['max','min','mean','std','skew','sum'])\n",
    "    train_feature = pd.merge(train_feature, t, on='ship', how='left')\n",
    "    t = group_feature(df, 'ship','v',['max','min','mean','std','skew','sum'])\n",
    "    train_feature = pd.merge(train_feature, t, on='ship', how='left')\n",
    "    t = group_feature(df, 'ship','d',['max','min','mean','std','skew','sum'])\n",
    "    train_feature = pd.merge(train_feature, t, on='ship', how='left')\n",
    "    train_feature['x_max_x_min'] = train_feature['x_max'] - train_feature['x_min']\n",
    "    train_feature['y_max_y_min'] = train_feature['y_max'] - train_feature['y_min']\n",
    "    train_feature['y_max_x_min'] = train_feature['y_max'] - train_feature['x_min']\n",
    "    train_feature['x_max_y_min'] = train_feature['x_max'] - train_feature['y_min']\n",
    "    train_feature['slope'] = train_feature['y_max_y_min'] / np.where(train_feature['x_max_x_min']==0, 0.001, train_feature['x_max_x_min'])\n",
    "    train_feature['area'] = train_feature['x_max_x_min'] * train_feature['y_max_y_min']\n",
    "    \n",
    "    mode_hour = df.groupby('ship')['hour'].agg(lambda x:x.value_counts().index[0]).to_dict()\n",
    "    train_feature['mode_hour'] = train_feature['ship'].map(mode_hour)\n",
    "    \n",
    "    t = group_feature(df, 'ship','hour',['max','min'])\n",
    "    train_feature = pd.merge(train_feature, t, on='ship', how='left')\n",
    "    \n",
    "    hour_nunique = df.groupby('ship')['hour'].nunique().to_dict()\n",
    "    date_nunique = df.groupby('ship')['date'].nunique().to_dict()\n",
    "    train_feature['hour_nunique'] = train_feature['ship'].map(hour_nunique)\n",
    "    train_feature['date_nunique'] = train_feature['ship'].map(date_nunique)\n",
    "\n",
    "    t = df.groupby('ship')['time'].agg({'diff_time':lambda x:np.max(x)-np.min(x)}).reset_index()\n",
    "    t['diff_day'] = t['diff_time'].dt.days\n",
    "    t['diff_second'] = t['diff_time'].dt.seconds\n",
    "    train_feature = pd.merge(train_feature, t, on='ship', how='left')\n",
    "    return train_feature\n",
    "\n",
    "#this func try to sparse the TIme data\n",
    "def extract_dt(df):\n",
    "    df['time'] = pd.to_datetime(df['time'], format='%m%d %H:%M:%S')\n",
    "    # df['month'] = df['time'].dt.month\n",
    "    # df['day'] = df['time'].dt.day\n",
    "    df['date'] = df['time'].dt.date\n",
    "    df['hour'] = df['time'].dt.hour\n",
    "    # df = df.drop_duplicates(['ship','month'])\n",
    "    df['weekday'] = df['time'].dt.weekday\n",
    "    return df"
   ]
  },
  {
   "cell_type": "code",
   "execution_count": 2,
   "metadata": {
    "pycharm": {
     "is_executing": false,
     "name": "#%%\n"
    }
   },
   "outputs": [],
   "source": [
    "#add FFT\n",
    "def fft_v(groupbied):\n",
    "    nSampleNum = len(groupbied)\n",
    "    sampleTime = groupbied['diff_time'].mean()\n",
    "    ncount = (nSampleNum-1)*sampleTime\n",
    "    delta_f = nSampleNum / ncount\n",
    "    x = np.linspace(0,sampleTime,ncount)#时域波形x轴坐标\n",
    "    freqLine = nSampleNum\n",
    "    v = groupbied['v'].values#np.sin(2*pi*250*x)\n",
    "    fft = abs(np.fft.fft(v))[0:freqLine]  #调用fft变换算法计算频域波形\n",
    "    fftx = np.linspace(0,delta_f*freqLine,freqLine)  #频域波形x轴坐标\n",
    "    fft_low = pd.DataFrame(fft[fftx<freqLine*0.25]).describe().T.add_prefix('fft_low_')\n",
    "    fft_mid_l = pd.DataFrame(fft[(fftx>=freqLine*0.25) & (fftx<freqLine*0.5)]).describe().T.add_prefix('fft_mid_l_')\n",
    "    fft_mid_h = pd.DataFrame(fft[(fftx>=freqLine*0.5) & (fftx<freqLine*0.75)]).describe().T.add_prefix('fft_mid_h_')\n",
    "    fft_high = pd.DataFrame(fft[fftx>=freqLine*0.75]).describe().T.add_prefix('fft_high_')\n",
    "    FFT_=pd.concat([fft_low, fft_mid_l, fft_mid_h, fft_high], axis=1)\n",
    "    return FFT_"
   ]
  },
  {
   "cell_type": "code",
   "execution_count": 3,
   "metadata": {
    "pycharm": {
     "is_executing": false,
     "name": "#%%\n"
    }
   },
   "outputs": [],
   "source": [
    "def feature_version2(df,feature_label):\n",
    "    df_order=df.groupby('ship').apply(lambda x: x.sort_values('time',ascending=True))\n",
    "    df_order.reset_index(level=0,drop=True,inplace=True)# save the inner index number step#1\n",
    "    df_order.index.name ='inner_rev_index'# save the inner index number step#2\n",
    "    df_order.reset_index(drop=False,inplace=True)#add 0-N index\n",
    "    df_order['inner_ord_index']=df_order.groupby('ship')['inner_rev_index'].rank(ascending=False)#use the former subIndex to Mark the t0-tN\n",
    "    df_order['diff_time']=pd.DataFrame(df_order.groupby('ship').apply(lambda x:x['time'].diff()/np.timedelta64(1, 'h'))).reset_index()['time']\n",
    "    df_order['diff_dist']=pd.DataFrame(df_order.groupby('ship').apply(lambda x:np.sqrt(x['x'].diff()**2+x['y'].diff()**2))).reset_index()[0]\n",
    "    df_order['est_v']=pd.DataFrame(df_order.groupby('ship').apply(lambda x:x['diff_dist']/x['diff_time'])).reset_index()[0]\n",
    "    df_order['est_diff_dist']=pd.DataFrame(df_order.groupby('ship').apply(lambda x:x['v']*x['diff_time']*1852)).reset_index()[0]\n",
    "    v_feature=pd.DataFrame(df_order.groupby('ship').apply(fft_v)).reset_index(level=0,drop=False)#edited\n",
    "    feature_label = pd.merge(feature_label, v_feature, on='ship', how='left')\n",
    "    temp=pd.DataFrame(df_order[df_order['inner_ord_index']==1][['ship','x','y']]).reset_index(drop=True).rename(columns={'x':'start_x', 'y':'start_y'}, inplace = False)\n",
    "    feature_label = pd.merge(feature_label, temp, on='ship', how='left')\n",
    "    temp=pd.DataFrame(df_order[df_order['inner_rev_index']==0][['ship','x','y']]).reset_index(drop=True).rename(columns={'x':'end_x', 'y':'end_y'}, inplace = False)\n",
    "    feature_label = pd.merge(feature_label, temp, on='ship', how='left')\n",
    "    temp=pd.DataFrame(df_order.groupby('ship')['diff_dist'].agg({'dist':sum})).reset_index()\n",
    "    feature_label = pd.merge(feature_label, temp, on='ship', how='left')\n",
    "    return feature_label"
   ]
  },
  {
   "cell_type": "code",
   "execution_count": 4,
   "metadata": {
    "pycharm": {
     "is_executing": false,
     "name": "#%%\n"
    }
   },
   "outputs": [],
   "source": [
    "train = pd.read_hdf('../input/train.h5')\n",
    "test = pd.read_hdf('../input/test.h5')"
   ]
  },
  {
   "cell_type": "code",
   "execution_count": 5,
   "metadata": {
    "pycharm": {
     "is_executing": false,
     "name": "#%%\n"
    }
   },
   "outputs": [],
   "source": [
    "#transform the ori data to col=[ship x y v d time type date hour weekday]\n",
    "train = extract_dt(train)\n",
    "test = extract_dt(test)"
   ]
  },
  {
   "cell_type": "code",
   "execution_count": 6,
   "metadata": {
    "pycharm": {
     "is_executing": false,
     "name": "#%%\n"
    }
   },
   "outputs": [],
   "source": [
    "#drop out and only leave the default 1st time data like the beginning time and position\n",
    "train_label = train.drop_duplicates('ship')\n",
    "test_label = test.drop_duplicates('ship')"
   ]
  },
  {
   "cell_type": "code",
   "execution_count": 7,
   "metadata": {
    "pycharm": {
     "is_executing": false,
     "name": "#%%\n"
    }
   },
   "outputs": [
    {
     "name": "stderr",
     "output_type": "stream",
     "text": [
      "D:\\Anaconda\\lib\\site-packages\\ipykernel_launcher.py:11: SettingWithCopyWarning: \n",
      "A value is trying to be set on a copy of a slice from a DataFrame.\n",
      "Try using .loc[row_indexer,col_indexer] = value instead\n",
      "\n",
      "See the caveats in the documentation: http://pandas.pydata.org/pandas-docs/stable/indexing.html#indexing-view-versus-copy\n",
      "  # This is added back by InteractiveShellApp.init_path()\n"
     ]
    }
   ],
   "source": [
    "#zip realize the one to one map from the former list to the latter list\n",
    "#dict make the map as a dictionary\n",
    "type_map = dict(zip(train_label['type'].unique(), np.arange(3)))\n",
    "# rev means a reversed map relation\n",
    "# type_map_rev = {v:k for k,v in type_map.items()} \n",
    "# train_label['type'] = train_label['type'].map(type_map)\n",
    "#the data of type was now described by numbers as 0,1,2 \n",
    "type_map={'拖网': 0, '围网': 1, '刺网': 2}\n",
    "type_map_rev={0: '拖网', 1: '围网', 2: '刺网'}\n",
    "train_label['type'] = train_label['type'].map(type_map)"
   ]
  },
  {
   "cell_type": "code",
   "execution_count": null,
   "metadata": {
    "pycharm": {
     "is_executing": true,
     "name": "#%%\n"
    }
   },
   "outputs": [
    {
     "name": "stdout",
     "output_type": "stream",
     "text": [
      "{'x_max': 'max', 'x_min': 'min', 'x_mean': 'mean', 'x_std': 'std', 'x_skew': 'skew', 'x_sum': 'sum'}\n",
      "{'x_count': 'count'}\n",
      "{'y_max': 'max', 'y_min': 'min', 'y_mean': 'mean', 'y_std': 'std', 'y_skew': 'skew', 'y_sum': 'sum'}\n",
      "{'v_max': 'max', 'v_min': 'min', 'v_mean': 'mean', 'v_std': 'std', 'v_skew': 'skew', 'v_sum': 'sum'}\n",
      "{'d_max': 'max', 'd_min': 'min', 'd_mean': 'mean', 'd_std': 'std', 'd_skew': 'skew', 'd_sum': 'sum'}\n",
      "{'hour_max': 'max', 'hour_min': 'min'}\n"
     ]
    },
    {
     "name": "stderr",
     "output_type": "stream",
     "text": [
      "D:\\Anaconda\\lib\\site-packages\\ipykernel_launcher.py:22: FutureWarning: using a dict on a Series for aggregation\n",
      "is deprecated and will be removed in a future version\n",
      "D:\\Anaconda\\lib\\site-packages\\ipykernel_launcher.py:54: FutureWarning: using a dict on a Series for aggregation\n",
      "is deprecated and will be removed in a future version\n",
      "D:\\Anaconda\\lib\\site-packages\\ipykernel_launcher.py:8: DeprecationWarning: object of type <class 'float'> cannot be safely interpreted as an integer.\n",
      "  \n",
      "D:\\Anaconda\\lib\\site-packages\\ipykernel_launcher.py:18: FutureWarning: using a dict on a Series for aggregation\n",
      "is deprecated and will be removed in a future version\n"
     ]
    }
   ],
   "source": [
    "train_feature = extract_feature(train, train_label)\n",
    "train_feature = feature_version2(train, train_feature)"
   ]
  },
  {
   "cell_type": "code",
   "execution_count": null,
   "metadata": {
    "pycharm": {
     "is_executing": true,
     "name": "#%%\n"
    }
   },
   "outputs": [],
   "source": [
    "# train_feature = pd.merge(train_feature, v_feature, on='ship', how='left')"
   ]
  },
  {
   "cell_type": "code",
   "execution_count": null,
   "metadata": {
    "pycharm": {
     "is_executing": true,
     "name": "#%%\n"
    }
   },
   "outputs": [],
   "source": []
  },
  {
   "cell_type": "code",
   "execution_count": null,
   "metadata": {
    "pycharm": {
     "is_executing": true,
     "name": "#%%\n"
    }
   },
   "outputs": [
    {
     "name": "stdout",
     "output_type": "stream",
     "text": [
      "{'x_max': 'max', 'x_min': 'min', 'x_mean': 'mean', 'x_std': 'std', 'x_skew': 'skew', 'x_sum': 'sum'}\n",
      "{'x_count': 'count'}\n",
      "{'y_max': 'max', 'y_min': 'min', 'y_mean': 'mean', 'y_std': 'std', 'y_skew': 'skew', 'y_sum': 'sum'}\n",
      "{'v_max': 'max', 'v_min': 'min', 'v_mean': 'mean', 'v_std': 'std', 'v_skew': 'skew', 'v_sum': 'sum'}\n",
      "{'d_max': 'max', 'd_min': 'min', 'd_mean': 'mean', 'd_std': 'std', 'd_skew': 'skew', 'd_sum': 'sum'}\n",
      "{'hour_max': 'max', 'hour_min': 'min'}\n"
     ]
    },
    {
     "name": "stderr",
     "output_type": "stream",
     "text": [
      "D:\\Anaconda\\lib\\site-packages\\ipykernel_launcher.py:22: FutureWarning: using a dict on a Series for aggregation\n",
      "is deprecated and will be removed in a future version\n",
      "D:\\Anaconda\\lib\\site-packages\\ipykernel_launcher.py:54: FutureWarning: using a dict on a Series for aggregation\n",
      "is deprecated and will be removed in a future version\n",
      "D:\\Anaconda\\lib\\site-packages\\ipykernel_launcher.py:8: DeprecationWarning: object of type <class 'float'> cannot be safely interpreted as an integer.\n",
      "  \n",
      "D:\\Anaconda\\lib\\site-packages\\ipykernel_launcher.py:18: FutureWarning: using a dict on a Series for aggregation\n",
      "is deprecated and will be removed in a future version\n"
     ]
    }
   ],
   "source": [
    "test_label = extract_feature(test, test_label)\n",
    "test_label = feature_version2(test, test_label)"
   ]
  },
  {
   "cell_type": "code",
   "execution_count": null,
   "metadata": {
    "pycharm": {
     "is_executing": true,
     "name": "#%%\n"
    }
   },
   "outputs": [],
   "source": [
    "features = [x for x in train_feature.columns if x not in ['ship','type','time','diff_time','date']]\n",
    "target = 'type'"
   ]
  },
  {
   "cell_type": "code",
   "execution_count": null,
   "metadata": {
    "pycharm": {
     "is_executing": true,
     "name": "#%%\n"
    }
   },
   "outputs": [
    {
     "name": "stdout",
     "output_type": "stream",
     "text": [
      "81 x,y,v,d,hour,weekday,x_max,x_min,x_mean,x_std,x_skew,x_sum,x_count,y_max,y_min,y_mean,y_std,y_skew,y_sum,v_max,v_min,v_mean,v_std,v_skew,v_sum,d_max,d_min,d_mean,d_std,d_skew,d_sum,x_max_x_min,y_max_y_min,y_max_x_min,x_max_y_min,slope,area,mode_hour,hour_max,hour_min,hour_nunique,date_nunique,diff_day,diff_second,fft_low_count,fft_low_mean,fft_low_std,fft_low_min,fft_low_25%,fft_low_50%,fft_low_75%,fft_low_max,fft_mid_l_count,fft_mid_l_mean,fft_mid_l_std,fft_mid_l_min,fft_mid_l_25%,fft_mid_l_50%,fft_mid_l_75%,fft_mid_l_max,fft_mid_h_count,fft_mid_h_mean,fft_mid_h_std,fft_mid_h_min,fft_mid_h_25%,fft_mid_h_50%,fft_mid_h_75%,fft_mid_h_max,fft_high_count,fft_high_mean,fft_high_std,fft_high_min,fft_high_25%,fft_high_50%,fft_high_75%,fft_high_max,start_x,start_y,end_x,end_y,dist\n"
     ]
    }
   ],
   "source": [
    "print(len(features), ','.join(features))"
   ]
  },
  {
   "cell_type": "code",
   "execution_count": null,
   "metadata": {
    "pycharm": {
     "is_executing": true,
     "name": "#%%\n"
    }
   },
   "outputs": [],
   "source": [
    "# params = {\n",
    "#     'num_leaves': 2 ** 10,\n",
    "#     'learning_rate': 0.005,\n",
    "#     'min_child_samples': 20,\n",
    "#     'boosting': 'gbdt',\n",
    "#     'objective': 'multiclass',\n",
    "#     'n_estimators': 20000,\n",
    "#     'metric': 'multi_logloss',\n",
    "#     'num_class': 3,\n",
    "#     'feature_fraction': .75,\n",
    "#     'bagging_fraction': .75,\n",
    "#     'seed': 99,\n",
    "#     'num_threads': 8,\n",
    "#     'verbose': -1\n",
    "#     }\n",
    "    # 'task': 'train',\n",
    "    # 'boosting_type': 'gbdt',  # 设置提升类型\n",
    "    # 'objective': 'regression', # 目标函数\n",
    "    # 'metric': {'l2', 'auc'},  # 评估函数\n",
    "    # 'num_leaves': 31,   # 叶子节点数\n",
    "    # 'learning_rate': 0.05,  # 学习速率\n",
    "    # 'feature_fraction': 0.9, # 建树的特征选择比例\n",
    "    # 'bagging_fraction': 0.8, # 建树的样本采样比例\n",
    "    # 'bagging_freq': 5,  # k 意味着每 k 次迭代执行bagging\n",
    "    # 'verbose': 1 # <0 显示致命的, =0 显示错误 (警告), >0 显示信息\n",
    "params = {\n",
    "    'n_estimators': 2**12,\n",
    "    'boosting_type': 'gbdt',\n",
    "    'objective': 'multiclass',\n",
    "    'num_class': 3,\n",
    "    'early_stopping_rounds': 100,\n",
    "    'max_depth': 10,\n",
    "    'lambda_l1': 0.1,\n",
    "    'lambda_l2': 10,\n",
    "    'num_leaves': 64,\n",
    "    'feature_fraction': .75,\n",
    "    'bagging_fraction': .75,\n",
    "}\n",
    "# params = {\n",
    "#     'n_estimators': 10000,\n",
    "#     'boosting_type': 'gbdt',\n",
    "#     'objective': 'multiclass',\n",
    "#     'num_class': 3,\n",
    "#     'early_stopping_rounds': 100,\n",
    "#     'max_depth' :6,\n",
    "# }"
   ]
  },
  {
   "cell_type": "code",
   "execution_count": null,
   "metadata": {
    "pycharm": {
     "is_executing": true,
     "name": "#%%\n"
    }
   },
   "outputs": [
    {
     "name": "stderr",
     "output_type": "stream",
     "text": [
      "D:\\Anaconda\\lib\\site-packages\\lightgbm\\engine.py:148: UserWarning: Found `n_estimators` in params. Will use it instead of argument\n",
      "  warnings.warn(\"Found `{}` in params. Will use it instead of argument\".format(alias))\n",
      "D:\\Anaconda\\lib\\site-packages\\lightgbm\\engine.py:153: UserWarning: Found `early_stopping_rounds` in params. Will use it instead of argument\n",
      "  warnings.warn(\"Found `{}` in params. Will use it instead of argument\".format(alias))\n"
     ]
    },
    {
     "name": "stdout",
     "output_type": "stream",
     "text": [
      "Training until validation scores don't improve for 100 rounds\n",
      "[100]\ttraining's multi_logloss: 0.0785057\tvalid_1's multi_logloss: 0.279152\n",
      "[200]\ttraining's multi_logloss: 0.027512\tvalid_1's multi_logloss: 0.26292\n",
      "Early stopping, best iteration is:\n",
      "[192]\ttraining's multi_logloss: 0.0294132\tvalid_1's multi_logloss: 0.262256\n",
      "0 val f1 0.8646521170113984\n",
      "Training until validation scores don't improve for 100 rounds\n",
      "[100]\ttraining's multi_logloss: 0.075009\tvalid_1's multi_logloss: 0.27747\n",
      "[200]\ttraining's multi_logloss: 0.0264667\tvalid_1's multi_logloss: 0.261079\n",
      "[300]\ttraining's multi_logloss: 0.0140539\tvalid_1's multi_logloss: 0.262585\n",
      "Early stopping, best iteration is:\n",
      "[260]\ttraining's multi_logloss: 0.0175014\tvalid_1's multi_logloss: 0.259477\n",
      "1 val f1 0.8664423394431041\n",
      "Training until validation scores don't improve for 100 rounds\n",
      "[100]\ttraining's multi_logloss: 0.0766282\tvalid_1's multi_logloss: 0.294729\n",
      "[200]\ttraining's multi_logloss: 0.0266584\tvalid_1's multi_logloss: 0.287267\n",
      "Early stopping, best iteration is:\n",
      "[164]\ttraining's multi_logloss: 0.0368302\tvalid_1's multi_logloss: 0.284819\n",
      "2 val f1 0.8553005332013517\n",
      "Training until validation scores don't improve for 100 rounds\n",
      "[100]\ttraining's multi_logloss: 0.0759777\tvalid_1's multi_logloss: 0.280007\n",
      "[200]\ttraining's multi_logloss: 0.0268312\tvalid_1's multi_logloss: 0.2706\n",
      "Early stopping, best iteration is:\n",
      "[171]\ttraining's multi_logloss: 0.0346187\tvalid_1's multi_logloss: 0.270079\n",
      "3 val f1 0.8698342092798331\n",
      "Training until validation scores don't improve for 100 rounds\n",
      "[100]\ttraining's multi_logloss: 0.0766583\tvalid_1's multi_logloss: 0.292613\n",
      "[200]\ttraining's multi_logloss: 0.0267157\tvalid_1's multi_logloss: 0.278373\n",
      "[300]\ttraining's multi_logloss: 0.0141033\tvalid_1's multi_logloss: 0.283363\n",
      "Early stopping, best iteration is:\n",
      "[224]\ttraining's multi_logloss: 0.0222043\tvalid_1's multi_logloss: 0.277948\n",
      "4 val f1 0.8513521075061661\n",
      "Training until validation scores don't improve for 100 rounds\n",
      "[100]\ttraining's multi_logloss: 0.0750119\tvalid_1's multi_logloss: 0.281898\n",
      "[200]\ttraining's multi_logloss: 0.0261328\tvalid_1's multi_logloss: 0.271535\n",
      "Early stopping, best iteration is:\n",
      "[172]\ttraining's multi_logloss: 0.0333019\tvalid_1's multi_logloss: 0.270584\n",
      "5 val f1 0.8369598098666685\n",
      "Training until validation scores don't improve for 100 rounds\n",
      "[100]\ttraining's multi_logloss: 0.0756726\tvalid_1's multi_logloss: 0.297841\n",
      "[200]\ttraining's multi_logloss: 0.0262788\tvalid_1's multi_logloss: 0.291583\n",
      "Early stopping, best iteration is:\n",
      "[154]\ttraining's multi_logloss: 0.0398921\tvalid_1's multi_logloss: 0.289019\n",
      "6 val f1 0.8446277395882528\n",
      "Training until validation scores don't improve for 100 rounds\n",
      "[100]\ttraining's multi_logloss: 0.0773657\tvalid_1's multi_logloss: 0.28839\n",
      "[200]\ttraining's multi_logloss: 0.0273901\tvalid_1's multi_logloss: 0.278395\n",
      "Early stopping, best iteration is:\n",
      "[180]\ttraining's multi_logloss: 0.0324751\tvalid_1's multi_logloss: 0.277902\n",
      "7 val f1 0.8472219264181439\n",
      "Training until validation scores don't improve for 100 rounds\n"
     ]
    }
   ],
   "source": [
    "fold = StratifiedKFold(n_splits=10, shuffle=True, random_state=74)\n",
    "\n",
    "X = train_feature[features].copy()\n",
    "y = train_feature[target]\n",
    "models = []\n",
    "pred = np.zeros((len(test_label),3))\n",
    "oof = np.zeros((len(X), 3))\n",
    "for index, (train_idx, val_idx) in enumerate(fold.split(X, y)):\n",
    "\n",
    "    train_set = lgb.Dataset(X.iloc[train_idx], y.iloc[train_idx])\n",
    "    val_set = lgb.Dataset(X.iloc[val_idx], y.iloc[val_idx])\n",
    "\n",
    "    model = lgb.train(params, train_set, valid_sets=[train_set, val_set], verbose_eval=100)\n",
    "    models.append(model)\n",
    "    val_pred = model.predict(X.iloc[val_idx])\n",
    "    oof[val_idx] = val_pred\n",
    "    val_y = y.iloc[val_idx]\n",
    "    val_pred = np.argmax(val_pred, axis=1)\n",
    "    print(index, 'val f1', metrics.f1_score(val_y, val_pred, average='macro'))\n",
    "    # 0.8695539641133697\n",
    "    # 0.8866211724839532\n",
    "\n",
    "    test_pred = model.predict(test_label[features])\n",
    "    pred += test_pred/10\n",
    "#???why not 10? pred += test_pred/10 #as fold=10"
   ]
  },
  {
   "cell_type": "code",
   "execution_count": null,
   "metadata": {
    "pycharm": {
     "is_executing": true,
     "name": "#%%\n"
    }
   },
   "outputs": [],
   "source": [
    "oof = np.argmax(oof, axis=1)\n",
    "print('oof f1', metrics.f1_score(oof, y, average='macro'))\n",
    "# 0.8658824154822908"
   ]
  },
  {
   "cell_type": "code",
   "execution_count": null,
   "metadata": {
    "pycharm": {
     "is_executing": true,
     "name": "#%%\n"
    }
   },
   "outputs": [],
   "source": [
    "#因为是找最大的，所以平均与否区别不大\n",
    "pred = np.argmax(pred, axis=1)\n",
    "sub = test_label[['ship']]\n",
    "sub['pred'] = pred\n",
    "\n",
    "print(sub['pred'].value_counts(1))\n",
    "sub['pred'] = sub['pred'].map(type_map_rev)\n",
    "sub.to_csv('result.csv', index=None, header=None)"
   ]
  },
  {
   "cell_type": "code",
   "execution_count": null,
   "metadata": {
    "pycharm": {
     "is_executing": true,
     "name": "#%%\n"
    }
   },
   "outputs": [],
   "source": [
    "ret = []\n",
    "for index, model in enumerate(models):\n",
    "    df = pd.DataFrame()\n",
    "    df['name'] = model.feature_name()\n",
    "    df['score'] = model.feature_importance()\n",
    "    df['fold'] = index\n",
    "    ret.append(df)\n",
    "    \n",
    "df = pd.concat(ret)"
   ]
  },
  {
   "cell_type": "code",
   "execution_count": null,
   "metadata": {
    "pycharm": {
     "is_executing": true,
     "name": "#%%\n"
    }
   },
   "outputs": [],
   "source": [
    "df = df.groupby('name', as_index=False)['score'].mean()\n",
    "df = df.sort_values(['score'], ascending=False)"
   ]
  },
  {
   "cell_type": "code",
   "execution_count": null,
   "metadata": {
    "pycharm": {
     "is_executing": true,
     "name": "#%%\n"
    }
   },
   "outputs": [],
   "source": [
    "df"
   ]
  },
  {
   "cell_type": "code",
   "execution_count": null,
   "metadata": {
    "pycharm": {
     "is_executing": true,
     "name": "#%%\n"
    }
   },
   "outputs": [],
   "source": [
    "#save the models\n",
    "for index, model in enumerate(models):\n",
    "    save_base_path='../model/'\n",
    "    name = str(index)\n",
    "    save_path = os.path.join(save_base_path, name + '.txt')\n",
    "    model.save_model(save_path)\n",
    "    \n",
    "print('model saved')"
   ]
  },
  {
   "cell_type": "code",
   "execution_count": null,
   "metadata": {
    "pycharm": {
     "is_executing": true,
     "name": "#%%\n"
    }
   },
   "outputs": [],
   "source": [
    "# model1 = lgb.train(params, train_set, valid_sets=[train_set, val_set], verbose_eval=100)\n",
    "# model1.load_model(save_path)\n",
    "# pred = np.zeros((len(test_label),3))\n",
    "# for index, model in enumerate(models):\n",
    "#     if index == 6:\n",
    "#         continue\n",
    "#     test_pred = model.predict(test_label[features])\n",
    "#     pred += test_pred/10\n",
    "# \n",
    "# pred = np.argmax(pred, axis=1)\n",
    "# sub = test_label[['ship']]\n",
    "# sub['pred'] = pred\n",
    "# \n",
    "# print(sub['pred'].value_counts(1))\n",
    "# sub['pred'] = sub['pred'].map(type_map_rev)\n",
    "# sub.to_csv('result.csv', index=None, header=None)"
   ]
  },
  {
   "cell_type": "code",
   "execution_count": null,
   "metadata": {
    "pycharm": {
     "is_executing": true,
     "name": "#%%\n"
    }
   },
   "outputs": [],
   "source": [
    "len(models)"
   ]
  }
 ],
 "metadata": {
  "kernelspec": {
   "display_name": "Python 3",
   "language": "python",
   "name": "python3"
  },
  "language_info": {
   "codemirror_mode": {
    "name": "ipython",
    "version": 3
   },
   "file_extension": ".py",
   "mimetype": "text/x-python",
   "name": "python",
   "nbconvert_exporter": "python",
   "pygments_lexer": "ipython3",
   "version": "3.7.1"
  },
  "pycharm": {
   "stem_cell": {
    "cell_type": "raw",
    "metadata": {
     "collapsed": false
    },
    "source": []
   }
  }
 },
 "nbformat": 4,
 "nbformat_minor": 1
}
