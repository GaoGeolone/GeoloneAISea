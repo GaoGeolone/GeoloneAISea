{
 "cells": [
  {
   "cell_type": "code",
   "execution_count": 1,
   "outputs": [],
   "source": [
    "%matplotlib inline\n",
    "\n",
    "import pandas as pd\n",
    "import numpy as np\n",
    "import sys\n",
    "import os\n",
    "from tqdm import tqdm\n",
    "import lightgbm as lgb\n",
    "from sklearn.model_selection import StratifiedKFold\n",
    "from sklearn import metrics\n",
    "import warnings\n",
    "import matplotlib.pyplot as plt\n",
    "\n",
    "pd.set_option('display.max_columns', 10)\n",
    "# warnings.filterwarnings('ignore')\n",
    "def group_feature(df, key, target, aggs):   \n",
    "    agg_dict = {}\n",
    "    for ag in aggs:\n",
    "        agg_dict[f'{target}_{ag}'] = ag\n",
    "    print(agg_dict)\n",
    "    t = df.groupby(key)[target].agg(agg_dict).reset_index()\n",
    "    return t\n",
    "\n",
    "def extract_feature(df, train_feature):\n",
    "    t = group_feature(df, 'ship','x',['max','min','mean','std','skew','sum'])\n",
    "    train_feature = pd.merge(train_feature, t, on='ship', how='left')\n",
    "    t = group_feature(df, 'ship','x',['count'])\n",
    "    train_feature = pd.merge(train_feature, t, on='ship', how='left')\n",
    "    t = group_feature(df, 'ship','y',['max','min','mean','std','skew','sum'])\n",
    "    train_feature = pd.merge(train_feature, t, on='ship', how='left')\n",
    "    t = group_feature(df, 'ship','v',['max','min','mean','std','skew','sum'])\n",
    "    train_feature = pd.merge(train_feature, t, on='ship', how='left')\n",
    "    t = group_feature(df, 'ship','d',['max','min','mean','std','skew','sum'])\n",
    "    train_feature = pd.merge(train_feature, t, on='ship', how='left')\n",
    "    train_feature['x_max_x_min'] = train_feature['x_max'] - train_feature['x_min']\n",
    "    train_feature['y_max_y_min'] = train_feature['y_max'] - train_feature['y_min']\n",
    "    train_feature['y_max_x_min'] = train_feature['y_max'] - train_feature['x_min']\n",
    "    train_feature['x_max_y_min'] = train_feature['x_max'] - train_feature['y_min']\n",
    "    train_feature['slope'] = train_feature['y_max_y_min'] / np.where(train_feature['x_max_x_min']==0, 0.001, train_feature['x_max_x_min'])\n",
    "    train_feature['area'] = train_feature['x_max_x_min'] * train_feature['y_max_y_min']\n",
    "    \n",
    "    mode_hour = df.groupby('ship')['hour'].agg(lambda x:x.value_counts().index[0]).to_dict()\n",
    "    train_feature['mode_hour'] = train_feature['ship'].map(mode_hour)\n",
    "    \n",
    "    t = group_feature(df, 'ship','hour',['max','min'])\n",
    "    train_feature = pd.merge(train_feature, t, on='ship', how='left')\n",
    "    \n",
    "    hour_nunique = df.groupby('ship')['hour'].nunique().to_dict()\n",
    "    date_nunique = df.groupby('ship')['date'].nunique().to_dict()\n",
    "    train_feature['hour_nunique'] = train_feature['ship'].map(hour_nunique)\n",
    "    train_feature['date_nunique'] = train_feature['ship'].map(date_nunique)\n",
    "\n",
    "    t = df.groupby('ship')['time'].agg({'diff_time':lambda x:np.max(x)-np.min(x)}).reset_index()\n",
    "    t['diff_day'] = t['diff_time'].dt.days\n",
    "    t['diff_second'] = t['diff_time'].dt.seconds\n",
    "    train_feature = pd.merge(train_feature, t, on='ship', how='left')\n",
    "    return train_feature\n",
    "\n",
    "#this func try to sparse the TIme data\n",
    "def extract_dt(df):\n",
    "    df['time'] = pd.to_datetime(df['time'], format='%m%d %H:%M:%S')\n",
    "    # df['month'] = df['time'].dt.month\n",
    "    # df['day'] = df['time'].dt.day\n",
    "    df['date'] = df['time'].dt.date\n",
    "    df['hour'] = df['time'].dt.hour\n",
    "    # df = df.drop_duplicates(['ship','month'])\n",
    "    df['weekday'] = df['time'].dt.weekday\n",
    "    return df"
   ],
   "metadata": {
    "collapsed": false,
    "pycharm": {
     "name": "#%%\n",
     "is_executing": false
    }
   }
  },
  {
   "cell_type": "code",
   "execution_count": 2,
   "outputs": [],
   "source": [
    "#add FFT\n",
    "def fft_v(groupbied):\n",
    "    nSampleNum = len(groupbied)\n",
    "    sampleTime = groupbied['diff_time'].mean()\n",
    "    ncount = (nSampleNum-1)*sampleTime\n",
    "    delta_f = nSampleNum / ncount\n",
    "    x = np.linspace(0,sampleTime,ncount)#时域波形x轴坐标\n",
    "    freqLine = nSampleNum\n",
    "    v = groupbied['v'].values#np.sin(2*pi*250*x)\n",
    "    fft = abs(np.fft.fft(v))[0:freqLine]  #调用fft变换算法计算频域波形\n",
    "    fftx = np.linspace(0,delta_f*freqLine,freqLine)  #频域波形x轴坐标\n",
    "    fft_low = pd.DataFrame(fft[fftx<freqLine*0.25]).describe().T.add_prefix('fft_low_')\n",
    "    fft_mid_l = pd.DataFrame(fft[(fftx>=freqLine*0.25) & (fftx<freqLine*0.5)]).describe().T.add_prefix('fft_mid_l_')\n",
    "    fft_mid_h = pd.DataFrame(fft[(fftx>=freqLine*0.5) & (fftx<freqLine*0.75)]).describe().T.add_prefix('fft_mid_h_')\n",
    "    fft_high = pd.DataFrame(fft[fftx>=freqLine*0.75]).describe().T.add_prefix('fft_high_')\n",
    "    FFT_=pd.concat([fft_low, fft_mid_l, fft_mid_h, fft_high], axis=1)\n",
    "    return FFT_"
   ],
   "metadata": {
    "collapsed": false,
    "pycharm": {
     "name": "#%%\n",
     "is_executing": false
    }
   }
  },
  {
   "cell_type": "code",
   "execution_count": 3,
   "outputs": [],
   "source": [
    "def feature_version2(df,feature_label):\n",
    "    df_order=df.groupby('ship').apply(lambda x: x.sort_values('time',ascending=True))\n",
    "    df_order.reset_index(level=0,drop=True,inplace=True)# save the inner index number step#1\n",
    "    df_order.index.name ='inner_rev_index'# save the inner index number step#2\n",
    "    df_order.reset_index(drop=False,inplace=True)#add 0-N index\n",
    "    df_order['inner_ord_index']=df.index#use the former subIndex to Mark the t0-tN\n",
    "    df_order['diff_time']=pd.DataFrame(df_order.groupby('ship').apply(lambda x:x['time'].diff()/np.timedelta64(1, 'h'))).reset_index()['time']\n",
    "    df_order['diff_dist']=pd.DataFrame(df_order.groupby('ship').apply(lambda x:np.sqrt(x['x'].diff()**2+x['y'].diff()**2))).reset_index()[0]\n",
    "    df_order['est_v']=pd.DataFrame(df_order.groupby('ship').apply(lambda x:x['diff_dist']/x['diff_time'])).reset_index()[0]\n",
    "    df_order['est_diff_dist']=pd.DataFrame(df_order.groupby('ship').apply(lambda x:x['v']*x['diff_time']*1852)).reset_index()[0]\n",
    "    v_feature=pd.DataFrame(df_order.groupby('ship').apply(fft_v)).reset_index()\n",
    "    feature_label = pd.merge(feature_label, v_feature, on='ship', how='left')\n",
    "    temp=pd.DataFrame(df_order[df_order['inner_ord_index']==0][['ship','x','y']]).reset_index(drop=True).rename(columns={'x':'start_x', 'y':'start_y'}, inplace = False)\n",
    "    feature_label = pd.merge(feature_label, temp, on='ship', how='left')\n",
    "    temp=pd.DataFrame(df_order[df_order['inner_rev_index']==0][['ship','x','y']]).reset_index(drop=True).rename(columns={'x':'end_x', 'y':'end_y'}, inplace = False)\n",
    "    feature_label = pd.merge(feature_label, temp, on='ship', how='left')\n",
    "    return feature_label"
   ],
   "metadata": {
    "collapsed": false,
    "pycharm": {
     "name": "#%%\n",
     "is_executing": false
    }
   }
  },
  {
   "cell_type": "code",
   "execution_count": 4,
   "outputs": [],
   "source": [
    "train = pd.read_hdf('../input/train.h5')\n",
    "test = pd.read_hdf('../input/test.h5')"
   ],
   "metadata": {
    "collapsed": false,
    "pycharm": {
     "name": "#%%\n",
     "is_executing": false
    }
   }
  },
  {
   "cell_type": "code",
   "execution_count": 5,
   "outputs": [],
   "source": [
    "#transform the ori data to col=[ship x y v d time type date hour weekday]\n",
    "train = extract_dt(train)\n",
    "test = extract_dt(test)"
   ],
   "metadata": {
    "collapsed": false,
    "pycharm": {
     "name": "#%%\n",
     "is_executing": false
    }
   }
  },
  {
   "cell_type": "code",
   "execution_count": 6,
   "outputs": [],
   "source": [
    "#drop out and only leave the default 1st time data like the beginning time and position\n",
    "train_label = train.drop_duplicates('ship')\n",
    "test_label = test.drop_duplicates('ship')"
   ],
   "metadata": {
    "collapsed": false,
    "pycharm": {
     "name": "#%%\n",
     "is_executing": false
    }
   }
  },
  {
   "cell_type": "code",
   "execution_count": 7,
   "outputs": [
    {
     "name": "stderr",
     "text": [
      "D:\\Anaconda\\lib\\site-packages\\ipykernel_launcher.py:7: SettingWithCopyWarning: \n",
      "A value is trying to be set on a copy of a slice from a DataFrame.\n",
      "Try using .loc[row_indexer,col_indexer] = value instead\n",
      "\n",
      "See the caveats in the documentation: http://pandas.pydata.org/pandas-docs/stable/indexing.html#indexing-view-versus-copy\n",
      "  import sys\n"
     ],
     "output_type": "stream"
    }
   ],
   "source": [
    "#zip realize the one to one map from the former list to the latter list\n",
    "#dict make the map as a dictionary\n",
    "type_map = dict(zip(train_label['type'].unique(), np.arange(3)))\n",
    "# rev means a reversed map relation\n",
    "type_map_rev = {v:k for k,v in type_map.items()} \n",
    "train_label['type'] = train_label['type'].map(type_map)\n",
    "#the data of type was now described by numbers as 0,1,2 "
   ],
   "metadata": {
    "collapsed": false,
    "pycharm": {
     "name": "#%%\n",
     "is_executing": false
    }
   }
  },
  {
   "cell_type": "code",
   "execution_count": 8,
   "outputs": [
    {
     "name": "stdout",
     "text": [
      "{'x_max': 'max', 'x_min': 'min', 'x_mean': 'mean', 'x_std': 'std', 'x_skew': 'skew', 'x_sum': 'sum'}\n",
      "{'x_count': 'count'}\n",
      "{'y_max': 'max', 'y_min': 'min', 'y_mean': 'mean', 'y_std': 'std', 'y_skew': 'skew', 'y_sum': 'sum'}\n",
      "{'v_max': 'max', 'v_min': 'min', 'v_mean': 'mean', 'v_std': 'std', 'v_skew': 'skew', 'v_sum': 'sum'}\n",
      "{'d_max': 'max', 'd_min': 'min', 'd_mean': 'mean', 'd_std': 'std', 'd_skew': 'skew', 'd_sum': 'sum'}\n",
      "{'hour_max': 'max', 'hour_min': 'min'}\n"
     ],
     "output_type": "stream"
    },
    {
     "name": "stderr",
     "text": [
      "D:\\Anaconda\\lib\\site-packages\\ipykernel_launcher.py:22: FutureWarning: using a dict on a Series for aggregation\n",
      "is deprecated and will be removed in a future version\n",
      "D:\\Anaconda\\lib\\site-packages\\ipykernel_launcher.py:54: FutureWarning: using a dict on a Series for aggregation\n",
      "is deprecated and will be removed in a future version\n",
      "D:\\Anaconda\\lib\\site-packages\\ipykernel_launcher.py:8: DeprecationWarning: object of type <class 'float'> cannot be safely interpreted as an integer.\n",
      "  \n"
     ],
     "output_type": "stream"
    }
   ],
   "source": [
    "train_feature = extract_feature(train, train_label)\n",
    "train_feature = feature_version2(train, train_feature)"
   ],
   "metadata": {
    "collapsed": false,
    "pycharm": {
     "name": "#%%\n",
     "is_executing": false
    }
   }
  },
  {
   "cell_type": "code",
   "execution_count": 9,
   "outputs": [],
   "source": [
    "# train_feature = pd.merge(train_feature, v_feature, on='ship', how='left')"
   ],
   "metadata": {
    "collapsed": false,
    "pycharm": {
     "name": "#%%\n",
     "is_executing": false
    }
   }
  },
  {
   "cell_type": "code",
   "execution_count": 9,
   "outputs": [],
   "source": [],
   "metadata": {
    "collapsed": false,
    "pycharm": {
     "name": "#%%\n",
     "is_executing": false
    }
   }
  },
  {
   "cell_type": "code",
   "execution_count": 10,
   "outputs": [
    {
     "name": "stdout",
     "text": [
      "{'x_max': 'max', 'x_min': 'min', 'x_mean': 'mean', 'x_std': 'std', 'x_skew': 'skew', 'x_sum': 'sum'}\n",
      "{'x_count': 'count'}\n",
      "{'y_max': 'max', 'y_min': 'min', 'y_mean': 'mean', 'y_std': 'std', 'y_skew': 'skew', 'y_sum': 'sum'}\n",
      "{'v_max': 'max', 'v_min': 'min', 'v_mean': 'mean', 'v_std': 'std', 'v_skew': 'skew', 'v_sum': 'sum'}\n",
      "{'d_max': 'max', 'd_min': 'min', 'd_mean': 'mean', 'd_std': 'std', 'd_skew': 'skew', 'd_sum': 'sum'}\n",
      "{'hour_max': 'max', 'hour_min': 'min'}\n"
     ],
     "output_type": "stream"
    },
    {
     "name": "stderr",
     "text": [
      "D:\\Anaconda\\lib\\site-packages\\ipykernel_launcher.py:22: FutureWarning: using a dict on a Series for aggregation\n",
      "is deprecated and will be removed in a future version\n",
      "D:\\Anaconda\\lib\\site-packages\\ipykernel_launcher.py:54: FutureWarning: using a dict on a Series for aggregation\n",
      "is deprecated and will be removed in a future version\n",
      "D:\\Anaconda\\lib\\site-packages\\ipykernel_launcher.py:8: DeprecationWarning: object of type <class 'float'> cannot be safely interpreted as an integer.\n",
      "  \n"
     ],
     "output_type": "stream"
    }
   ],
   "source": [
    "test_label = extract_feature(test, test_label)\n",
    "test_label = feature_version2(test, test_label)"
   ],
   "metadata": {
    "collapsed": false,
    "pycharm": {
     "name": "#%%\n",
     "is_executing": false
    }
   }
  },
  {
   "cell_type": "code",
   "execution_count": 11,
   "outputs": [],
   "source": [
    "features = [x for x in train_feature.columns if x not in ['ship','type','time','diff_time','date']]\n",
    "target = 'type'"
   ],
   "metadata": {
    "collapsed": false,
    "pycharm": {
     "name": "#%%\n",
     "is_executing": false
    }
   }
  },
  {
   "cell_type": "code",
   "execution_count": 12,
   "outputs": [
    {
     "name": "stdout",
     "text": [
      "81 x,y,v,d,hour,weekday,x_max,x_min,x_mean,x_std,x_skew,x_sum,x_count,y_max,y_min,y_mean,y_std,y_skew,y_sum,v_max,v_min,v_mean,v_std,v_skew,v_sum,d_max,d_min,d_mean,d_std,d_skew,d_sum,x_max_x_min,y_max_y_min,y_max_x_min,x_max_y_min,slope,area,mode_hour,hour_max,hour_min,hour_nunique,date_nunique,diff_day,diff_second,level_1,fft_low_count,fft_low_mean,fft_low_std,fft_low_min,fft_low_25%,fft_low_50%,fft_low_75%,fft_low_max,fft_mid_l_count,fft_mid_l_mean,fft_mid_l_std,fft_mid_l_min,fft_mid_l_25%,fft_mid_l_50%,fft_mid_l_75%,fft_mid_l_max,fft_mid_h_count,fft_mid_h_mean,fft_mid_h_std,fft_mid_h_min,fft_mid_h_25%,fft_mid_h_50%,fft_mid_h_75%,fft_mid_h_max,fft_high_count,fft_high_mean,fft_high_std,fft_high_min,fft_high_25%,fft_high_50%,fft_high_75%,fft_high_max,start_x,start_y,end_x,end_y\n"
     ],
     "output_type": "stream"
    }
   ],
   "source": [
    "print(len(features), ','.join(features))"
   ],
   "metadata": {
    "collapsed": false,
    "pycharm": {
     "name": "#%%\n",
     "is_executing": false
    }
   }
  },
  {
   "cell_type": "code",
   "execution_count": 13,
   "outputs": [],
   "source": [
    "# params = {\n",
    "#     'num_leaves': 2 ** 10,\n",
    "#     'learning_rate': 0.005,\n",
    "#     'min_child_samples': 20,\n",
    "#     'boosting': 'gbdt',\n",
    "#     'objective': 'multiclass',\n",
    "#     'n_estimators': 20000,\n",
    "#     'metric': 'multi_logloss',\n",
    "#     'num_class': 3,\n",
    "#     'feature_fraction': .75,\n",
    "#     'bagging_fraction': .75,\n",
    "#     'seed': 99,\n",
    "#     'num_threads': 8,\n",
    "#     'verbose': -1\n",
    "#     }\n",
    "    # 'task': 'train',\n",
    "    # 'boosting_type': 'gbdt',  # 设置提升类型\n",
    "    # 'objective': 'regression', # 目标函数\n",
    "    # 'metric': {'l2', 'auc'},  # 评估函数\n",
    "    # 'num_leaves': 31,   # 叶子节点数\n",
    "    # 'learning_rate': 0.05,  # 学习速率\n",
    "    # 'feature_fraction': 0.9, # 建树的特征选择比例\n",
    "    # 'bagging_fraction': 0.8, # 建树的样本采样比例\n",
    "    # 'bagging_freq': 5,  # k 意味着每 k 次迭代执行bagging\n",
    "    # 'verbose': 1 # <0 显示致命的, =0 显示错误 (警告), >0 显示信息\n",
    "params = {\n",
    "    'n_estimators': 10000,\n",
    "    'boosting_type': 'gbdt',\n",
    "    'objective': 'multiclass',\n",
    "    'num_class': 3,\n",
    "    'early_stopping_rounds': 100,\n",
    "    'max_depth' :6,\n",
    "}"
   ],
   "metadata": {
    "collapsed": false,
    "pycharm": {
     "name": "#%%\n",
     "is_executing": false
    }
   }
  },
  {
   "cell_type": "code",
   "execution_count": 14,
   "outputs": [
    {
     "name": "stderr",
     "text": [
      "D:\\Anaconda\\lib\\site-packages\\lightgbm\\engine.py:148: UserWarning: Found `n_estimators` in params. Will use it instead of argument\n",
      "  warnings.warn(\"Found `{}` in params. Will use it instead of argument\".format(alias))\n",
      "D:\\Anaconda\\lib\\site-packages\\lightgbm\\engine.py:153: UserWarning: Found `early_stopping_rounds` in params. Will use it instead of argument\n",
      "  warnings.warn(\"Found `{}` in params. Will use it instead of argument\".format(alias))\n"
     ],
     "output_type": "stream"
    },
    {
     "name": "stdout",
     "text": [
      "Training until validation scores don't improve for 100 rounds\n",
      "[100]\ttraining's multi_logloss: 0.117686\tvalid_1's multi_logloss: 0.271121\n",
      "[200]\ttraining's multi_logloss: 0.0429526\tvalid_1's multi_logloss: 0.243207\n",
      "[300]\ttraining's multi_logloss: 0.0159634\tvalid_1's multi_logloss: 0.235626\n",
      "Early stopping, best iteration is:\n",
      "[292]\ttraining's multi_logloss: 0.0172047\tvalid_1's multi_logloss: 0.23512\n",
      "0 val f1 0.8786136712749615\n",
      "Training until validation scores don't improve for 100 rounds\n",
      "[100]\ttraining's multi_logloss: 0.117447\tvalid_1's multi_logloss: 0.280425\n",
      "[200]\ttraining's multi_logloss: 0.0404496\tvalid_1's multi_logloss: 0.259385\n",
      "Early stopping, best iteration is:\n",
      "[196]\ttraining's multi_logloss: 0.0420834\tvalid_1's multi_logloss: 0.258366\n",
      "1 val f1 0.8736138230941345\n",
      "Training until validation scores don't improve for 100 rounds\n",
      "[100]\ttraining's multi_logloss: 0.114715\tvalid_1's multi_logloss: 0.268105\n",
      "[200]\ttraining's multi_logloss: 0.0398631\tvalid_1's multi_logloss: 0.236732\n",
      "[300]\ttraining's multi_logloss: 0.0146613\tvalid_1's multi_logloss: 0.239118\n",
      "Early stopping, best iteration is:\n",
      "[233]\ttraining's multi_logloss: 0.029019\tvalid_1's multi_logloss: 0.23382\n",
      "2 val f1 0.8872798025962001\n",
      "Training until validation scores don't improve for 100 rounds\n",
      "[100]\ttraining's multi_logloss: 0.117549\tvalid_1's multi_logloss: 0.268121\n",
      "[200]\ttraining's multi_logloss: 0.0396048\tvalid_1's multi_logloss: 0.240269\n",
      "[300]\ttraining's multi_logloss: 0.0142923\tvalid_1's multi_logloss: 0.239568\n",
      "Early stopping, best iteration is:\n",
      "[284]\ttraining's multi_logloss: 0.0167207\tvalid_1's multi_logloss: 0.237929\n",
      "3 val f1 0.879171868670627\n",
      "Training until validation scores don't improve for 100 rounds\n",
      "[100]\ttraining's multi_logloss: 0.11531\tvalid_1's multi_logloss: 0.264572\n",
      "[200]\ttraining's multi_logloss: 0.0411343\tvalid_1's multi_logloss: 0.236187\n",
      "[300]\ttraining's multi_logloss: 0.0146409\tvalid_1's multi_logloss: 0.228746\n",
      "Early stopping, best iteration is:\n",
      "[287]\ttraining's multi_logloss: 0.0168085\tvalid_1's multi_logloss: 0.227287\n",
      "4 val f1 0.8762302632216379\n",
      "Training until validation scores don't improve for 100 rounds\n",
      "[100]\ttraining's multi_logloss: 0.118523\tvalid_1's multi_logloss: 0.26498\n",
      "[200]\ttraining's multi_logloss: 0.042975\tvalid_1's multi_logloss: 0.24717\n",
      "[300]\ttraining's multi_logloss: 0.0163321\tvalid_1's multi_logloss: 0.24854\n",
      "Early stopping, best iteration is:\n",
      "[218]\ttraining's multi_logloss: 0.036212\tvalid_1's multi_logloss: 0.244443\n",
      "5 val f1 0.8872525176597801\n",
      "Training until validation scores don't improve for 100 rounds\n",
      "[100]\ttraining's multi_logloss: 0.111608\tvalid_1's multi_logloss: 0.30027\n",
      "[200]\ttraining's multi_logloss: 0.0381264\tvalid_1's multi_logloss: 0.290852\n",
      "Early stopping, best iteration is:\n",
      "[187]\ttraining's multi_logloss: 0.0438172\tvalid_1's multi_logloss: 0.288597\n",
      "6 val f1 0.8513504091145206\n",
      "Training until validation scores don't improve for 100 rounds\n",
      "[100]\ttraining's multi_logloss: 0.117979\tvalid_1's multi_logloss: 0.272789\n",
      "[200]\ttraining's multi_logloss: 0.042267\tvalid_1's multi_logloss: 0.237133\n",
      "[300]\ttraining's multi_logloss: 0.0154179\tvalid_1's multi_logloss: 0.226354\n",
      "[400]\ttraining's multi_logloss: 0.00586104\tvalid_1's multi_logloss: 0.231266\n",
      "Early stopping, best iteration is:\n",
      "[338]\ttraining's multi_logloss: 0.0107717\tvalid_1's multi_logloss: 0.225042\n",
      "7 val f1 0.8900204897361296\n",
      "Training until validation scores don't improve for 100 rounds\n",
      "[100]\ttraining's multi_logloss: 0.116889\tvalid_1's multi_logloss: 0.252349\n",
      "[200]\ttraining's multi_logloss: 0.0409285\tvalid_1's multi_logloss: 0.218037\n",
      "[300]\ttraining's multi_logloss: 0.0146256\tvalid_1's multi_logloss: 0.211131\n",
      "Early stopping, best iteration is:\n",
      "[293]\ttraining's multi_logloss: 0.0157429\tvalid_1's multi_logloss: 0.210777\n",
      "8 val f1 0.8962809956814729\n",
      "Training until validation scores don't improve for 100 rounds\n",
      "[100]\ttraining's multi_logloss: 0.120166\tvalid_1's multi_logloss: 0.241961\n",
      "[200]\ttraining's multi_logloss: 0.0427654\tvalid_1's multi_logloss: 0.198309\n",
      "[300]\ttraining's multi_logloss: 0.0153842\tvalid_1's multi_logloss: 0.186621\n",
      "[400]\ttraining's multi_logloss: 0.00576179\tvalid_1's multi_logloss: 0.187179\n",
      "Early stopping, best iteration is:\n",
      "[366]\ttraining's multi_logloss: 0.00787328\tvalid_1's multi_logloss: 0.18529\n",
      "9 val f1 0.9105778392663075\n"
     ],
     "output_type": "stream"
    }
   ],
   "source": [
    "fold = StratifiedKFold(n_splits=10, shuffle=True, random_state=74)\n",
    "\n",
    "X = train_feature[features].copy()\n",
    "y = train_feature[target]\n",
    "models = []\n",
    "pred = np.zeros((len(test_label),3))\n",
    "oof = np.zeros((len(X), 3))\n",
    "for index, (train_idx, val_idx) in enumerate(fold.split(X, y)):\n",
    "\n",
    "    train_set = lgb.Dataset(X.iloc[train_idx], y.iloc[train_idx])\n",
    "    val_set = lgb.Dataset(X.iloc[val_idx], y.iloc[val_idx])\n",
    "\n",
    "    model = lgb.train(params, train_set, valid_sets=[train_set, val_set], verbose_eval=100)\n",
    "    models.append(model)\n",
    "    val_pred = model.predict(X.iloc[val_idx])\n",
    "    oof[val_idx] = val_pred\n",
    "    val_y = y.iloc[val_idx]\n",
    "    val_pred = np.argmax(val_pred, axis=1)\n",
    "    print(index, 'val f1', metrics.f1_score(val_y, val_pred, average='macro'))\n",
    "    # 0.8695539641133697\n",
    "    # 0.8866211724839532\n",
    "\n",
    "    test_pred = model.predict(test_label[features])\n",
    "    pred += test_pred/10\n",
    "#???why not 10? pred += test_pred/10 #as fold=10"
   ],
   "metadata": {
    "collapsed": false,
    "pycharm": {
     "name": "#%%\n",
     "is_executing": false
    }
   }
  },
  {
   "cell_type": "code",
   "execution_count": 15,
   "outputs": [
    {
     "name": "stdout",
     "text": [
      "oof f1 0.8831374266937319\n"
     ],
     "output_type": "stream"
    }
   ],
   "source": [
    "oof = np.argmax(oof, axis=1)\n",
    "print('oof f1', metrics.f1_score(oof, y, average='macro'))\n",
    "# 0.8658824154822908"
   ],
   "metadata": {
    "collapsed": false,
    "pycharm": {
     "name": "#%%\n",
     "is_executing": false
    }
   }
  },
  {
   "cell_type": "code",
   "execution_count": 16,
   "outputs": [
    {
     "name": "stderr",
     "text": [
      "D:\\Anaconda\\lib\\site-packages\\ipykernel_launcher.py:5: SettingWithCopyWarning: \n",
      "A value is trying to be set on a copy of a slice from a DataFrame.\n",
      "Try using .loc[row_indexer,col_indexer] = value instead\n",
      "\n",
      "See the caveats in the documentation: http://pandas.pydata.org/pandas-docs/stable/indexing.html#indexing-view-versus-copy\n",
      "  \"\"\"\n",
      "D:\\Anaconda\\lib\\site-packages\\ipykernel_launcher.py:8: SettingWithCopyWarning: \n",
      "A value is trying to be set on a copy of a slice from a DataFrame.\n",
      "Try using .loc[row_indexer,col_indexer] = value instead\n",
      "\n",
      "See the caveats in the documentation: http://pandas.pydata.org/pandas-docs/stable/indexing.html#indexing-view-versus-copy\n",
      "  \n"
     ],
     "output_type": "stream"
    },
    {
     "name": "stdout",
     "text": [
      "0    0.6335\n",
      "1    0.2395\n",
      "2    0.1270\n",
      "Name: pred, dtype: float64\n"
     ],
     "output_type": "stream"
    }
   ],
   "source": [
    "#因为是找最大的，所以平均与否区别不大\n",
    "pred = np.argmax(pred, axis=1)\n",
    "sub = test_label[['ship']]\n",
    "sub['pred'] = pred\n",
    "\n",
    "print(sub['pred'].value_counts(1))\n",
    "sub['pred'] = sub['pred'].map(type_map_rev)\n",
    "sub.to_csv('result.csv', index=None, header=None)"
   ],
   "metadata": {
    "collapsed": false,
    "pycharm": {
     "name": "#%%\n",
     "is_executing": false
    }
   }
  },
  {
   "cell_type": "code",
   "execution_count": 17,
   "outputs": [],
   "source": [
    "ret = []\n",
    "for index, model in enumerate(models):\n",
    "    df = pd.DataFrame()\n",
    "    df['name'] = model.feature_name()\n",
    "    df['score'] = model.feature_importance()\n",
    "    df['fold'] = index\n",
    "    ret.append(df)\n",
    "    \n",
    "df = pd.concat(ret)"
   ],
   "metadata": {
    "collapsed": false,
    "pycharm": {
     "name": "#%%\n",
     "is_executing": false
    }
   }
  },
  {
   "cell_type": "code",
   "execution_count": 18,
   "outputs": [],
   "source": [
    "df = df.groupby('name', as_index=False)['score'].mean()\n",
    "df = df.sort_values(['score'], ascending=False)"
   ],
   "metadata": {
    "collapsed": false,
    "pycharm": {
     "name": "#%%\n",
     "is_executing": false
    }
   }
  },
  {
   "cell_type": "code",
   "execution_count": 19,
   "outputs": [
    {
     "data": {
      "text/plain": "               name  score\n74      y_max_x_min  938.6\n66      x_max_y_min  730.3\n68            x_min  689.9\n73            y_max  687.1\n52          start_x  638.0\n53          start_y  602.1\n72                y  580.2\n78           y_skew  566.3\n69           x_skew  529.7\n62                x  515.7\n77            y_min  496.4\n51            slope  488.4\n64            x_max  488.3\n6             d_std  483.4\n58           v_skew  472.3\n10      diff_second  458.7\n54                v  408.2\n70            x_std  392.2\n76           y_mean  371.9\n3            d_mean  369.0\n56           v_mean  357.6\n23      fft_low_75%  356.9\n55            v_max  355.6\n35    fft_mid_h_min  353.1\n5            d_skew  352.2\n67           x_mean  337.6\n7             d_sum  329.0\n27      fft_low_min  326.7\n22      fft_low_50%  318.9\n79            y_std  313.0\n..              ...    ...\n39    fft_mid_l_75%  206.0\n41    fft_mid_l_max  197.7\n2             d_max  196.4\n37    fft_mid_l_25%  192.9\n33    fft_mid_h_max  175.7\n38    fft_mid_l_50%  175.2\n14     fft_high_50%  166.2\n30    fft_mid_h_50%  156.0\n31    fft_mid_h_75%  149.4\n15     fft_high_75%  141.8\n34   fft_mid_h_mean  131.2\n18    fft_high_mean  125.0\n42   fft_mid_l_mean  103.1\n57            v_min   67.2\n16   fft_high_count   46.8\n61          weekday   34.7\n45             hour   29.0\n4             d_min   21.3\n32  fft_mid_h_count   15.7\n8      date_nunique   15.2\n25      fft_low_max   14.4\n24    fft_low_count    8.8\n40  fft_mid_l_count    4.7\n9          diff_day    4.5\n48     hour_nunique    2.3\n49          level_1    0.0\n12            end_y    0.0\n11            end_x    0.0\n47         hour_min    0.0\n46         hour_max    0.0\n\n[81 rows x 2 columns]",
      "text/html": "<div>\n<style scoped>\n    .dataframe tbody tr th:only-of-type {\n        vertical-align: middle;\n    }\n\n    .dataframe tbody tr th {\n        vertical-align: top;\n    }\n\n    .dataframe thead th {\n        text-align: right;\n    }\n</style>\n<table border=\"1\" class=\"dataframe\">\n  <thead>\n    <tr style=\"text-align: right;\">\n      <th></th>\n      <th>name</th>\n      <th>score</th>\n    </tr>\n  </thead>\n  <tbody>\n    <tr>\n      <th>74</th>\n      <td>y_max_x_min</td>\n      <td>938.6</td>\n    </tr>\n    <tr>\n      <th>66</th>\n      <td>x_max_y_min</td>\n      <td>730.3</td>\n    </tr>\n    <tr>\n      <th>68</th>\n      <td>x_min</td>\n      <td>689.9</td>\n    </tr>\n    <tr>\n      <th>73</th>\n      <td>y_max</td>\n      <td>687.1</td>\n    </tr>\n    <tr>\n      <th>52</th>\n      <td>start_x</td>\n      <td>638.0</td>\n    </tr>\n    <tr>\n      <th>53</th>\n      <td>start_y</td>\n      <td>602.1</td>\n    </tr>\n    <tr>\n      <th>72</th>\n      <td>y</td>\n      <td>580.2</td>\n    </tr>\n    <tr>\n      <th>78</th>\n      <td>y_skew</td>\n      <td>566.3</td>\n    </tr>\n    <tr>\n      <th>69</th>\n      <td>x_skew</td>\n      <td>529.7</td>\n    </tr>\n    <tr>\n      <th>62</th>\n      <td>x</td>\n      <td>515.7</td>\n    </tr>\n    <tr>\n      <th>77</th>\n      <td>y_min</td>\n      <td>496.4</td>\n    </tr>\n    <tr>\n      <th>51</th>\n      <td>slope</td>\n      <td>488.4</td>\n    </tr>\n    <tr>\n      <th>64</th>\n      <td>x_max</td>\n      <td>488.3</td>\n    </tr>\n    <tr>\n      <th>6</th>\n      <td>d_std</td>\n      <td>483.4</td>\n    </tr>\n    <tr>\n      <th>58</th>\n      <td>v_skew</td>\n      <td>472.3</td>\n    </tr>\n    <tr>\n      <th>10</th>\n      <td>diff_second</td>\n      <td>458.7</td>\n    </tr>\n    <tr>\n      <th>54</th>\n      <td>v</td>\n      <td>408.2</td>\n    </tr>\n    <tr>\n      <th>70</th>\n      <td>x_std</td>\n      <td>392.2</td>\n    </tr>\n    <tr>\n      <th>76</th>\n      <td>y_mean</td>\n      <td>371.9</td>\n    </tr>\n    <tr>\n      <th>3</th>\n      <td>d_mean</td>\n      <td>369.0</td>\n    </tr>\n    <tr>\n      <th>56</th>\n      <td>v_mean</td>\n      <td>357.6</td>\n    </tr>\n    <tr>\n      <th>23</th>\n      <td>fft_low_75%</td>\n      <td>356.9</td>\n    </tr>\n    <tr>\n      <th>55</th>\n      <td>v_max</td>\n      <td>355.6</td>\n    </tr>\n    <tr>\n      <th>35</th>\n      <td>fft_mid_h_min</td>\n      <td>353.1</td>\n    </tr>\n    <tr>\n      <th>5</th>\n      <td>d_skew</td>\n      <td>352.2</td>\n    </tr>\n    <tr>\n      <th>67</th>\n      <td>x_mean</td>\n      <td>337.6</td>\n    </tr>\n    <tr>\n      <th>7</th>\n      <td>d_sum</td>\n      <td>329.0</td>\n    </tr>\n    <tr>\n      <th>27</th>\n      <td>fft_low_min</td>\n      <td>326.7</td>\n    </tr>\n    <tr>\n      <th>22</th>\n      <td>fft_low_50%</td>\n      <td>318.9</td>\n    </tr>\n    <tr>\n      <th>79</th>\n      <td>y_std</td>\n      <td>313.0</td>\n    </tr>\n    <tr>\n      <th>...</th>\n      <td>...</td>\n      <td>...</td>\n    </tr>\n    <tr>\n      <th>39</th>\n      <td>fft_mid_l_75%</td>\n      <td>206.0</td>\n    </tr>\n    <tr>\n      <th>41</th>\n      <td>fft_mid_l_max</td>\n      <td>197.7</td>\n    </tr>\n    <tr>\n      <th>2</th>\n      <td>d_max</td>\n      <td>196.4</td>\n    </tr>\n    <tr>\n      <th>37</th>\n      <td>fft_mid_l_25%</td>\n      <td>192.9</td>\n    </tr>\n    <tr>\n      <th>33</th>\n      <td>fft_mid_h_max</td>\n      <td>175.7</td>\n    </tr>\n    <tr>\n      <th>38</th>\n      <td>fft_mid_l_50%</td>\n      <td>175.2</td>\n    </tr>\n    <tr>\n      <th>14</th>\n      <td>fft_high_50%</td>\n      <td>166.2</td>\n    </tr>\n    <tr>\n      <th>30</th>\n      <td>fft_mid_h_50%</td>\n      <td>156.0</td>\n    </tr>\n    <tr>\n      <th>31</th>\n      <td>fft_mid_h_75%</td>\n      <td>149.4</td>\n    </tr>\n    <tr>\n      <th>15</th>\n      <td>fft_high_75%</td>\n      <td>141.8</td>\n    </tr>\n    <tr>\n      <th>34</th>\n      <td>fft_mid_h_mean</td>\n      <td>131.2</td>\n    </tr>\n    <tr>\n      <th>18</th>\n      <td>fft_high_mean</td>\n      <td>125.0</td>\n    </tr>\n    <tr>\n      <th>42</th>\n      <td>fft_mid_l_mean</td>\n      <td>103.1</td>\n    </tr>\n    <tr>\n      <th>57</th>\n      <td>v_min</td>\n      <td>67.2</td>\n    </tr>\n    <tr>\n      <th>16</th>\n      <td>fft_high_count</td>\n      <td>46.8</td>\n    </tr>\n    <tr>\n      <th>61</th>\n      <td>weekday</td>\n      <td>34.7</td>\n    </tr>\n    <tr>\n      <th>45</th>\n      <td>hour</td>\n      <td>29.0</td>\n    </tr>\n    <tr>\n      <th>4</th>\n      <td>d_min</td>\n      <td>21.3</td>\n    </tr>\n    <tr>\n      <th>32</th>\n      <td>fft_mid_h_count</td>\n      <td>15.7</td>\n    </tr>\n    <tr>\n      <th>8</th>\n      <td>date_nunique</td>\n      <td>15.2</td>\n    </tr>\n    <tr>\n      <th>25</th>\n      <td>fft_low_max</td>\n      <td>14.4</td>\n    </tr>\n    <tr>\n      <th>24</th>\n      <td>fft_low_count</td>\n      <td>8.8</td>\n    </tr>\n    <tr>\n      <th>40</th>\n      <td>fft_mid_l_count</td>\n      <td>4.7</td>\n    </tr>\n    <tr>\n      <th>9</th>\n      <td>diff_day</td>\n      <td>4.5</td>\n    </tr>\n    <tr>\n      <th>48</th>\n      <td>hour_nunique</td>\n      <td>2.3</td>\n    </tr>\n    <tr>\n      <th>49</th>\n      <td>level_1</td>\n      <td>0.0</td>\n    </tr>\n    <tr>\n      <th>12</th>\n      <td>end_y</td>\n      <td>0.0</td>\n    </tr>\n    <tr>\n      <th>11</th>\n      <td>end_x</td>\n      <td>0.0</td>\n    </tr>\n    <tr>\n      <th>47</th>\n      <td>hour_min</td>\n      <td>0.0</td>\n    </tr>\n    <tr>\n      <th>46</th>\n      <td>hour_max</td>\n      <td>0.0</td>\n    </tr>\n  </tbody>\n</table>\n<p>81 rows × 2 columns</p>\n</div>"
     },
     "metadata": {},
     "output_type": "execute_result",
     "execution_count": 19
    }
   ],
   "source": [
    "df"
   ],
   "metadata": {
    "collapsed": false,
    "pycharm": {
     "name": "#%%\n",
     "is_executing": false
    }
   }
  },
  {
   "cell_type": "code",
   "execution_count": 20,
   "outputs": [
    {
     "name": "stdout",
     "text": [
      "model saved\n"
     ],
     "output_type": "stream"
    }
   ],
   "source": [
    "#save the models\n",
    "for index, model in enumerate(models):\n",
    "    save_base_path='../model/'\n",
    "    name = str(index)\n",
    "    save_path = os.path.join(save_base_path, name + '.txt')\n",
    "    model.save_model(save_path)\n",
    "    \n",
    "print('model saved')"
   ],
   "metadata": {
    "collapsed": false,
    "pycharm": {
     "name": "#%%\n",
     "is_executing": false
    }
   }
  },
  {
   "cell_type": "code",
   "execution_count": 21,
   "outputs": [
    {
     "name": "stderr",
     "text": [
      "D:\\Anaconda\\lib\\site-packages\\ipykernel_launcher.py:13: SettingWithCopyWarning: \n",
      "A value is trying to be set on a copy of a slice from a DataFrame.\n",
      "Try using .loc[row_indexer,col_indexer] = value instead\n",
      "\n",
      "See the caveats in the documentation: http://pandas.pydata.org/pandas-docs/stable/indexing.html#indexing-view-versus-copy\n",
      "  del sys.path[0]\n",
      "D:\\Anaconda\\lib\\site-packages\\ipykernel_launcher.py:16: SettingWithCopyWarning: \n",
      "A value is trying to be set on a copy of a slice from a DataFrame.\n",
      "Try using .loc[row_indexer,col_indexer] = value instead\n",
      "\n",
      "See the caveats in the documentation: http://pandas.pydata.org/pandas-docs/stable/indexing.html#indexing-view-versus-copy\n",
      "  app.launch_new_instance()\n"
     ],
     "output_type": "stream"
    },
    {
     "name": "stdout",
     "text": [
      "0    0.6330\n",
      "1    0.2405\n",
      "2    0.1265\n",
      "Name: pred, dtype: float64\n"
     ],
     "output_type": "stream"
    }
   ],
   "source": [
    "# model1 = lgb.train(params, train_set, valid_sets=[train_set, val_set], verbose_eval=100)\n",
    "# model1.load_model(save_path)\n",
    "# pred = np.zeros((len(test_label),3))\n",
    "# for index, model in enumerate(models):\n",
    "#     if index == 6:\n",
    "#         continue\n",
    "#     test_pred = model.predict(test_label[features])\n",
    "#     pred += test_pred/10\n",
    "# \n",
    "# pred = np.argmax(pred, axis=1)\n",
    "# sub = test_label[['ship']]\n",
    "# sub['pred'] = pred\n",
    "# \n",
    "# print(sub['pred'].value_counts(1))\n",
    "# sub['pred'] = sub['pred'].map(type_map_rev)\n",
    "# sub.to_csv('result.csv', index=None, header=None)"
   ],
   "metadata": {
    "collapsed": false,
    "pycharm": {
     "name": "#%%\n",
     "is_executing": false
    }
   }
  },
  {
   "cell_type": "code",
   "execution_count": 22,
   "outputs": [
    {
     "data": {
      "text/plain": "10"
     },
     "metadata": {},
     "output_type": "execute_result",
     "execution_count": 22
    }
   ],
   "source": [
    "len(models)"
   ],
   "metadata": {
    "collapsed": false,
    "pycharm": {
     "name": "#%%\n",
     "is_executing": false
    }
   }
  }
 ],
 "metadata": {
  "kernelspec": {
   "display_name": "Python 3",
   "language": "python",
   "name": "python3"
  },
  "language_info": {
   "codemirror_mode": {
    "name": "ipython",
    "version": 2
   },
   "file_extension": ".py",
   "mimetype": "text/x-python",
   "name": "python",
   "nbconvert_exporter": "python",
   "pygments_lexer": "ipython2",
   "version": "2.7.6"
  },
  "pycharm": {
   "stem_cell": {
    "cell_type": "raw",
    "source": [],
    "metadata": {
     "collapsed": false
    }
   }
  }
 },
 "nbformat": 4,
 "nbformat_minor": 0
}