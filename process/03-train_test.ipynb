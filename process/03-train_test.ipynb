{
 "cells": [
  {
   "cell_type": "code",
   "execution_count": null,
   "outputs": [],
   "source": [
    "%matplotlib inline\n",
    "\n",
    "import pandas as pd\n",
    "import numpy as np\n",
    "import sys\n",
    "import os\n",
    "from tqdm import tqdm\n",
    "import lightgbm as lgb\n",
    "from sklearn.model_selection import StratifiedKFold\n",
    "from sklearn import metrics\n",
    "import warnings\n",
    "import matplotlib.pyplot as plt\n",
    "\n",
    "pd.set_option('display.max_columns', 10)\n",
    "# warnings.filterwarnings('ignore')\n",
    "def group_feature(df, key, target, aggs):   \n",
    "    agg_dict = {}\n",
    "    for ag in aggs:\n",
    "        agg_dict[f'{target}_{ag}'] = ag\n",
    "    print(agg_dict)\n",
    "    t = df.groupby(key)[target].agg(agg_dict).reset_index()\n",
    "    return t\n",
    "\n",
    "def extract_feature(df, train_feature):\n",
    "    t = group_feature(df, 'ship','x',['max','min','mean','std','skew','sum'])\n",
    "    train_feature = pd.merge(train_feature, t, on='ship', how='left')\n",
    "    t = group_feature(df, 'ship','x',['count'])\n",
    "    train_feature = pd.merge(train_feature, t, on='ship', how='left')\n",
    "    t = group_feature(df, 'ship','y',['max','min','mean','std','skew','sum'])\n",
    "    train_feature = pd.merge(train_feature, t, on='ship', how='left')\n",
    "    t = group_feature(df, 'ship','v',['max','min','mean','std','skew','sum'])\n",
    "    train_feature = pd.merge(train_feature, t, on='ship', how='left')\n",
    "    t = group_feature(df, 'ship','d',['max','min','mean','std','skew','sum'])\n",
    "    train_feature = pd.merge(train_feature, t, on='ship', how='left')\n",
    "    train_feature['x_max_x_min'] = train_feature['x_max'] - train_feature['x_min']\n",
    "    train_feature['y_max_y_min'] = train_feature['y_max'] - train_feature['y_min']\n",
    "    train_feature['y_max_x_min'] = train_feature['y_max'] - train_feature['x_min']\n",
    "    train_feature['x_max_y_min'] = train_feature['x_max'] - train_feature['y_min']\n",
    "    train_feature['slope'] = train_feature['y_max_y_min'] / np.where(train_feature['x_max_x_min']==0, 0.001, train_feature['x_max_x_min'])\n",
    "    train_feature['area'] = train_feature['x_max_x_min'] * train_feature['y_max_y_min']\n",
    "    \n",
    "    mode_hour = df.groupby('ship')['hour'].agg(lambda x:x.value_counts().index[0]).to_dict()\n",
    "    train_feature['mode_hour'] = train_feature['ship'].map(mode_hour)\n",
    "    \n",
    "    t = group_feature(df, 'ship','hour',['max','min'])\n",
    "    train_feature = pd.merge(train_feature, t, on='ship', how='left')\n",
    "    \n",
    "    hour_nunique = df.groupby('ship')['hour'].nunique().to_dict()\n",
    "    date_nunique = df.groupby('ship')['date'].nunique().to_dict()\n",
    "    train_feature['hour_nunique'] = train_feature['ship'].map(hour_nunique)\n",
    "    train_feature['date_nunique'] = train_feature['ship'].map(date_nunique)\n",
    "\n",
    "    t = df.groupby('ship')['time'].agg({'diff_time':lambda x:np.max(x)-np.min(x)}).reset_index()\n",
    "    t['diff_day'] = t['diff_time'].dt.days\n",
    "    t['diff_second'] = t['diff_time'].dt.seconds\n",
    "    train_feature = pd.merge(train_feature, t, on='ship', how='left')\n",
    "    return train_feature\n",
    "\n",
    "#this func try to sparse the TIme data\n",
    "def extract_dt(df):\n",
    "    df['time'] = pd.to_datetime(df['time'], format='%m%d %H:%M:%S')\n",
    "    # df['month'] = df['time'].dt.month\n",
    "    # df['day'] = df['time'].dt.day\n",
    "    df['date'] = df['time'].dt.date\n",
    "    df['hour'] = df['time'].dt.hour\n",
    "    # df = df.drop_duplicates(['ship','month'])\n",
    "    df['weekday'] = df['time'].dt.weekday\n",
    "    return df"
   ],
   "metadata": {
    "collapsed": false,
    "pycharm": {
     "name": "#%%\n"
    }
   }
  },
  {
   "cell_type": "code",
   "execution_count": null,
   "outputs": [],
   "source": [
    "train = pd.read_hdf('../input/train.h5')\n",
    "test = pd.read_hdf('../input/test.h5')"
   ],
   "metadata": {
    "collapsed": false,
    "pycharm": {
     "name": "#%%\n"
    }
   }
  },
  {
   "cell_type": "code",
   "execution_count": null,
   "outputs": [],
   "source": [
    "#transform the ori data to col=[ship x y v d time type date hour weekday]\n",
    "train = extract_dt(train)\n",
    "test = extract_dt(test)"
   ],
   "metadata": {
    "collapsed": false,
    "pycharm": {
     "name": "#%%\n"
    }
   }
  },
  {
   "cell_type": "code",
   "execution_count": null,
   "outputs": [],
   "source": [
    "#drop out and only leave the default 1st time data like the beginning time and position\n",
    "train_label = train.drop_duplicates('ship')\n",
    "test_label = test.drop_duplicates('ship')"
   ],
   "metadata": {
    "collapsed": false,
    "pycharm": {
     "name": "#%%\n"
    }
   }
  },
  {
   "cell_type": "code",
   "execution_count": null,
   "outputs": [],
   "source": [
    "#zip realize the one to one map from the former list to the latter list\n",
    "#dict make the map as a dictionary\n",
    "type_map = dict(zip(train_label['type'].unique(), np.arange(3)))\n",
    "# rev means a reversed map relation\n",
    "type_map_rev = {v:k for k,v in type_map.items()} \n",
    "train_label['type'] = train_label['type'].map(type_map)\n",
    "#the data of type was now described by numbers as 0,1,2 "
   ],
   "metadata": {
    "collapsed": false,
    "pycharm": {
     "name": "#%%\n"
    }
   }
  },
  {
   "cell_type": "code",
   "execution_count": null,
   "outputs": [],
   "source": [
    "train_label = extract_feature(train, train_label)\n",
    "b=train.groupby('ship')['x','y'].agg({'diff_time':lambda x: np.sum(np.sqrt(pow(x['x'].diff(),2) + pow(x['y'].diff(),2)))}).reset_index()"
   ],
   "metadata": {
    "collapsed": false,
    "pycharm": {
     "name": "#%%\n"
    }
   }
  },
  {
   "cell_type": "code",
   "execution_count": null,
   "outputs": [],
   "source": [
    "# b.reset_index(level=0,drop=True,inplace=True)\n",
    "train_label['dist']=b['diff_time']['x']\n",
    "train_label['dist']"
   ],
   "metadata": {
    "collapsed": false,
    "pycharm": {
     "name": "#%%\n"
    }
   }
  },
  {
   "cell_type": "code",
   "execution_count": null,
   "outputs": [],
   "source": [
    "test_label = extract_feature(test, test_label)\n",
    "b=test.groupby('ship')['x','y'].agg({'diff_time':lambda x: np.sum(np.sqrt(pow(x['x'].diff(),2) + pow(x['y'].diff(),2)))}).reset_index()"
   ],
   "metadata": {
    "collapsed": false,
    "pycharm": {
     "name": "#%%\n"
    }
   }
  },
  {
   "cell_type": "code",
   "execution_count": null,
   "outputs": [],
   "source": [
    "# b.reset_index(level=0,drop=True,inplace=True)\n",
    "test_label['dist']=b['diff_time']['x']"
   ],
   "metadata": {
    "collapsed": false,
    "pycharm": {
     "name": "#%%\n"
    }
   }
  },
  {
   "cell_type": "code",
   "execution_count": null,
   "outputs": [],
   "source": [
    "\n",
    "features = [x for x in train_label.columns if x not in ['ship','type','time','diff_time','date']]\n",
    "target = 'type'"
   ],
   "metadata": {
    "collapsed": false,
    "pycharm": {
     "name": "#%%\n"
    }
   }
  },
  {
   "cell_type": "code",
   "execution_count": null,
   "outputs": [],
   "source": [
    "print(len(features), ','.join(features))"
   ],
   "metadata": {
    "collapsed": false,
    "pycharm": {
     "name": "#%%\n"
    }
   }
  },
  {
   "cell_type": "code",
   "execution_count": null,
   "outputs": [],
   "source": [
    "params = {\n",
    "    'n_estimators': 5000,\n",
    "    'boosting_type': 'gbdt',\n",
    "    'objective': 'multiclass',\n",
    "    'num_class': 3,\n",
    "    'early_stopping_rounds': 100,\n",
    "}"
   ],
   "metadata": {
    "collapsed": false,
    "pycharm": {
     "name": "#%%\n"
    }
   }
  },
  {
   "cell_type": "code",
   "execution_count": null,
   "outputs": [],
   "source": [
    "fold = StratifiedKFold(n_splits=5, shuffle=True, random_state=42)\n",
    "\n",
    "X = train_label[features].copy()\n",
    "y = train_label[target]\n",
    "models = []\n",
    "pred = np.zeros((len(test_label),3))\n",
    "oof = np.zeros((len(X), 3))\n",
    "for index, (train_idx, val_idx) in enumerate(fold.split(X, y)):\n",
    "\n",
    "    train_set = lgb.Dataset(X.iloc[train_idx], y.iloc[train_idx])\n",
    "    val_set = lgb.Dataset(X.iloc[val_idx], y.iloc[val_idx])\n",
    "\n",
    "    model = lgb.train(params, train_set, valid_sets=[train_set, val_set], verbose_eval=100)\n",
    "    models.append(model)\n",
    "    val_pred = model.predict(X.iloc[val_idx])\n",
    "    oof[val_idx] = val_pred\n",
    "    val_y = y.iloc[val_idx]\n",
    "    val_pred = np.argmax(val_pred, axis=1)\n",
    "    print(index, 'val f1', metrics.f1_score(val_y, val_pred, average='macro'))\n",
    "    # 0.8695539641133697\n",
    "    # 0.8866211724839532\n",
    "\n",
    "    test_pred = model.predict(test_label[features])\n",
    "    pred += test_pred/5"
   ],
   "metadata": {
    "collapsed": false,
    "pycharm": {
     "name": "#%%\n"
    }
   }
  },
  {
   "cell_type": "code",
   "execution_count": null,
   "outputs": [],
   "source": [
    "oof = np.argmax(oof, axis=1)\n",
    "print('oof f1', metrics.f1_score(oof, y, average='macro'))\n",
    "# 0.8658824154822908"
   ],
   "metadata": {
    "collapsed": false,
    "pycharm": {
     "name": "#%%\n"
    }
   }
  },
  {
   "cell_type": "code",
   "execution_count": null,
   "outputs": [],
   "source": [
    "pred = np.argmax(pred, axis=1)\n",
    "sub = test_label[['ship']]\n",
    "sub['pred'] = pred\n",
    "\n",
    "print(sub['pred'].value_counts(1))\n",
    "sub['pred'] = sub['pred'].map(type_map_rev)\n",
    "sub.to_csv('result.csv', index=None, header=None)"
   ],
   "metadata": {
    "collapsed": false,
    "pycharm": {
     "name": "#%%\n"
    }
   }
  },
  {
   "cell_type": "code",
   "execution_count": null,
   "outputs": [],
   "source": [
    "ret = []\n",
    "for index, model in enumerate(models):\n",
    "    df = pd.DataFrame()\n",
    "    df['name'] = model.feature_name()\n",
    "    df['score'] = model.feature_importance()\n",
    "    df['fold'] = index\n",
    "    ret.append(df)\n",
    "    \n",
    "df = pd.concat(ret)"
   ],
   "metadata": {
    "collapsed": false,
    "pycharm": {
     "name": "#%%\n"
    }
   }
  },
  {
   "cell_type": "code",
   "execution_count": null,
   "outputs": [],
   "source": [
    "df = df.groupby('name', as_index=False)['score'].mean()\n",
    "df = df.sort_values(['score'], ascending=False)"
   ],
   "metadata": {
    "collapsed": false,
    "pycharm": {
     "name": "#%%\n"
    }
   }
  },
  {
   "cell_type": "code",
   "execution_count": null,
   "outputs": [],
   "source": [
    "df\n",
    "\n",
    "\n"
   ],
   "metadata": {
    "collapsed": false,
    "pycharm": {
     "name": "#%%\n"
    }
   }
  }
 ],
 "metadata": {
  "kernelspec": {
   "display_name": "Python 3",
   "language": "python",
   "name": "python3"
  },
  "language_info": {
   "codemirror_mode": {
    "name": "ipython",
    "version": 2
   },
   "file_extension": ".py",
   "mimetype": "text/x-python",
   "name": "python",
   "nbconvert_exporter": "python",
   "pygments_lexer": "ipython2",
   "version": "2.7.6"
  },
  "pycharm": {
   "stem_cell": {
    "cell_type": "raw",
    "source": [],
    "metadata": {
     "collapsed": false
    }
   }
  }
 },
 "nbformat": 4,
 "nbformat_minor": 0
}